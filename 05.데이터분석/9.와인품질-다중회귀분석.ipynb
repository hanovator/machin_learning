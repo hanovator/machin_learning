{
 "cells": [
  {
   "cell_type": "code",
   "execution_count": null,
   "metadata": {},
   "outputs": [],
   "source": [
    "import pandas as pd\n",
    "# 필드 구분자를 ; 으로 설정, csv 파일 로딩\n",
    "df=pd.read_csv(\"d:/data/wine/winequality-red.csv\",sep=\";\")\n",
    "df.head()"
   ]
  },
  {
   "cell_type": "code",
   "execution_count": null,
   "metadata": {},
   "outputs": [],
   "source": [
    "df.describe()"
   ]
  },
  {
   "cell_type": "code",
   "execution_count": null,
   "metadata": {},
   "outputs": [],
   "source": [
    "#독립변수 0~10\n",
    "#종속변수 quality\n",
    "X=df.iloc[:, 0:11] # 독립변수(모든 행, 0~10 필드)\n",
    "y=df[\"quality\"] # 종속변수\n",
    "print(X.head())\n",
    "print(y.head())"
   ]
  },
  {
   "cell_type": "code",
   "execution_count": null,
   "metadata": {},
   "outputs": [],
   "source": [
    "from sklearn.model_selection import train_test_split\n",
    "from sklearn.linear_model import LinearRegression\n",
    "# 과적합화(over fitting) 방지를 위해 학습용:검증용 데이터셋 구분\n",
    "X_train, X_test, y_train, y_test=\\\n",
    "    train_test_split(X,y,test_size=0.2,random_state=1)\n",
    "# 다중회귀분석 모델을 만들고 학습용 데이터를 입력하여 모델을 훈련함(기계학습)\n",
    "model=LinearRegression().fit(X_train, y_train)"
   ]
  },
  {
   "cell_type": "code",
   "execution_count": null,
   "metadata": {},
   "outputs": [],
   "source": [
    "# 만들어진 모델에 데이터를 입력하여 예측 정확도를 평가함\n",
    "print(\"학습용:\",model.score(X_train,y_train))\n",
    "print(\"검증용:\",model.score(X_test,y_test))"
   ]
  },
  {
   "cell_type": "code",
   "execution_count": null,
   "metadata": {},
   "outputs": [],
   "source": [
    "coef=model.coef_  #상관계수(기울기)\n",
    "intercept=model.intercept_ #절편\n",
    "print(coef)\n",
    "print(intercept)\n"
   ]
  },
  {
   "cell_type": "code",
   "execution_count": null,
   "metadata": {},
   "outputs": [],
   "source": [
    "%matplotlib inline\n",
    "import matplotlib.pyplot as plt\n",
    "from matplotlib import font_manager,rc\n",
    "font_name=font_manager.FontProperties(fname=\"c:/windows/fonts/malgun.ttf\").get_name()\n",
    "rc(\"font\",family=font_name)\n",
    "# 회귀분석 모델에 데이터를 입력하여 와인품질을 예측\n",
    "pred=model.predict(X)\n",
    "plt.scatter(y, pred) #실제품질과 예측품질을 그래프로 출력\n",
    "plt.xlabel(\"실제 품질\")\n",
    "plt.ylabel(\"예측 품질\")\n",
    "plt.title(\"와인 품질 예측 비교\")\n",
    "plt.show()"
   ]
  },
  {
   "cell_type": "code",
   "execution_count": null,
   "metadata": {
    "scrolled": false
   },
   "outputs": [],
   "source": [
    "import statsmodels.formula.api as sm\n",
    "model_boston2=sm.OLS(y, X) # 회귀분석 모델 생성\n",
    "# 회귀분석 모델에 데이터를 입력하여 기계학습 실시\n",
    "result_boston2=model_boston2.fit()\n",
    "# 생성된 분석 모델의 해석 \n",
    "print(\"회귀계수:\\n\", result_boston2.params) # 기울기(변수의 영향력)\n",
    "print(\"R-squared\\n\", result_boston2.rsquared) #모델의 설명력 98.7%\n",
    "print(\"p-values\\n\", result_boston2.pvalues) # 각 변수의 유의확률\n",
    "print(result_boston2.summary()) # 모델의 요약 정보 출력\n",
    "# 회귀계수를 볼 때 가장 영향력이 높은 변수는 \n",
    "#   density(와인의 무게감) > chlorides(염화물)- \n",
    "#   > volatile acidity(휘발성 산도)- > sulphates(황산염) 순\n",
    "# pvalue가 유의하지 않은 변수들 : fixed acidity, citric acid, residual sugar"
   ]
  },
  {
   "cell_type": "code",
   "execution_count": null,
   "metadata": {},
   "outputs": [],
   "source": []
  }
 ],
 "metadata": {
  "kernelspec": {
   "display_name": "Python 3",
   "language": "python",
   "name": "python3"
  },
  "language_info": {
   "codemirror_mode": {
    "name": "ipython",
    "version": 3
   },
   "file_extension": ".py",
   "mimetype": "text/x-python",
   "name": "python",
   "nbconvert_exporter": "python",
   "pygments_lexer": "ipython3",
   "version": "3.7.3"
  }
 },
 "nbformat": 4,
 "nbformat_minor": 2
}
