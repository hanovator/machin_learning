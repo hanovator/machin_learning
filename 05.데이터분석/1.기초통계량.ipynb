{
 "cells": [
  {
   "cell_type": "code",
   "execution_count": 1,
   "metadata": {},
   "outputs": [
    {
     "name": "stdout",
     "output_type": "stream",
     "text": [
      "4.333333333333333\n"
     ]
    }
   ],
   "source": [
    "import numpy as np\n",
    "from scipy import stats\n",
    "\n",
    "data=np.array([4,5,1,2,7,2,6,9,3])\n",
    "a=np.mean(data) #평균값\n",
    "print(a)"
   ]
  },
  {
   "cell_type": "code",
   "execution_count": 2,
   "metadata": {},
   "outputs": [
    {
     "name": "stdout",
     "output_type": "stream",
     "text": [
      "4.0\n"
     ]
    }
   ],
   "source": [
    "b=np.median(data) #중위수\n",
    "print(b)"
   ]
  },
  {
   "cell_type": "code",
   "execution_count": 6,
   "metadata": {},
   "outputs": [
    {
     "name": "stdout",
     "output_type": "stream",
     "text": [
      "ModeResult(mode=array([2]), count=array([2]))\n",
      "2\n"
     ]
    }
   ],
   "source": [
    "c=stats.mode(data) \n",
    "print(c)\n",
    "print(c[0][0]) #최빈값"
   ]
  },
  {
   "cell_type": "code",
   "execution_count": 7,
   "metadata": {},
   "outputs": [
    {
     "name": "stdout",
     "output_type": "stream",
     "text": [
      "82.875\n",
      "396\n",
      "19.8997487421324\n"
     ]
    }
   ],
   "source": [
    "from statistics import variance,stdev\n",
    "points=np.array([20,80,90,95,87,89,95,99,97,100,60,70,77,88,89,90])\n",
    "print(np.mean(points))\n",
    "a=variance(points) #분산\n",
    "print(a)\n",
    "b=stdev(points) #표준편차\n",
    "print(b)"
   ]
  },
  {
   "cell_type": "code",
   "execution_count": 16,
   "metadata": {},
   "outputs": [
    {
     "name": "stdout",
     "output_type": "stream",
     "text": [
      "76.0\n",
      "76.0\n",
      "30\n",
      "106\n",
      "5.477225575051661\n",
      "10.295630140987\n"
     ]
    }
   ],
   "source": [
    "a=np.array([70,80,80,80,70])\n",
    "b=np.array([65,75,88,88,75,65])\n",
    "#평균\n",
    "print(np.mean(a))\n",
    "print(np.mean(b))\n",
    "#분산\n",
    "print(variance(a))\n",
    "print(variance(b))\n",
    "#표준편차\n",
    "print(stdev(a))\n",
    "print(stdev(b))"
   ]
  },
  {
   "cell_type": "code",
   "execution_count": 17,
   "metadata": {},
   "outputs": [
    {
     "name": "stdout",
     "output_type": "stream",
     "text": [
      "80\n"
     ]
    }
   ],
   "source": [
    "# 범위(최대값-최소값)\n",
    "c=np.max(points) - np.min(points)\n",
    "print(c)"
   ]
  },
  {
   "cell_type": "code",
   "execution_count": 18,
   "metadata": {},
   "outputs": [
    {
     "name": "stdout",
     "output_type": "stream",
     "text": [
      "100 20 80\n"
     ]
    }
   ],
   "source": [
    "a=np.max(points) #최대값\n",
    "b=np.min(points) #최소값\n",
    "c=a-b #범위\n",
    "print(a,b,c)"
   ]
  },
  {
   "cell_type": "code",
   "execution_count": 19,
   "metadata": {},
   "outputs": [
    {
     "name": "stdout",
     "output_type": "stream",
     "text": [
      "20% 77.0\n",
      "80% 95.0\n",
      "100% 100.0\n"
     ]
    }
   ],
   "source": [
    "#백분위수\n",
    "for val in [20,80,100]:\n",
    "    d=np.percentile(points,val)\n",
    "    print(str(val)+\"%\",d)"
   ]
  },
  {
   "cell_type": "code",
   "execution_count": 20,
   "metadata": {},
   "outputs": [
    {
     "name": "stdout",
     "output_type": "stream",
     "text": [
      "79.25\n",
      "89.0\n",
      "95.0\n",
      "15.75\n"
     ]
    }
   ],
   "source": [
    "a,b,c=np.percentile(points,[25,50,75])\n",
    "print(a) #1사분위수\n",
    "print(b) #2사분위수(중위수)\n",
    "print(c) #3사분위수\n",
    "print(c-a) #IQR(InterQuartile Range)"
   ]
  },
  {
   "cell_type": "code",
   "execution_count": null,
   "metadata": {},
   "outputs": [],
   "source": []
  }
 ],
 "metadata": {
  "kernelspec": {
   "display_name": "Python 3",
   "language": "python",
   "name": "python3"
  },
  "language_info": {
   "codemirror_mode": {
    "name": "ipython",
    "version": 3
   },
   "file_extension": ".py",
   "mimetype": "text/x-python",
   "name": "python",
   "nbconvert_exporter": "python",
   "pygments_lexer": "ipython3",
   "version": "3.7.3"
  }
 },
 "nbformat": 4,
 "nbformat_minor": 2
}
