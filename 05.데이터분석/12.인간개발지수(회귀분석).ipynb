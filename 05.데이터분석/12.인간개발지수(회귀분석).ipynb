{
 "cells": [
  {
   "cell_type": "code",
   "execution_count": 4,
   "metadata": {},
   "outputs": [],
   "source": [
    "import pandas as pd\n",
    "import matplotlib.pyplot as plt\n",
    "import seaborn as sns\n",
    "from scipy import stats"
   ]
  },
  {
   "cell_type": "code",
   "execution_count": 6,
   "metadata": {},
   "outputs": [
    {
     "data": {
      "text/html": [
       "<div>\n",
       "<style scoped>\n",
       "    .dataframe tbody tr th:only-of-type {\n",
       "        vertical-align: middle;\n",
       "    }\n",
       "\n",
       "    .dataframe tbody tr th {\n",
       "        vertical-align: top;\n",
       "    }\n",
       "\n",
       "    .dataframe thead th {\n",
       "        text-align: right;\n",
       "    }\n",
       "</style>\n",
       "<table border=\"1\" class=\"dataframe\">\n",
       "  <thead>\n",
       "    <tr style=\"text-align: right;\">\n",
       "      <th></th>\n",
       "      <th>Life expectancy at birth</th>\n",
       "      <th>Mean years of schooling</th>\n",
       "      <th>Expected years of schooling</th>\n",
       "      <th>GNI</th>\n",
       "      <th>Export</th>\n",
       "      <th>HDI</th>\n",
       "    </tr>\n",
       "  </thead>\n",
       "  <tbody>\n",
       "    <tr>\n",
       "      <th>0</th>\n",
       "      <td>48.4</td>\n",
       "      <td>3.5</td>\n",
       "      <td>8.2</td>\n",
       "      <td>280</td>\n",
       "      <td>85.119671</td>\n",
       "      <td>0.286</td>\n",
       "    </tr>\n",
       "    <tr>\n",
       "      <th>1</th>\n",
       "      <td>54.7</td>\n",
       "      <td>1.4</td>\n",
       "      <td>4.9</td>\n",
       "      <td>641</td>\n",
       "      <td>42.473864</td>\n",
       "      <td>0.295</td>\n",
       "    </tr>\n",
       "    <tr>\n",
       "      <th>2</th>\n",
       "      <td>50.4</td>\n",
       "      <td>2.7</td>\n",
       "      <td>10.5</td>\n",
       "      <td>368</td>\n",
       "      <td>42.473864</td>\n",
       "      <td>0.316</td>\n",
       "    </tr>\n",
       "    <tr>\n",
       "      <th>3</th>\n",
       "      <td>50.2</td>\n",
       "      <td>1.2</td>\n",
       "      <td>9.2</td>\n",
       "      <td>898</td>\n",
       "      <td>25.251291</td>\n",
       "      <td>0.322</td>\n",
       "    </tr>\n",
       "    <tr>\n",
       "      <th>4</th>\n",
       "      <td>49.6</td>\n",
       "      <td>1.5</td>\n",
       "      <td>7.2</td>\n",
       "      <td>1105</td>\n",
       "      <td>43.900000</td>\n",
       "      <td>0.328</td>\n",
       "    </tr>\n",
       "  </tbody>\n",
       "</table>\n",
       "</div>"
      ],
      "text/plain": [
       "   Life expectancy at birth  Mean years of schooling  \\\n",
       "0                      48.4                      3.5   \n",
       "1                      54.7                      1.4   \n",
       "2                      50.4                      2.7   \n",
       "3                      50.2                      1.2   \n",
       "4                      49.6                      1.5   \n",
       "\n",
       "   Expected years of schooling   GNI     Export    HDI  \n",
       "0                          8.2   280  85.119671  0.286  \n",
       "1                          4.9   641  42.473864  0.295  \n",
       "2                         10.5   368  42.473864  0.316  \n",
       "3                          9.2   898  25.251291  0.322  \n",
       "4                          7.2  1105  43.900000  0.328  "
      ]
     },
     "execution_count": 6,
     "metadata": {},
     "output_type": "execute_result"
    }
   ],
   "source": [
    "df=pd.read_csv(\"d:/learn/python_statistic/data/hdi-data2.csv\") #csv 로딩\n",
    "df.head() "
   ]
  },
  {
   "cell_type": "code",
   "execution_count": 9,
   "metadata": {},
   "outputs": [],
   "source": [
    "train_cols = df.columns[0:5]\n",
    "X = df[train_cols]\n",
    "y = df[\"HDI\"]\n"
   ]
  },
  {
   "cell_type": "code",
   "execution_count": 10,
   "metadata": {},
   "outputs": [
    {
     "data": {
      "text/plain": [
       "LinregressResult(slope=0.016124893707708518, intercept=-0.4599942026967768, rvalue=0.9015129749487512, pvalue=3.284775456269812e-69, stderr=0.000569086352615306)"
      ]
     },
     "execution_count": 10,
     "metadata": {},
     "output_type": "execute_result"
    }
   ],
   "source": [
    "x2=df[\"Life expectancy at birth\"].values  #독립변수\n",
    "y2=df[\"HDI\"].values #종속변수\n",
    "result=stats.linregress(x2,y2) #단순회귀분석\n",
    "result\n",
    "# rvalue 90.1% 강한 양의 상관관계\n",
    "# pvalue 0.05 95% 신뢰수준 하에서, 99% 신뢰수준 하에서 유의"
   ]
  },
  {
   "cell_type": "code",
   "execution_count": 11,
   "metadata": {},
   "outputs": [
    {
     "data": {
      "text/plain": [
       "Text(0, 0.5, 'HDI')"
      ]
     },
     "execution_count": 11,
     "metadata": {},
     "output_type": "execute_result"
    },
    {
     "data": {
      "image/png": "[encoded data removed]",
      "text/plain": [
       "<Figure size 432x288 with 1 Axes>"
      ]
     },
     "metadata": {
      "needs_background": "light"
     },
     "output_type": "display_data"
    }
   ],
   "source": [
    "slope,intercept,r_value,p_value,stderr=stats.linregress(x2,y2)\n",
    "plt.scatter(x2,y2) #산점도\n",
    "plt.plot(x2,slope*x2+intercept,c=\"red\") #회귀선\n",
    "plt.xlabel(\"Life expectancy at birth\") #x축 타이틀\n",
    "plt.ylabel(\"HDI\") #y축 타이틀"
   ]
  },
  {
   "cell_type": "code",
   "execution_count": 12,
   "metadata": {},
   "outputs": [
    {
     "data": {
      "text/plain": [
       "LinregressResult(slope=0.05232467201381997, intercept=0.26456717569801413, rvalue=0.9005296673824348, pvalue=7.857605621580009e-69, stderr=0.0018574055433612294)"
      ]
     },
     "execution_count": 12,
     "metadata": {},
     "output_type": "execute_result"
    }
   ],
   "source": [
    "x2=df[\"Mean years of schooling\"].values  #독립변수\n",
    "y2=df[\"HDI\"].values #종속변수\n",
    "result=stats.linregress(x2,y2) #단순회귀분석\n",
    "result\n",
    "# rvalue 90% 강한 양의 상관관계\n",
    "# pvalue 0.05 95% 신뢰수준 하에서, 99% 신뢰수준 하에서 유의"
   ]
  },
  {
   "cell_type": "code",
   "execution_count": 13,
   "metadata": {},
   "outputs": [
    {
     "data": {
      "text/plain": [
       "Text(0, 0.5, 'HDI')"
      ]
     },
     "execution_count": 13,
     "metadata": {},
     "output_type": "execute_result"
    },
    {
     "data": {
      "image/png": "[encoded data removed]",
      "text/plain": [
       "<Figure size 432x288 with 1 Axes>"
      ]
     },
     "metadata": {
      "needs_background": "light"
     },
     "output_type": "display_data"
    }
   ],
   "source": [
    "slope,intercept,r_value,p_value,stderr=stats.linregress(x2,y2)\n",
    "plt.scatter(x2,y2) #산점도\n",
    "plt.plot(x2,slope*x2+intercept,c=\"red\") #회귀선\n",
    "plt.xlabel(\"Mean years of schooling\") #x축 타이틀\n",
    "plt.ylabel(\"HDI\") #y축 타이틀"
   ]
  },
  {
   "cell_type": "code",
   "execution_count": null,
   "metadata": {},
   "outputs": [],
   "source": []
  },
  {
   "cell_type": "code",
   "execution_count": 14,
   "metadata": {},
   "outputs": [
    {
     "data": {
      "text/plain": [
       "LinregressResult(slope=0.05241654962397508, intercept=0.015688076086450953, rvalue=0.9013827197759505, pvalue=3.6890187212890467e-69, stderr=0.0018513333268186474)"
      ]
     },
     "execution_count": 14,
     "metadata": {},
     "output_type": "execute_result"
    }
   ],
   "source": [
    "x2=df[\"Expected years of schooling\"].values  #독립변수\n",
    "y2=df[\"HDI\"].values #종속변수\n",
    "result=stats.linregress(x2,y2) #단순회귀분석\n",
    "result\n",
    "# rvalue 90.1% 강한 양의 상관관계\n",
    "# pvalue 0.05 95% 신뢰수준 하에서, 99% 신뢰수준 하에서 유의"
   ]
  },
  {
   "cell_type": "code",
   "execution_count": 15,
   "metadata": {},
   "outputs": [
    {
     "data": {
      "text/plain": [
       "Text(0, 0.5, 'HDI')"
      ]
     },
     "execution_count": 15,
     "metadata": {},
     "output_type": "execute_result"
    },
    {
     "data": {
      "image/png": "[encoded data removed]",
      "text/plain": [
       "<Figure size 432x288 with 1 Axes>"
      ]
     },
     "metadata": {
      "needs_background": "light"
     },
     "output_type": "display_data"
    }
   ],
   "source": [
    "slope,intercept,r_value,p_value,stderr=stats.linregress(x2,y2)\n",
    "plt.scatter(x2,y2) #산점도\n",
    "plt.plot(x2,slope*x2+intercept,c=\"red\") #회귀선\n",
    "plt.xlabel(\"Expected years of schooling\") #x축 타이틀\n",
    "plt.ylabel(\"HDI\") #y축 타이틀"
   ]
  },
  {
   "cell_type": "code",
   "execution_count": null,
   "metadata": {},
   "outputs": [],
   "source": []
  },
  {
   "cell_type": "code",
   "execution_count": 16,
   "metadata": {},
   "outputs": [
    {
     "data": {
      "text/plain": [
       "LinregressResult(slope=7.789292151991572e-06, intercept=0.5632858689341738, rvalue=0.7003465074525178, pvalue=6.793224486797103e-29, stderr=5.836836801269087e-07)"
      ]
     },
     "execution_count": 16,
     "metadata": {},
     "output_type": "execute_result"
    }
   ],
   "source": [
    "x2=df[\"GNI\"].values  #독립변수\n",
    "y2=df[\"HDI\"].values #종속변수\n",
    "result=stats.linregress(x2,y2) #단순회귀분석\n",
    "result\n",
    "# rvalue 70.0% 강한 양의 상관관계\n",
    "# pvalue 0.05 95% 신뢰수준 하에서, 99% 신뢰수준 하에서 유의"
   ]
  },
  {
   "cell_type": "code",
   "execution_count": 17,
   "metadata": {},
   "outputs": [
    {
     "data": {
      "text/plain": [
       "Text(0, 0.5, 'HDI')"
      ]
     },
     "execution_count": 17,
     "metadata": {},
     "output_type": "execute_result"
    },
    {
     "data": {
      "image/png": "[encoded data removed]",
      "text/plain": [
       "<Figure size 432x288 with 1 Axes>"
      ]
     },
     "metadata": {
      "needs_background": "light"
     },
     "output_type": "display_data"
    }
   ],
   "source": [
    "slope,intercept,r_value,p_value,stderr=stats.linregress(x2,y2)\n",
    "plt.scatter(x2,y2) #산점도\n",
    "plt.plot(x2,slope*x2+intercept,c=\"red\") #회귀선\n",
    "plt.xlabel(\"GNI\") #x축 타이틀\n",
    "plt.ylabel(\"HDI\") #y축 타이틀"
   ]
  },
  {
   "cell_type": "code",
   "execution_count": null,
   "metadata": {},
   "outputs": [],
   "source": []
  },
  {
   "cell_type": "code",
   "execution_count": 18,
   "metadata": {},
   "outputs": [
    {
     "data": {
      "text/plain": [
       "LinregressResult(slope=0.0014930000842694835, intercept=0.5994367855376995, rvalue=0.22835956515234107, pvalue=0.0016695578488607908, stderr=0.00046797753471524697)"
      ]
     },
     "execution_count": 18,
     "metadata": {},
     "output_type": "execute_result"
    }
   ],
   "source": [
    "x2=df[\"Export\"].values  #독립변수\n",
    "y2=df[\"HDI\"].values #종속변수\n",
    "result=stats.linregress(x2,y2) #단순회귀분석\n",
    "result\n",
    "# rvalue 22.8% 강한 양의 상관관계\n",
    "# pvalue 0.05 95% 신뢰수준 하에서, 99% 신뢰수준 하에서 유의"
   ]
  },
  {
   "cell_type": "code",
   "execution_count": 19,
   "metadata": {},
   "outputs": [
    {
     "data": {
      "text/plain": [
       "Text(0, 0.5, 'HDI')"
      ]
     },
     "execution_count": 19,
     "metadata": {},
     "output_type": "execute_result"
    },
    {
     "data": {
      "image/png": "[encoded data removed]",
      "text/plain": [
       "<Figure size 432x288 with 1 Axes>"
      ]
     },
     "metadata": {
      "needs_background": "light"
     },
     "output_type": "display_data"
    }
   ],
   "source": [
    "slope,intercept,r_value,p_value,stderr=stats.linregress(x2,y2)\n",
    "plt.scatter(x2,y2) #산점도\n",
    "plt.plot(x2,slope*x2+intercept,c=\"red\") #회귀선\n",
    "plt.xlabel(\"Export\") #x축 타이틀\n",
    "plt.ylabel(\"HDI\") #y축 타이틀"
   ]
  },
  {
   "cell_type": "code",
   "execution_count": 20,
   "metadata": {},
   "outputs": [],
   "source": [
    "train_cols=df.columns[0:5] #독립변수 0~4 필드\n",
    "X=df[train_cols]\n",
    "y=df[\"HDI\"] #종속변수"
   ]
  },
  {
   "cell_type": "code",
   "execution_count": 21,
   "metadata": {},
   "outputs": [
    {
     "data": {
      "text/html": [
       "<table class=\"simpletable\">\n",
       "<caption>OLS Regression Results</caption>\n",
       "<tr>\n",
       "  <th>Dep. Variable:</th>           <td>HDI</td>       <th>  R-squared:         </th> <td>   0.998</td> \n",
       "</tr>\n",
       "<tr>\n",
       "  <th>Model:</th>                   <td>OLS</td>       <th>  Adj. R-squared:    </th> <td>   0.998</td> \n",
       "</tr>\n",
       "<tr>\n",
       "  <th>Method:</th>             <td>Least Squares</td>  <th>  F-statistic:       </th> <td>1.710e+04</td>\n",
       "</tr>\n",
       "<tr>\n",
       "  <th>Date:</th>             <td>Wed, 21 Aug 2019</td> <th>  Prob (F-statistic):</th> <td>3.88e-241</td>\n",
       "</tr>\n",
       "<tr>\n",
       "  <th>Time:</th>                 <td>17:45:35</td>     <th>  Log-Likelihood:    </th> <td>  380.95</td> \n",
       "</tr>\n",
       "<tr>\n",
       "  <th>No. Observations:</th>      <td>   187</td>      <th>  AIC:               </th> <td>  -751.9</td> \n",
       "</tr>\n",
       "<tr>\n",
       "  <th>Df Residuals:</th>          <td>   182</td>      <th>  BIC:               </th> <td>  -735.7</td> \n",
       "</tr>\n",
       "<tr>\n",
       "  <th>Df Model:</th>              <td>     5</td>      <th>                     </th>     <td> </td>    \n",
       "</tr>\n",
       "<tr>\n",
       "  <th>Covariance Type:</th>      <td>nonrobust</td>    <th>                     </th>     <td> </td>    \n",
       "</tr>\n",
       "</table>\n",
       "<table class=\"simpletable\">\n",
       "<tr>\n",
       "               <td></td>                  <th>coef</th>     <th>std err</th>      <th>t</th>      <th>P>|t|</th>  <th>[0.025</th>    <th>0.975]</th>  \n",
       "</tr>\n",
       "<tr>\n",
       "  <th>Life expectancy at birth</th>    <td>    0.0044</td> <td>    0.000</td> <td>   19.295</td> <td> 0.000</td> <td>    0.004</td> <td>    0.005</td>\n",
       "</tr>\n",
       "<tr>\n",
       "  <th>Mean years of schooling</th>     <td>    0.0234</td> <td>    0.001</td> <td>   16.450</td> <td> 0.000</td> <td>    0.021</td> <td>    0.026</td>\n",
       "</tr>\n",
       "<tr>\n",
       "  <th>Expected years of schooling</th> <td>    0.0123</td> <td>    0.002</td> <td>    7.595</td> <td> 0.000</td> <td>    0.009</td> <td>    0.016</td>\n",
       "</tr>\n",
       "<tr>\n",
       "  <th>GNI</th>                         <td> 2.507e-06</td> <td> 1.81e-07</td> <td>   13.872</td> <td> 0.000</td> <td> 2.15e-06</td> <td> 2.86e-06</td>\n",
       "</tr>\n",
       "<tr>\n",
       "  <th>Export</th>                      <td>   -0.0001</td> <td>  9.3e-05</td> <td>   -1.133</td> <td> 0.259</td> <td>   -0.000</td> <td> 7.82e-05</td>\n",
       "</tr>\n",
       "</table>\n",
       "<table class=\"simpletable\">\n",
       "<tr>\n",
       "  <th>Omnibus:</th>       <td>62.535</td> <th>  Durbin-Watson:     </th> <td>   1.354</td>\n",
       "</tr>\n",
       "<tr>\n",
       "  <th>Prob(Omnibus):</th> <td> 0.000</td> <th>  Jarque-Bera (JB):  </th> <td> 162.700</td>\n",
       "</tr>\n",
       "<tr>\n",
       "  <th>Skew:</th>          <td>-1.439</td> <th>  Prob(JB):          </th> <td>4.68e-36</td>\n",
       "</tr>\n",
       "<tr>\n",
       "  <th>Kurtosis:</th>      <td> 6.550</td> <th>  Cond. No.          </th> <td>1.68e+04</td>\n",
       "</tr>\n",
       "</table><br/><br/>Warnings:<br/>[1] Standard Errors assume that the covariance matrix of the errors is correctly specified.<br/>[2] The condition number is large, 1.68e+04. This might indicate that there are<br/>strong multicollinearity or other numerical problems."
      ],
      "text/plain": [
       "<class 'statsmodels.iolib.summary.Summary'>\n",
       "\"\"\"\n",
       "                            OLS Regression Results                            \n",
       "==============================================================================\n",
       "Dep. Variable:                    HDI   R-squared:                       0.998\n",
       "Model:                            OLS   Adj. R-squared:                  0.998\n",
       "Method:                 Least Squares   F-statistic:                 1.710e+04\n",
       "Date:                Wed, 21 Aug 2019   Prob (F-statistic):          3.88e-241\n",
       "Time:                        17:45:35   Log-Likelihood:                 380.95\n",
       "No. Observations:                 187   AIC:                            -751.9\n",
       "Df Residuals:                     182   BIC:                            -735.7\n",
       "Df Model:                           5                                         \n",
       "Covariance Type:            nonrobust                                         \n",
       "===============================================================================================\n",
       "                                  coef    std err          t      P>|t|      [0.025      0.975]\n",
       "-----------------------------------------------------------------------------------------------\n",
       "Life expectancy at birth        0.0044      0.000     19.295      0.000       0.004       0.005\n",
       "Mean years of schooling         0.0234      0.001     16.450      0.000       0.021       0.026\n",
       "Expected years of schooling     0.0123      0.002      7.595      0.000       0.009       0.016\n",
       "GNI                          2.507e-06   1.81e-07     13.872      0.000    2.15e-06    2.86e-06\n",
       "Export                         -0.0001    9.3e-05     -1.133      0.259      -0.000    7.82e-05\n",
       "==============================================================================\n",
       "Omnibus:                       62.535   Durbin-Watson:                   1.354\n",
       "Prob(Omnibus):                  0.000   Jarque-Bera (JB):              162.700\n",
       "Skew:                          -1.439   Prob(JB):                     4.68e-36\n",
       "Kurtosis:                       6.550   Cond. No.                     1.68e+04\n",
       "==============================================================================\n",
       "\n",
       "Warnings:\n",
       "[1] Standard Errors assume that the covariance matrix of the errors is correctly specified.\n",
       "[2] The condition number is large, 1.68e+04. This might indicate that there are\n",
       "strong multicollinearity or other numerical problems.\n",
       "\"\"\""
      ]
     },
     "execution_count": 21,
     "metadata": {},
     "output_type": "execute_result"
    }
   ],
   "source": [
    "import statsmodels.formula.api as sm\n",
    "\n",
    "model=sm.OLS(y,X) #다중회귀분석 모델 생성\n",
    "result=model.fit() #학습\n",
    "\n",
    "result.summary()\n",
    "#R-squared: 0.998   99.8%의 설명력\n",
    "#p-value : Export는 유의하지 않은 것으로 나타남\n",
    "#변수의 영향력(coef) : \n",
    "# Mean years of schooling > Expected years of schooling "
   ]
  },
  {
   "cell_type": "code",
   "execution_count": 24,
   "metadata": {},
   "outputs": [],
   "source": [
    "from sklearn.model_selection import train_test_split\n",
    "from sklearn.linear_model import LinearRegression\n",
    "\n",
    "#전체 데이터셋을 학습용:검증용 = 8:2로 구분\n",
    "X_train, X_test, y_train, y_test=train_test_split(X,y,test_size=0.2,random_state=20)\n",
    "\n",
    "#다중회귀분석 모델을 만들고 학습용 데이터를 입력하여 기계학습 실시\n",
    "model=LinearRegression().fit(X_train, y_train)"
   ]
  },
  {
   "cell_type": "code",
   "execution_count": 25,
   "metadata": {},
   "outputs": [
    {
     "name": "stdout",
     "output_type": "stream",
     "text": [
      "0.9790578416587638\n",
      "0.9413525128505122\n"
     ]
    }
   ],
   "source": [
    "print(model.score(X_train, y_train)) #학습용 데이터셋의 정확도\n",
    "print(model.score(X_test, y_test)) #검증용 데이터셋의 정확도"
   ]
  },
  {
   "cell_type": "code",
   "execution_count": 26,
   "metadata": {},
   "outputs": [
    {
     "data": {
      "text/plain": [
       "array([0.76107492, 0.51149801, 0.71584364, 0.73424758, 0.95120356,\n",
       "       0.66608294, 0.57325389, 0.69952021, 0.76989756, 0.43499239,\n",
       "       0.39845893, 0.91443711, 0.73755678, 0.7489906 , 0.42955524,\n",
       "       0.8351658 , 0.90639088, 0.79322673, 0.69680325, 0.76956403,\n",
       "       0.75430512, 0.46306677, 0.69606285, 0.97597092, 0.71856558,\n",
       "       0.88608663, 0.82286746, 0.67738645, 0.77241978, 0.4714362 ,\n",
       "       0.76896854, 0.89762381, 0.56401037, 0.52129219, 0.89047829,\n",
       "       0.60868852, 0.43512016, 0.82712574])"
      ]
     },
     "execution_count": 26,
     "metadata": {},
     "output_type": "execute_result"
    }
   ],
   "source": [
    "pred=model.predict(X_test) #검증용 데이터를 입력하여 예측값 출력\n",
    "pred"
   ]
  },
  {
   "cell_type": "code",
   "execution_count": null,
   "metadata": {},
   "outputs": [],
   "source": []
  },
  {
   "cell_type": "code",
   "execution_count": null,
   "metadata": {},
   "outputs": [],
   "source": []
  },
  {
   "cell_type": "code",
   "execution_count": null,
   "metadata": {},
   "outputs": [],
   "source": []
  },
  {
   "cell_type": "code",
   "execution_count": null,
   "metadata": {},
   "outputs": [],
   "source": []
  }
 ],
 "metadata": {
  "kernelspec": {
   "display_name": "Python 3",
   "language": "python",
   "name": "python3"
  },
  "language_info": {
   "codemirror_mode": {
    "name": "ipython",
    "version": 3
   },
   "file_extension": ".py",
   "mimetype": "text/x-python",
   "name": "python",
   "nbconvert_exporter": "python",
   "pygments_lexer": "ipython3",
   "version": "3.7.3"
  }
 },
 "nbformat": 4,
 "nbformat_minor": 2
}
