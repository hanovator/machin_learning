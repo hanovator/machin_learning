{
 "cells": [
  {
   "cell_type": "code",
   "execution_count": 4,
   "metadata": {},
   "outputs": [],
   "source": [
    "#카이제곱 검정\n",
    "import pandas as pd\n",
    "import numpy as np\n",
    "from scipy import stats"
   ]
  },
  {
   "cell_type": "code",
   "execution_count": 5,
   "metadata": {},
   "outputs": [],
   "source": [
    "data1=[4,6,17,16,8,9]\n",
    "data2=[10,10,10,10,10,10]"
   ]
  },
  {
   "cell_type": "code",
   "execution_count": 6,
   "metadata": {},
   "outputs": [
    {
     "name": "stdout",
     "output_type": "stream",
     "text": [
      "10.0\n",
      "10.0\n"
     ]
    }
   ],
   "source": [
    "#평균이 같음\n",
    "print(np.mean(data1))\n",
    "print(np.mean(data2))"
   ]
  },
  {
   "cell_type": "code",
   "execution_count": 9,
   "metadata": {},
   "outputs": [
    {
     "name": "stdout",
     "output_type": "stream",
     "text": [
      "28.4 0\n",
      "5.329165037789691 0.0\n"
     ]
    }
   ],
   "source": [
    "from statistics import variance,stdev\n",
    "a1=variance(data1) #분산\n",
    "a2=variance(data2) #분산\n",
    "b1=stdev(data1) #표준편차\n",
    "b2=stdev(data2) #표준편차\n",
    "print(a1,a2)\n",
    "print(b1,b2)"
   ]
  },
  {
   "cell_type": "code",
   "execution_count": 8,
   "metadata": {},
   "outputs": [
    {
     "data": {
      "text/plain": [
       "Power_divergenceResult(statistic=14.200000000000001, pvalue=0.014387678176921308)"
      ]
     },
     "execution_count": 8,
     "metadata": {},
     "output_type": "execute_result"
    }
   ],
   "source": [
    "#두 데이터가 통계적으로 같은지 다른지 알고 싶으면 카이제곱 검정\n",
    "chis=stats.chisquare(data1,data2)\n",
    "chis\n",
    "# pvalue가 0.05보다 큰지, 작은지 확인(95% 신뢰수준 하에서)\n",
    "# 0.05보다 크면 대립가설(내주장) 기각, 0.05보다 작으면 대립가설 채택"
   ]
  },
  {
   "cell_type": "code",
   "execution_count": null,
   "metadata": {},
   "outputs": [],
   "source": [
    "#흡연습관과 운동횟수의 상관관계 분석(카이제곱 검정)\n",
    "\n",
    "#귀무가설 : 흡연습관과 운동습관은 상관관계가 없다.\n",
    "#대립가설 : 흡연습관과 운동습관은 상관관계가 있다."
   ]
  },
  {
   "cell_type": "code",
   "execution_count": 18,
   "metadata": {},
   "outputs": [
    {
     "name": "stdout",
     "output_type": "stream",
     "text": [
      "Exer   Freq  None  Some\n",
      "Smoke                  \n",
      "Heavy     7     1     3\n",
      "Never    87    18    84\n",
      "Occas    12     3     4\n",
      "Regul     9     1     7\n"
     ]
    }
   ],
   "source": [
    "import pandas as pd\n",
    "\n",
    "survey=pd.read_csv(\"d:/learn/python_statistic/data/survey.csv\")\n",
    "data=pd.crosstab(survey.Smoke, survey.Exer)\n",
    "print(data)"
   ]
  },
  {
   "cell_type": "code",
   "execution_count": 10,
   "metadata": {},
   "outputs": [
    {
     "name": "stdout",
     "output_type": "stream",
     "text": [
      "(5.488545890584232, 0.48284216946545633, 6, array([[ 5.36016949,  1.0720339 ,  4.56779661],\n",
      "       [92.09745763, 18.41949153, 78.48305085],\n",
      "       [ 9.25847458,  1.85169492,  7.88983051],\n",
      "       [ 8.28389831,  1.65677966,  7.05932203]]))\n",
      "5.488545890584232\n",
      "0.48284216946545633\n"
     ]
    }
   ],
   "source": [
    "from scipy import stats\n",
    "\n",
    "result=stats.chi2_contingency(observed=data)\n",
    "print(result)\n",
    "print(result[0]) #검정통계량\n",
    "print(result[1]) #p-value"
   ]
  },
  {
   "cell_type": "code",
   "execution_count": null,
   "metadata": {},
   "outputs": [],
   "source": []
  },
  {
   "cell_type": "code",
   "execution_count": 18,
   "metadata": {},
   "outputs": [
    {
     "name": "stdout",
     "output_type": "stream",
     "text": [
      "[188.1217268183162, 176.94121793174963, 177.35914123868272, 174.63515688921916, 184.32703814662338, 168.49230651559859, 188.7240588210824, 176.19396549552448, 181.5951954802855, 178.75314812261294, 187.31053968522488, 169.69929645251173, 178.38791397993245, 178.07972822665792, 185.6688472116772, 174.50054366342985, 179.13785896224783, 175.61070791039313, 180.21106873357797, 182.9140760685791]\n",
      "Ttest_1sampResult(statistic=3.434767428066461, pvalue=0.00277711459981648)\n"
     ]
    }
   ],
   "source": [
    "#단일표본 t검정(1개의 그룹)\n",
    "#연속형 변수를 대상으로 함\n",
    "import numpy as np\n",
    "from scipy import stats\n",
    "\n",
    "np.random.seed(1) #랜덤시드 고정\n",
    "#평균0, 표준편차 5인 20개의 난수 발생\n",
    "height=[180+np.random.normal(0,5) for a in range(20)]\n",
    "print(height)\n",
    "result=stats.ttest_1samp(height, 175)\n",
    "print(result)"
   ]
  },
  {
   "cell_type": "code",
   "execution_count": null,
   "metadata": {},
   "outputs": [],
   "source": []
  },
  {
   "cell_type": "code",
   "execution_count": 31,
   "metadata": {},
   "outputs": [
    {
     "name": "stdout",
     "output_type": "stream",
     "text": [
      "[161.40302762690237, 170.28560498041045, 166.0022625465412, 168.54202702249583, 168.70508573299733, 170.9464659877933, 167.1810563270885, 170.44843203661296, 166.99421599675307, 172.78036755038693, 178.4690455664404, 170.98434889625145, 170.84934627673786, 164.17996014419398, 173.46683112830192, 166.20966335721883, 165.95576401763935, 172.78719726429017, 170.90519372178935, 175.53587725474532]\n",
      "[189.4287692849631, 169.60318437797508, 176.28376990155945, 192.6041518357532, 184.66539250229056, 182.1304905030327, 188.0620606513545, 168.95397030835625, 181.36583409414632, 189.09253389364008, 191.20912285621748, 166.93815182617777, 172.48325792368576, 178.82715173724364, 172.11002656990183, 171.08183760191952, 181.84001328181952, 171.46590017132985, 157.12087108800284, 178.6184731583957]\n",
      "Ttest_indResult(statistic=-3.7268454720496673, pvalue=0.0006292569093752377)\n",
      "Ttest_indResult(statistic=-3.7268454720496673, pvalue=0.0009659051174284119)\n"
     ]
    }
   ],
   "source": [
    "#독립표본t검정(서로 다른 2개의 그룹)\n",
    "import numpy as np\n",
    "from scipy import stats\n",
    "\n",
    "group1=[170+np.random.normal(0,5) for a in range(20)]\n",
    "group2=[175+np.random.normal(0,10) for a in range(20)]\n",
    "print(group1)\n",
    "print(group2)\n",
    "#등분산 가정을 한 경우(분산이 같은 경우)\n",
    "result1=stats.ttest_ind(group1, group2)\n",
    "print(result1)\n",
    "#등분산 가정을 하지 않은 경우(분산이 다른 경우)\n",
    "result2=stats.ttest_ind(group1, group2, equal_var=False)\n",
    "print(result2)"
   ]
  },
  {
   "cell_type": "code",
   "execution_count": 44,
   "metadata": {},
   "outputs": [
    {
     "name": "stdout",
     "output_type": "stream",
     "text": [
      "[56.090441586565994, 57.812455085857096, 60.47712543595629, 64.60725034329755, 60.303750978997535, 61.05562377503858, 60.08263783652808, 60.8859386013798, 54.41764991057628, 60.40463550486639, 59.06710503244267, 59.71587759557077, 62.461682779683244, 56.59660929495557, 59.57745986297685, 58.51319058613248, 62.086510024874315, 63.923853255077944, 55.22287368813156, 62.92955215551308]\n",
      "[60.0, 60.96057686148335, 61.946793124187394, 62.91716534400935, 63.937672182276536, 65.1122849085954, 65.94160232116167, 66.8327428966598, 68.0194885606889, 68.80203518440725, 70.12468243240438, 70.95715874885369, 72.21330705512887, 72.69805049678021, 74.70863999146417, 75.09737538751004, 76.04946564882775, 76.81259592781339, 77.5587850371116, 78.48024790250304]\n",
      "Ttest_relResult(statistic=-6.947772018095909, pvalue=1.273095470472565e-06)\n"
     ]
    }
   ],
   "source": [
    "#대응표본 t검정(같은 그룹)\n",
    "import numpy as np\n",
    "from scipy import stats\n",
    "\n",
    "#np.random.seed(1) #랜덤시드 고정\n",
    "before=[60+np.random.normal(0,5) for a in range(20)]\n",
    "print(before)\n",
    "after=[60+w*np.random.normal(0.99,0.02) for w in range(20)]\n",
    "print(after)\n",
    "\n",
    "result=stats.ttest_rel(before, after)\n",
    "print(result) \n",
    "#pvalue가 0.05보다 작으면 대립가설 채택, 귀무가설 기각\n",
    "#pvalue가 0.05보다 크면 대립가설 기각, 귀무가설 채택"
   ]
  },
  {
   "cell_type": "code",
   "execution_count": null,
   "metadata": {},
   "outputs": [],
   "source": []
  },
  {
   "cell_type": "code",
   "execution_count": 46,
   "metadata": {},
   "outputs": [
    {
     "data": {
      "image/png": "[encoded data removed]",
      "text/plain": [
       "<Figure size 432x288 with 1 Axes>"
      ]
     },
     "metadata": {
      "needs_background": "light"
     },
     "output_type": "display_data"
    },
    {
     "name": "stdout",
     "output_type": "stream",
     "text": [
      "F_onewayResult(statistic=4.2210931159803815, pvalue=0.013933707427484199)\n"
     ]
    }
   ],
   "source": [
    "#아노바 분석(3개 이상의 그룹)\n",
    "import scipy.stats as stats\n",
    "import matplotlib.pyplot as plt\n",
    "%matplotlib inline\n",
    "a=[66,74,82,75,73,97,87,78]\n",
    "b=[72,51,59,62,74,64,78,63]\n",
    "c=[61,60,57,60,81,55,70,71]\n",
    "d=[63,61,76,84,58,65,69,80]\n",
    "plot_data=[a,b,c,d]\n",
    "ax=plt.boxplot(plot_data) #박스플롯(상자수염그림)\n",
    "plt.show()\n",
    "result=stats.f_oneway(a,b,c,d) #아노바 분석 처리\n",
    "print(result)\n",
    "# pvalue가 0.05보다 작으므로 대립가설 채택, 귀무가설 기각"
   ]
  },
  {
   "cell_type": "code",
   "execution_count": 17,
   "metadata": {},
   "outputs": [
    {
     "name": "stdout",
     "output_type": "stream",
     "text": [
      "   fertilizer1  fertilizer2  fertilizer3\n",
      "0           72           54           48\n",
      "1           62           56           62\n",
      "2           90           58           92\n",
      "3           42           36           96\n",
      "4           84           72           92\n",
      "5           64           34           80\n",
      "3.7551268418654105\n",
      "0.04762461989261837\n"
     ]
    }
   ],
   "source": [
    "import pandas as pd\n",
    "from scipy import stats\n",
    "\n",
    "data=pd.read_csv(\"d:/learn/python_statistic/data/fertilizers.csv\") #csv 로딩\n",
    "print(data)\n",
    "#아노바분석 함수\n",
    "result=stats.f_oneway(data[\"fertilizer1\"],\n",
    "                      data[\"fertilizer2\"],\n",
    "                      data[\"fertilizer3\"])\n",
    "print(result[0])\n",
    "print(result[1]) #pvalue\n",
    "# pvalue가 0.05보다 작으므로 대립가설 채택, 귀무가설 기각\n",
    "# 결론 : 3가지 비료의 수확량은 차이가 있다."
   ]
  },
  {
   "cell_type": "code",
   "execution_count": null,
   "metadata": {},
   "outputs": [],
   "source": []
  }
 ],
 "metadata": {
  "kernelspec": {
   "display_name": "Python 3",
   "language": "python",
   "name": "python3"
  },
  "language_info": {
   "codemirror_mode": {
    "name": "ipython",
    "version": 3
   },
   "file_extension": ".py",
   "mimetype": "text/x-python",
   "name": "python",
   "nbconvert_exporter": "python",
   "pygments_lexer": "ipython3",
   "version": "3.7.3"
  }
 },
 "nbformat": 4,
 "nbformat_minor": 2
}
