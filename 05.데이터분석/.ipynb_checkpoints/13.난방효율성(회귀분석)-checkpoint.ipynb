{
 "cells": [
  {
   "cell_type": "code",
   "execution_count": 1,
   "metadata": {},
   "outputs": [],
   "source": [
    "import pandas as pd\n",
    "import matplotlib.pyplot as plt\n",
    "import seaborn as sns\n",
    "from scipy import stats"
   ]
  },
  {
   "cell_type": "code",
   "execution_count": 2,
   "metadata": {},
   "outputs": [
    {
     "data": {
      "text/html": [
       "<div>\n",
       "<style scoped>\n",
       "    .dataframe tbody tr th:only-of-type {\n",
       "        vertical-align: middle;\n",
       "    }\n",
       "\n",
       "    .dataframe tbody tr th {\n",
       "        vertical-align: top;\n",
       "    }\n",
       "\n",
       "    .dataframe thead th {\n",
       "        text-align: right;\n",
       "    }\n",
       "</style>\n",
       "<table border=\"1\" class=\"dataframe\">\n",
       "  <thead>\n",
       "    <tr style=\"text-align: right;\">\n",
       "      <th></th>\n",
       "      <th>X1</th>\n",
       "      <th>X2</th>\n",
       "      <th>X3</th>\n",
       "      <th>X4</th>\n",
       "      <th>X5</th>\n",
       "      <th>X6</th>\n",
       "      <th>X7</th>\n",
       "      <th>X8</th>\n",
       "      <th>Y1</th>\n",
       "      <th>Y2</th>\n",
       "    </tr>\n",
       "  </thead>\n",
       "  <tbody>\n",
       "    <tr>\n",
       "      <th>0</th>\n",
       "      <td>0.98</td>\n",
       "      <td>514.5</td>\n",
       "      <td>294.0</td>\n",
       "      <td>110.25</td>\n",
       "      <td>7.0</td>\n",
       "      <td>2</td>\n",
       "      <td>0.0</td>\n",
       "      <td>0</td>\n",
       "      <td>15.55</td>\n",
       "      <td>21.33</td>\n",
       "    </tr>\n",
       "    <tr>\n",
       "      <th>1</th>\n",
       "      <td>0.98</td>\n",
       "      <td>514.5</td>\n",
       "      <td>294.0</td>\n",
       "      <td>110.25</td>\n",
       "      <td>7.0</td>\n",
       "      <td>3</td>\n",
       "      <td>0.0</td>\n",
       "      <td>0</td>\n",
       "      <td>15.55</td>\n",
       "      <td>21.33</td>\n",
       "    </tr>\n",
       "    <tr>\n",
       "      <th>2</th>\n",
       "      <td>0.98</td>\n",
       "      <td>514.5</td>\n",
       "      <td>294.0</td>\n",
       "      <td>110.25</td>\n",
       "      <td>7.0</td>\n",
       "      <td>4</td>\n",
       "      <td>0.0</td>\n",
       "      <td>0</td>\n",
       "      <td>15.55</td>\n",
       "      <td>21.33</td>\n",
       "    </tr>\n",
       "    <tr>\n",
       "      <th>3</th>\n",
       "      <td>0.98</td>\n",
       "      <td>514.5</td>\n",
       "      <td>294.0</td>\n",
       "      <td>110.25</td>\n",
       "      <td>7.0</td>\n",
       "      <td>5</td>\n",
       "      <td>0.0</td>\n",
       "      <td>0</td>\n",
       "      <td>15.55</td>\n",
       "      <td>21.33</td>\n",
       "    </tr>\n",
       "    <tr>\n",
       "      <th>4</th>\n",
       "      <td>0.90</td>\n",
       "      <td>563.5</td>\n",
       "      <td>318.5</td>\n",
       "      <td>122.50</td>\n",
       "      <td>7.0</td>\n",
       "      <td>2</td>\n",
       "      <td>0.0</td>\n",
       "      <td>0</td>\n",
       "      <td>20.84</td>\n",
       "      <td>28.28</td>\n",
       "    </tr>\n",
       "  </tbody>\n",
       "</table>\n",
       "</div>"
      ],
      "text/plain": [
       "     X1     X2     X3      X4   X5  X6   X7  X8     Y1     Y2\n",
       "0  0.98  514.5  294.0  110.25  7.0   2  0.0   0  15.55  21.33\n",
       "1  0.98  514.5  294.0  110.25  7.0   3  0.0   0  15.55  21.33\n",
       "2  0.98  514.5  294.0  110.25  7.0   4  0.0   0  15.55  21.33\n",
       "3  0.98  514.5  294.0  110.25  7.0   5  0.0   0  15.55  21.33\n",
       "4  0.90  563.5  318.5  122.50  7.0   2  0.0   0  20.84  28.28"
      ]
     },
     "execution_count": 2,
     "metadata": {},
     "output_type": "execute_result"
    }
   ],
   "source": [
    "df=pd.read_csv(\"d:/data/energy/ENB2012_data.csv\") #데이터파일 로딩\n",
    "df.head()"
   ]
  },
  {
   "cell_type": "code",
   "execution_count": 3,
   "metadata": {},
   "outputs": [],
   "source": [
    "train_cols=df.columns[0:8]  #0~7번 필드\n",
    "X=df[train_cols] #독립변수\n",
    "y=df[\"Y1\"] #종속변수(난방하중)"
   ]
  },
  {
   "cell_type": "code",
   "execution_count": 4,
   "metadata": {},
   "outputs": [
    {
     "data": {
      "text/plain": [
       "LinregressResult(slope=59.35902736778322, intercept=-23.05298955938101, rvalue=0.6222721790646625, pvalue=1.5912736997125491e-83, stderr=2.69800874779432)"
      ]
     },
     "execution_count": 4,
     "metadata": {},
     "output_type": "execute_result"
    }
   ],
   "source": [
    "x2=df[\"X1\"].values #독립변수(건물의 상대적 크기)\n",
    "y2=df[\"Y1\"].values #종속변수(난방하중)\n",
    "result=stats.linregress(x2,y2) #단순회귀분석\n",
    "result\n",
    "# rvalue 62.2%\n",
    "# pvalue 0.05 작으므로 통계적으로 유의"
   ]
  },
  {
   "cell_type": "code",
   "execution_count": 5,
   "metadata": {},
   "outputs": [
    {
     "data": {
      "text/plain": [
       "Text(0, 0.5, 'y1')"
      ]
     },
     "execution_count": 5,
     "metadata": {},
     "output_type": "execute_result"
    },
    {
     "data": {
      "image/png": "[encoded data removed]",
      "text/plain": [
       "<Figure size 432x288 with 1 Axes>"
      ]
     },
     "metadata": {
      "needs_background": "light"
     },
     "output_type": "display_data"
    }
   ],
   "source": [
    "slope,intercept,r_value,p_value,stderr=stats.linregress(x2,y2)\n",
    "plt.scatter(x2,y2) #산점도\n",
    "plt.plot(x2,slope*x2+intercept,c=\"red\") #회귀선\n",
    "plt.xlabel(\"x1\")\n",
    "plt.ylabel(\"y1\")"
   ]
  },
  {
   "cell_type": "code",
   "execution_count": 6,
   "metadata": {},
   "outputs": [
    {
     "data": {
      "text/html": [
       "<table class=\"simpletable\">\n",
       "<caption>OLS Regression Results</caption>\n",
       "<tr>\n",
       "  <th>Dep. Variable:</th>           <td>Y1</td>        <th>  R-squared:         </th> <td>   0.985</td>\n",
       "</tr>\n",
       "<tr>\n",
       "  <th>Model:</th>                   <td>OLS</td>       <th>  Adj. R-squared:    </th> <td>   0.985</td>\n",
       "</tr>\n",
       "<tr>\n",
       "  <th>Method:</th>             <td>Least Squares</td>  <th>  F-statistic:       </th> <td>   7347.</td>\n",
       "</tr>\n",
       "<tr>\n",
       "  <th>Date:</th>             <td>Mon, 22 Jul 2019</td> <th>  Prob (F-statistic):</th>  <td>  0.00</td> \n",
       "</tr>\n",
       "<tr>\n",
       "  <th>Time:</th>                 <td>12:10:20</td>     <th>  Log-Likelihood:    </th> <td> -1922.2</td>\n",
       "</tr>\n",
       "<tr>\n",
       "  <th>No. Observations:</th>      <td>   768</td>      <th>  AIC:               </th> <td>   3858.</td>\n",
       "</tr>\n",
       "<tr>\n",
       "  <th>Df Residuals:</th>          <td>   761</td>      <th>  BIC:               </th> <td>   3891.</td>\n",
       "</tr>\n",
       "<tr>\n",
       "  <th>Df Model:</th>              <td>     7</td>      <th>                     </th>     <td> </td>   \n",
       "</tr>\n",
       "<tr>\n",
       "  <th>Covariance Type:</th>      <td>nonrobust</td>    <th>                     </th>     <td> </td>   \n",
       "</tr>\n",
       "</table>\n",
       "<table class=\"simpletable\">\n",
       "<tr>\n",
       "   <td></td>     <th>coef</th>     <th>std err</th>      <th>t</th>      <th>P>|t|</th>  <th>[0.025</th>    <th>0.975]</th>  \n",
       "</tr>\n",
       "<tr>\n",
       "  <th>X1</th> <td>  -20.0442</td> <td>    1.806</td> <td>  -11.101</td> <td> 0.000</td> <td>  -23.589</td> <td>  -16.500</td>\n",
       "</tr>\n",
       "<tr>\n",
       "  <th>X2</th> <td>   -0.0037</td> <td>    0.001</td> <td>   -2.912</td> <td> 0.004</td> <td>   -0.006</td> <td>   -0.001</td>\n",
       "</tr>\n",
       "<tr>\n",
       "  <th>X3</th> <td>    0.0322</td> <td>    0.004</td> <td>    8.497</td> <td> 0.000</td> <td>    0.025</td> <td>    0.040</td>\n",
       "</tr>\n",
       "<tr>\n",
       "  <th>X4</th> <td>   -0.0179</td> <td>    0.002</td> <td>   -7.352</td> <td> 0.000</td> <td>   -0.023</td> <td>   -0.013</td>\n",
       "</tr>\n",
       "<tr>\n",
       "  <th>X5</th> <td>    5.2968</td> <td>    0.224</td> <td>   23.627</td> <td> 0.000</td> <td>    4.857</td> <td>    5.737</td>\n",
       "</tr>\n",
       "<tr>\n",
       "  <th>X6</th> <td>   -0.0160</td> <td>    0.096</td> <td>   -0.167</td> <td> 0.867</td> <td>   -0.204</td> <td>    0.172</td>\n",
       "</tr>\n",
       "<tr>\n",
       "  <th>X7</th> <td>   19.9608</td> <td>    0.824</td> <td>   24.231</td> <td> 0.000</td> <td>   18.344</td> <td>   21.578</td>\n",
       "</tr>\n",
       "<tr>\n",
       "  <th>X8</th> <td>    0.2063</td> <td>    0.071</td> <td>    2.916</td> <td> 0.004</td> <td>    0.067</td> <td>    0.345</td>\n",
       "</tr>\n",
       "</table>\n",
       "<table class=\"simpletable\">\n",
       "<tr>\n",
       "  <th>Omnibus:</th>       <td>13.549</td> <th>  Durbin-Watson:     </th> <td>   0.608</td>\n",
       "</tr>\n",
       "<tr>\n",
       "  <th>Prob(Omnibus):</th> <td> 0.001</td> <th>  Jarque-Bera (JB):  </th> <td>  23.976</td>\n",
       "</tr>\n",
       "<tr>\n",
       "  <th>Skew:</th>          <td>-0.005</td> <th>  Prob(JB):          </th> <td>6.22e-06</td>\n",
       "</tr>\n",
       "<tr>\n",
       "  <th>Kurtosis:</th>      <td> 3.866</td> <th>  Cond. No.          </th> <td>3.22e+16</td>\n",
       "</tr>\n",
       "</table><br/><br/>Warnings:<br/>[1] Standard Errors assume that the covariance matrix of the errors is correctly specified.<br/>[2] The smallest eigenvalue is 4.39e-25. This might indicate that there are<br/>strong multicollinearity problems or that the design matrix is singular."
      ],
      "text/plain": [
       "<class 'statsmodels.iolib.summary.Summary'>\n",
       "\"\"\"\n",
       "                            OLS Regression Results                            \n",
       "==============================================================================\n",
       "Dep. Variable:                     Y1   R-squared:                       0.985\n",
       "Model:                            OLS   Adj. R-squared:                  0.985\n",
       "Method:                 Least Squares   F-statistic:                     7347.\n",
       "Date:                Mon, 22 Jul 2019   Prob (F-statistic):               0.00\n",
       "Time:                        12:10:20   Log-Likelihood:                -1922.2\n",
       "No. Observations:                 768   AIC:                             3858.\n",
       "Df Residuals:                     761   BIC:                             3891.\n",
       "Df Model:                           7                                         \n",
       "Covariance Type:            nonrobust                                         \n",
       "==============================================================================\n",
       "                 coef    std err          t      P>|t|      [0.025      0.975]\n",
       "------------------------------------------------------------------------------\n",
       "X1           -20.0442      1.806    -11.101      0.000     -23.589     -16.500\n",
       "X2            -0.0037      0.001     -2.912      0.004      -0.006      -0.001\n",
       "X3             0.0322      0.004      8.497      0.000       0.025       0.040\n",
       "X4            -0.0179      0.002     -7.352      0.000      -0.023      -0.013\n",
       "X5             5.2968      0.224     23.627      0.000       4.857       5.737\n",
       "X6            -0.0160      0.096     -0.167      0.867      -0.204       0.172\n",
       "X7            19.9608      0.824     24.231      0.000      18.344      21.578\n",
       "X8             0.2063      0.071      2.916      0.004       0.067       0.345\n",
       "==============================================================================\n",
       "Omnibus:                       13.549   Durbin-Watson:                   0.608\n",
       "Prob(Omnibus):                  0.001   Jarque-Bera (JB):               23.976\n",
       "Skew:                          -0.005   Prob(JB):                     6.22e-06\n",
       "Kurtosis:                       3.866   Cond. No.                     3.22e+16\n",
       "==============================================================================\n",
       "\n",
       "Warnings:\n",
       "[1] Standard Errors assume that the covariance matrix of the errors is correctly specified.\n",
       "[2] The smallest eigenvalue is 4.39e-25. This might indicate that there are\n",
       "strong multicollinearity problems or that the design matrix is singular.\n",
       "\"\"\""
      ]
     },
     "execution_count": 6,
     "metadata": {},
     "output_type": "execute_result"
    }
   ],
   "source": [
    "#다중회귀분석\n",
    "import statsmodels.formula.api as sm\n",
    "model=sm.OLS(y, X) #다중회귀분석모델\n",
    "result=model.fit() #학습\n",
    "result.summary()\n",
    "# R-squared(모델의 설명력)\n",
    "# 유의하지 않은 변수들\n",
    "# 변수의 중요도"
   ]
  },
  {
   "cell_type": "code",
   "execution_count": 7,
   "metadata": {},
   "outputs": [],
   "source": [
    "from sklearn.model_selection import train_test_split\n",
    "from sklearn.linear_model import LinearRegression\n",
    "#전체 데이터셋을 학습용:검증용 8:2로 구분\n",
    "X_train, X_test, y_train, y_test=train_test_split(\n",
    "    X,y,test_size=0.2, random_state=10)\n",
    "#다중회귀분석 모델을 만들고 학습용 데이터를 입력하여 기계학습\n",
    "model=LinearRegression().fit(X_train, y_train)"
   ]
  },
  {
   "cell_type": "code",
   "execution_count": 8,
   "metadata": {},
   "outputs": [
    {
     "name": "stdout",
     "output_type": "stream",
     "text": [
      "0.9123488471973692\n",
      "0.9313289941747572\n"
     ]
    }
   ],
   "source": [
    "print(model.score(X_train, y_train)) #학습용 데이터셋의 예측 정확도\n",
    "print(model.score(X_test, y_test)) #검증용 데이터셋의 예측 정확도"
   ]
  },
  {
   "cell_type": "code",
   "execution_count": 9,
   "metadata": {},
   "outputs": [
    {
     "data": {
      "text/plain": [
       "array([17.86350051, 18.76731393, 11.43249192, 27.68348603, 18.46131748,\n",
       "        5.43151917, 11.88080523, 29.45418847, 31.5641057 , 15.38350565,\n",
       "       28.4677446 , 13.80119114,  9.43818072, 29.85891621, 32.93672804,\n",
       "       17.5946026 , 39.64968092, 10.56964937, 31.16519663, 10.16745418,\n",
       "       28.04446759, 12.80477952, 31.31536865, 28.95248809, 14.92151851,\n",
       "       25.17829427, 12.43715032, 31.3953844 , 28.23755683, 16.01454883,\n",
       "       11.58848261, 11.42042968, 12.82332879, 32.68799099, 30.95438708,\n",
       "       28.08156614, 30.91064091,  7.93140309, 15.44076506, 25.44558059,\n",
       "       15.78436106, 25.40848205, 31.14664736, 29.21651056, 32.27577311,\n",
       "       39.8798687 , 14.94006778, 31.10373014,  8.10594305, 33.91733428,\n",
       "        9.84037591, 34.47319623, 12.64878883, 15.91968988, 33.6089219 ,\n",
       "       17.17132559, 13.62891193, 11.86225596, 11.03425121, 26.79216352,\n",
       "       30.69900241, 15.86404207, 15.68950211, 32.89962949, 18.74876466,\n",
       "       14.286603  ,  6.74267502, 31.35828586,  9.45419745, 30.12638234,\n",
       "       39.84277015, 16.13132839, 33.36018485, 11.65061746, 31.54555643,\n",
       "       15.112347  , 25.23394209, 14.97877792, 16.05325897, 19.13494312,\n",
       "       29.88852462, 15.20896569, 33.34145577, 26.42453433, 12.59314101,\n",
       "       34.43609768, 13.26515507, 29.23505983, 25.21539282, 12.40005178,\n",
       "       19.38368017, 28.02591832, 15.45931433, 34.35916056, 17.32731628,\n",
       "       12.95528628, 26.63617283, 33.80201113, 34.84082542, 34.01364964,\n",
       "        8.7460058 , 33.76134359,  9.89763532,  8.3546801 , 33.55327408,\n",
       "       27.9136738 , 27.27875829, 15.22751496, 11.1652056 , 25.89188575,\n",
       "       35.76580281, 11.05280049, 15.36108405, 36.55331983, 29.85142607,\n",
       "        9.74164463, 13.39872415, 12.59152942, 15.80452192, 11.39539338,\n",
       "       28.54776036, 27.06711979, 12.70654923, 30.08928379, 26.19434655,\n",
       "       15.97745029,  7.43484994, 31.83721068, 30.93583781, 29.82181767,\n",
       "       14.01282965, 12.49491073, 30.07073452, 18.53712615, 37.45552166,\n",
       "       33.1408764 , 37.01369538,  9.01237117, 11.26443899, 30.97293636,\n",
       "       16.34296689, 27.7020353 , 36.59041837, 33.99510036, 40.03585939,\n",
       "       18.65440671, 34.89647324, 16.66962521,  9.68438522,  8.58486787,\n",
       "       16.4579867 , 25.19684355, 10.10927382, 13.61036266])"
      ]
     },
     "execution_count": 9,
     "metadata": {},
     "output_type": "execute_result"
    }
   ],
   "source": [
    "pred=model.predict(X_test) #모델에 입력하여 예측한 값\n",
    "pred"
   ]
  },
  {
   "cell_type": "code",
   "execution_count": null,
   "metadata": {},
   "outputs": [],
   "source": []
  }
 ],
 "metadata": {
  "kernelspec": {
   "display_name": "Python 3",
   "language": "python",
   "name": "python3"
  },
  "language_info": {
   "codemirror_mode": {
    "name": "ipython",
    "version": 3
   },
   "file_extension": ".py",
   "mimetype": "text/x-python",
   "name": "python",
   "nbconvert_exporter": "python",
   "pygments_lexer": "ipython3",
   "version": "3.7.3"
  }
 },
 "nbformat": 4,
 "nbformat_minor": 2
}
