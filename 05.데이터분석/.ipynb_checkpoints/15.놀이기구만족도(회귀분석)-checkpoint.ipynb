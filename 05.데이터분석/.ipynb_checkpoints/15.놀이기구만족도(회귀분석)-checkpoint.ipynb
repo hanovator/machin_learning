{
 "cells": [
  {
   "cell_type": "code",
   "execution_count": 1,
   "metadata": {},
   "outputs": [
    {
     "data": {
      "text/html": [
       "<div>\n",
       "<style scoped>\n",
       "    .dataframe tbody tr th:only-of-type {\n",
       "        vertical-align: middle;\n",
       "    }\n",
       "\n",
       "    .dataframe tbody tr th {\n",
       "        vertical-align: top;\n",
       "    }\n",
       "\n",
       "    .dataframe thead th {\n",
       "        text-align: right;\n",
       "    }\n",
       "</style>\n",
       "<table border=\"1\" class=\"dataframe\">\n",
       "  <thead>\n",
       "    <tr style=\"text-align: right;\">\n",
       "      <th></th>\n",
       "      <th>weekend</th>\n",
       "      <th>num.child</th>\n",
       "      <th>distance</th>\n",
       "      <th>rides</th>\n",
       "      <th>games</th>\n",
       "      <th>wait</th>\n",
       "      <th>clean</th>\n",
       "      <th>overall</th>\n",
       "    </tr>\n",
       "  </thead>\n",
       "  <tbody>\n",
       "    <tr>\n",
       "      <th>0</th>\n",
       "      <td>yes</td>\n",
       "      <td>0</td>\n",
       "      <td>114.648259</td>\n",
       "      <td>87</td>\n",
       "      <td>73</td>\n",
       "      <td>60</td>\n",
       "      <td>89</td>\n",
       "      <td>47</td>\n",
       "    </tr>\n",
       "    <tr>\n",
       "      <th>1</th>\n",
       "      <td>yes</td>\n",
       "      <td>2</td>\n",
       "      <td>27.014097</td>\n",
       "      <td>87</td>\n",
       "      <td>78</td>\n",
       "      <td>76</td>\n",
       "      <td>87</td>\n",
       "      <td>65</td>\n",
       "    </tr>\n",
       "    <tr>\n",
       "      <th>2</th>\n",
       "      <td>no</td>\n",
       "      <td>1</td>\n",
       "      <td>63.300975</td>\n",
       "      <td>85</td>\n",
       "      <td>80</td>\n",
       "      <td>70</td>\n",
       "      <td>88</td>\n",
       "      <td>61</td>\n",
       "    </tr>\n",
       "    <tr>\n",
       "      <th>3</th>\n",
       "      <td>yes</td>\n",
       "      <td>0</td>\n",
       "      <td>25.909931</td>\n",
       "      <td>88</td>\n",
       "      <td>72</td>\n",
       "      <td>66</td>\n",
       "      <td>89</td>\n",
       "      <td>37</td>\n",
       "    </tr>\n",
       "    <tr>\n",
       "      <th>4</th>\n",
       "      <td>no</td>\n",
       "      <td>4</td>\n",
       "      <td>54.718307</td>\n",
       "      <td>84</td>\n",
       "      <td>87</td>\n",
       "      <td>74</td>\n",
       "      <td>87</td>\n",
       "      <td>68</td>\n",
       "    </tr>\n",
       "  </tbody>\n",
       "</table>\n",
       "</div>"
      ],
      "text/plain": [
       "  weekend  num.child    distance  rides  games  wait  clean  overall\n",
       "0     yes          0  114.648259     87     73    60     89       47\n",
       "1     yes          2   27.014097     87     78    76     87       65\n",
       "2      no          1   63.300975     85     80    70     88       61\n",
       "3     yes          0   25.909931     88     72    66     89       37\n",
       "4      no          4   54.718307     84     87    74     87       68"
      ]
     },
     "execution_count": 1,
     "metadata": {},
     "output_type": "execute_result"
    }
   ],
   "source": [
    "import pandas as pd\n",
    "df=pd.read_csv(\"d:/data/rides/rides.csv\") #데이터파일 로딩\n",
    "df.head()"
   ]
  },
  {
   "cell_type": "code",
   "execution_count": 2,
   "metadata": {},
   "outputs": [],
   "source": [
    "x=df[\"rides\"].values #독립변수(놀이기구 만족도)\n",
    "y=df[\"overall\"].values #종속변수(전체만족도)"
   ]
  },
  {
   "cell_type": "code",
   "execution_count": 3,
   "metadata": {},
   "outputs": [
    {
     "data": {
      "text/plain": [
       "LinregressResult(slope=1.7032854834102056, intercept=-94.96224560883252, rvalue=0.5859862820034282, pvalue=1.9715137881102242e-47, stderr=0.10554615174616558)"
      ]
     },
     "execution_count": 3,
     "metadata": {},
     "output_type": "execute_result"
    }
   ],
   "source": [
    "from scipy import stats\n",
    "result=stats.linregress(x,y) #단순회귀분석 모델 생성\n",
    "result\n",
    "# rvalue 58.5% 설명력\n",
    "# pvalue 95%, 99% 신뢰수준 하에서 유의"
   ]
  },
  {
   "cell_type": "code",
   "execution_count": 4,
   "metadata": {},
   "outputs": [
    {
     "data": {
      "text/plain": [
       "Text(0, 0.5, '전체 만족도')"
      ]
     },
     "execution_count": 4,
     "metadata": {},
     "output_type": "execute_result"
    },
    {
     "data": {
      "image/png": "[encoded data removed]",
      "text/plain": [
       "<Figure size 432x288 with 1 Axes>"
      ]
     },
     "metadata": {
      "needs_background": "light"
     },
     "output_type": "display_data"
    }
   ],
   "source": [
    "%matplotlib inline\n",
    "import matplotlib.pyplot as plt\n",
    "from matplotlib import font_manager,rc\n",
    "font_name=font_manager.FontProperties(\n",
    "    fname=\"c:/windows/fonts/malgun.ttf\").get_name()\n",
    "rc(\"font\",family=font_name)\n",
    "slope,intercept,r_value,p_value,stderr=stats.linregress(x,y)\n",
    "plt.scatter(x,y) #산점도\n",
    "plt.plot(x,slope*x+intercept,c=\"red\") #회귀선\n",
    "plt.xlabel(\"놀이기구에 대한 만족도\")\n",
    "plt.ylabel(\"전체 만족도\")"
   ]
  },
  {
   "cell_type": "code",
   "execution_count": 5,
   "metadata": {},
   "outputs": [
    {
     "data": {
      "text/plain": [
       "58.33344789808598"
      ]
     },
     "execution_count": 5,
     "metadata": {},
     "output_type": "execute_result"
    }
   ],
   "source": [
    "90*slope+intercept  #놀이기구에 대한 만족도가 90일 때의 전체만족도는?"
   ]
  },
  {
   "cell_type": "code",
   "execution_count": 13,
   "metadata": {},
   "outputs": [],
   "source": [
    "df2=df.iloc[:, 1:7] #독립변수  \n",
    "y2=df.iloc[:,7] #종속변수"
   ]
  },
  {
   "cell_type": "code",
   "execution_count": 7,
   "metadata": {},
   "outputs": [
    {
     "data": {
      "text/html": [
       "<table class=\"simpletable\">\n",
       "<caption>OLS Regression Results</caption>\n",
       "<tr>\n",
       "  <th>Dep. Variable:</th>         <td>overall</td>     <th>  R-squared:         </th> <td>   0.950</td> \n",
       "</tr>\n",
       "<tr>\n",
       "  <th>Model:</th>                   <td>OLS</td>       <th>  Adj. R-squared:    </th> <td>   0.950</td> \n",
       "</tr>\n",
       "<tr>\n",
       "  <th>Method:</th>             <td>Least Squares</td>  <th>  F-statistic:       </th> <td>   1569.</td> \n",
       "</tr>\n",
       "<tr>\n",
       "  <th>Date:</th>             <td>Mon, 22 Jul 2019</td> <th>  Prob (F-statistic):</th> <td>6.59e-318</td>\n",
       "</tr>\n",
       "<tr>\n",
       "  <th>Time:</th>                 <td>14:37:20</td>     <th>  Log-Likelihood:    </th> <td> -1951.2</td> \n",
       "</tr>\n",
       "<tr>\n",
       "  <th>No. Observations:</th>      <td>   500</td>      <th>  AIC:               </th> <td>   3914.</td> \n",
       "</tr>\n",
       "<tr>\n",
       "  <th>Df Residuals:</th>          <td>   494</td>      <th>  BIC:               </th> <td>   3940.</td> \n",
       "</tr>\n",
       "<tr>\n",
       "  <th>Df Model:</th>              <td>     6</td>      <th>                     </th>     <td> </td>    \n",
       "</tr>\n",
       "<tr>\n",
       "  <th>Covariance Type:</th>      <td>nonrobust</td>    <th>                     </th>     <td> </td>    \n",
       "</tr>\n",
       "</table>\n",
       "<table class=\"simpletable\">\n",
       "<tr>\n",
       "      <td></td>         <th>coef</th>     <th>std err</th>      <th>t</th>      <th>P>|t|</th>  <th>[0.025</th>    <th>0.975]</th>  \n",
       "</tr>\n",
       "<tr>\n",
       "  <th>num.child</th> <td>    3.1446</td> <td>    0.360</td> <td>    8.737</td> <td> 0.000</td> <td>    2.437</td> <td>    3.852</td>\n",
       "</tr>\n",
       "<tr>\n",
       "  <th>distance</th>  <td>    0.0325</td> <td>    0.016</td> <td>    1.999</td> <td> 0.046</td> <td>    0.001</td> <td>    0.064</td>\n",
       "</tr>\n",
       "<tr>\n",
       "  <th>rides</th>     <td>    0.1401</td> <td>    0.159</td> <td>    0.883</td> <td> 0.378</td> <td>   -0.172</td> <td>    0.452</td>\n",
       "</tr>\n",
       "<tr>\n",
       "  <th>games</th>     <td>    0.0994</td> <td>    0.079</td> <td>    1.265</td> <td> 0.207</td> <td>   -0.055</td> <td>    0.254</td>\n",
       "</tr>\n",
       "<tr>\n",
       "  <th>wait</th>      <td>    0.5648</td> <td>    0.054</td> <td>   10.377</td> <td> 0.000</td> <td>    0.458</td> <td>    0.672</td>\n",
       "</tr>\n",
       "<tr>\n",
       "  <th>clean</th>     <td>   -0.1603</td> <td>    0.167</td> <td>   -0.962</td> <td> 0.336</td> <td>   -0.488</td> <td>    0.167</td>\n",
       "</tr>\n",
       "</table>\n",
       "<table class=\"simpletable\">\n",
       "<tr>\n",
       "  <th>Omnibus:</th>       <td> 3.246</td> <th>  Durbin-Watson:     </th> <td>   2.190</td>\n",
       "</tr>\n",
       "<tr>\n",
       "  <th>Prob(Omnibus):</th> <td> 0.197</td> <th>  Jarque-Bera (JB):  </th> <td>   3.326</td>\n",
       "</tr>\n",
       "<tr>\n",
       "  <th>Skew:</th>          <td> 0.186</td> <th>  Prob(JB):          </th> <td>   0.190</td>\n",
       "</tr>\n",
       "<tr>\n",
       "  <th>Kurtosis:</th>      <td> 2.853</td> <th>  Cond. No.          </th> <td>    110.</td>\n",
       "</tr>\n",
       "</table><br/><br/>Warnings:<br/>[1] Standard Errors assume that the covariance matrix of the errors is correctly specified."
      ],
      "text/plain": [
       "<class 'statsmodels.iolib.summary.Summary'>\n",
       "\"\"\"\n",
       "                            OLS Regression Results                            \n",
       "==============================================================================\n",
       "Dep. Variable:                overall   R-squared:                       0.950\n",
       "Model:                            OLS   Adj. R-squared:                  0.950\n",
       "Method:                 Least Squares   F-statistic:                     1569.\n",
       "Date:                Mon, 22 Jul 2019   Prob (F-statistic):          6.59e-318\n",
       "Time:                        14:37:20   Log-Likelihood:                -1951.2\n",
       "No. Observations:                 500   AIC:                             3914.\n",
       "Df Residuals:                     494   BIC:                             3940.\n",
       "Df Model:                           6                                         \n",
       "Covariance Type:            nonrobust                                         \n",
       "==============================================================================\n",
       "                 coef    std err          t      P>|t|      [0.025      0.975]\n",
       "------------------------------------------------------------------------------\n",
       "num.child      3.1446      0.360      8.737      0.000       2.437       3.852\n",
       "distance       0.0325      0.016      1.999      0.046       0.001       0.064\n",
       "rides          0.1401      0.159      0.883      0.378      -0.172       0.452\n",
       "games          0.0994      0.079      1.265      0.207      -0.055       0.254\n",
       "wait           0.5648      0.054     10.377      0.000       0.458       0.672\n",
       "clean         -0.1603      0.167     -0.962      0.336      -0.488       0.167\n",
       "==============================================================================\n",
       "Omnibus:                        3.246   Durbin-Watson:                   2.190\n",
       "Prob(Omnibus):                  0.197   Jarque-Bera (JB):                3.326\n",
       "Skew:                           0.186   Prob(JB):                        0.190\n",
       "Kurtosis:                       2.853   Cond. No.                         110.\n",
       "==============================================================================\n",
       "\n",
       "Warnings:\n",
       "[1] Standard Errors assume that the covariance matrix of the errors is correctly specified.\n",
       "\"\"\""
      ]
     },
     "execution_count": 7,
     "metadata": {},
     "output_type": "execute_result"
    }
   ],
   "source": [
    "import statsmodels.formula.api as sm\n",
    "model=sm.OLS(y2,df2) #다중회귀분석 모델 생성\n",
    "result=model.fit() #모델훈련(학습)\n",
    "result.summary() #요약표 출력\n",
    "#모델의 설명력 95%\n",
    "#유의하지 않은 변수들\n",
    "#변수의 중요도"
   ]
  },
  {
   "cell_type": "code",
   "execution_count": 8,
   "metadata": {},
   "outputs": [],
   "source": [
    "#유의하지 않은 변수들을 제거한 모델"
   ]
  },
  {
   "cell_type": "code",
   "execution_count": 9,
   "metadata": {},
   "outputs": [],
   "source": [
    "df2=df.iloc[:, [1,2,5]] #독립변수  \n",
    "y2=df.iloc[:,7] #종속변수"
   ]
  },
  {
   "cell_type": "code",
   "execution_count": 10,
   "metadata": {},
   "outputs": [
    {
     "data": {
      "text/html": [
       "<table class=\"simpletable\">\n",
       "<caption>OLS Regression Results</caption>\n",
       "<tr>\n",
       "  <th>Dep. Variable:</th>         <td>overall</td>     <th>  R-squared:         </th> <td>   0.950</td> \n",
       "</tr>\n",
       "<tr>\n",
       "  <th>Model:</th>                   <td>OLS</td>       <th>  Adj. R-squared:    </th> <td>   0.949</td> \n",
       "</tr>\n",
       "<tr>\n",
       "  <th>Method:</th>             <td>Least Squares</td>  <th>  F-statistic:       </th> <td>   3128.</td> \n",
       "</tr>\n",
       "<tr>\n",
       "  <th>Date:</th>             <td>Mon, 22 Jul 2019</td> <th>  Prob (F-statistic):</th> <td>3.80e-322</td>\n",
       "</tr>\n",
       "<tr>\n",
       "  <th>Time:</th>                 <td>14:37:20</td>     <th>  Log-Likelihood:    </th> <td> -1953.3</td> \n",
       "</tr>\n",
       "<tr>\n",
       "  <th>No. Observations:</th>      <td>   500</td>      <th>  AIC:               </th> <td>   3913.</td> \n",
       "</tr>\n",
       "<tr>\n",
       "  <th>Df Residuals:</th>          <td>   497</td>      <th>  BIC:               </th> <td>   3925.</td> \n",
       "</tr>\n",
       "<tr>\n",
       "  <th>Df Model:</th>              <td>     3</td>      <th>                     </th>     <td> </td>    \n",
       "</tr>\n",
       "<tr>\n",
       "  <th>Covariance Type:</th>      <td>nonrobust</td>    <th>                     </th>     <td> </td>    \n",
       "</tr>\n",
       "</table>\n",
       "<table class=\"simpletable\">\n",
       "<tr>\n",
       "      <td></td>         <th>coef</th>     <th>std err</th>      <th>t</th>      <th>P>|t|</th>  <th>[0.025</th>    <th>0.975]</th>  \n",
       "</tr>\n",
       "<tr>\n",
       "  <th>num.child</th> <td>    3.2246</td> <td>    0.354</td> <td>    9.097</td> <td> 0.000</td> <td>    2.528</td> <td>    3.921</td>\n",
       "</tr>\n",
       "<tr>\n",
       "  <th>distance</th>  <td>    0.0351</td> <td>    0.016</td> <td>    2.178</td> <td> 0.030</td> <td>    0.003</td> <td>    0.067</td>\n",
       "</tr>\n",
       "<tr>\n",
       "  <th>wait</th>      <td>    0.6426</td> <td>    0.013</td> <td>   48.057</td> <td> 0.000</td> <td>    0.616</td> <td>    0.669</td>\n",
       "</tr>\n",
       "</table>\n",
       "<table class=\"simpletable\">\n",
       "<tr>\n",
       "  <th>Omnibus:</th>       <td> 3.525</td> <th>  Durbin-Watson:     </th> <td>   2.200</td>\n",
       "</tr>\n",
       "<tr>\n",
       "  <th>Prob(Omnibus):</th> <td> 0.172</td> <th>  Jarque-Bera (JB):  </th> <td>   3.572</td>\n",
       "</tr>\n",
       "<tr>\n",
       "  <th>Skew:</th>          <td> 0.183</td> <th>  Prob(JB):          </th> <td>   0.168</td>\n",
       "</tr>\n",
       "<tr>\n",
       "  <th>Kurtosis:</th>      <td> 2.807</td> <th>  Cond. No.          </th> <td>    51.5</td>\n",
       "</tr>\n",
       "</table><br/><br/>Warnings:<br/>[1] Standard Errors assume that the covariance matrix of the errors is correctly specified."
      ],
      "text/plain": [
       "<class 'statsmodels.iolib.summary.Summary'>\n",
       "\"\"\"\n",
       "                            OLS Regression Results                            \n",
       "==============================================================================\n",
       "Dep. Variable:                overall   R-squared:                       0.950\n",
       "Model:                            OLS   Adj. R-squared:                  0.949\n",
       "Method:                 Least Squares   F-statistic:                     3128.\n",
       "Date:                Mon, 22 Jul 2019   Prob (F-statistic):          3.80e-322\n",
       "Time:                        14:37:20   Log-Likelihood:                -1953.3\n",
       "No. Observations:                 500   AIC:                             3913.\n",
       "Df Residuals:                     497   BIC:                             3925.\n",
       "Df Model:                           3                                         \n",
       "Covariance Type:            nonrobust                                         \n",
       "==============================================================================\n",
       "                 coef    std err          t      P>|t|      [0.025      0.975]\n",
       "------------------------------------------------------------------------------\n",
       "num.child      3.2246      0.354      9.097      0.000       2.528       3.921\n",
       "distance       0.0351      0.016      2.178      0.030       0.003       0.067\n",
       "wait           0.6426      0.013     48.057      0.000       0.616       0.669\n",
       "==============================================================================\n",
       "Omnibus:                        3.525   Durbin-Watson:                   2.200\n",
       "Prob(Omnibus):                  0.172   Jarque-Bera (JB):                3.572\n",
       "Skew:                           0.183   Prob(JB):                        0.168\n",
       "Kurtosis:                       2.807   Cond. No.                         51.5\n",
       "==============================================================================\n",
       "\n",
       "Warnings:\n",
       "[1] Standard Errors assume that the covariance matrix of the errors is correctly specified.\n",
       "\"\"\""
      ]
     },
     "execution_count": 10,
     "metadata": {},
     "output_type": "execute_result"
    }
   ],
   "source": [
    "import statsmodels.formula.api as sm\n",
    "model=sm.OLS(y2,df2) #다중회귀분석 모델 생성\n",
    "result=model.fit() #모델훈련(학습)\n",
    "result.summary() #요약표 출력\n",
    "#모델의 설명력 95%\n",
    "#유의하지 않은 변수들\n",
    "#변수의 중요도 : 자녀수 > 대기시간 > 거리"
   ]
  },
  {
   "cell_type": "code",
   "execution_count": 14,
   "metadata": {},
   "outputs": [],
   "source": [
    "df2=df.iloc[:, 1:7] #독립변수  \n",
    "y2=df.iloc[:,7] #종속변수"
   ]
  },
  {
   "cell_type": "code",
   "execution_count": 15,
   "metadata": {},
   "outputs": [],
   "source": [
    "from sklearn.model_selection import train_test_split\n",
    "from sklearn.linear_model import LinearRegression\n",
    "#전체 데이터셋을 학습용:검증용 8:2로 구분\n",
    "X_train,X_test,y_train,y_test=train_test_split(\n",
    "    df2,y2,test_size=0.2, random_state=10)\n",
    "#다중회귀분석 모델을 만들고 모델 훈련(학습)\n",
    "model=LinearRegression().fit(X_train, y_train)"
   ]
  },
  {
   "cell_type": "code",
   "execution_count": 16,
   "metadata": {},
   "outputs": [
    {
     "name": "stdout",
     "output_type": "stream",
     "text": [
      "0.6644599841109264\n",
      "0.7329285624275137\n"
     ]
    }
   ],
   "source": [
    "print(model.score(X_train, y_train)) #학습용 데이터셋의 정확도\n",
    "print(model.score(X_test, y_test)) #검증용 데이터셋의 정확도"
   ]
  },
  {
   "cell_type": "code",
   "execution_count": null,
   "metadata": {},
   "outputs": [],
   "source": []
  }
 ],
 "metadata": {
  "kernelspec": {
   "display_name": "Python 3",
   "language": "python",
   "name": "python3"
  },
  "language_info": {
   "codemirror_mode": {
    "name": "ipython",
    "version": 3
   },
   "file_extension": ".py",
   "mimetype": "text/x-python",
   "name": "python",
   "nbconvert_exporter": "python",
   "pygments_lexer": "ipython3",
   "version": "3.7.3"
  }
 },
 "nbformat": 4,
 "nbformat_minor": 2
}
