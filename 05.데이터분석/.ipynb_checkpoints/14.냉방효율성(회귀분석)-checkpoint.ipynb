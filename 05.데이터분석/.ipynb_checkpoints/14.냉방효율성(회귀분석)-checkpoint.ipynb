{
 "cells": [
  {
   "cell_type": "code",
   "execution_count": 1,
   "metadata": {},
   "outputs": [],
   "source": [
    "import pandas as pd\n",
    "import matplotlib.pyplot as plt\n",
    "import seaborn as sns\n",
    "from scipy import stats"
   ]
  },
  {
   "cell_type": "code",
   "execution_count": 2,
   "metadata": {},
   "outputs": [
    {
     "data": {
      "text/html": [
       "<div>\n",
       "<style scoped>\n",
       "    .dataframe tbody tr th:only-of-type {\n",
       "        vertical-align: middle;\n",
       "    }\n",
       "\n",
       "    .dataframe tbody tr th {\n",
       "        vertical-align: top;\n",
       "    }\n",
       "\n",
       "    .dataframe thead th {\n",
       "        text-align: right;\n",
       "    }\n",
       "</style>\n",
       "<table border=\"1\" class=\"dataframe\">\n",
       "  <thead>\n",
       "    <tr style=\"text-align: right;\">\n",
       "      <th></th>\n",
       "      <th>X1</th>\n",
       "      <th>X2</th>\n",
       "      <th>X3</th>\n",
       "      <th>X4</th>\n",
       "      <th>X5</th>\n",
       "      <th>X6</th>\n",
       "      <th>X7</th>\n",
       "      <th>X8</th>\n",
       "      <th>Y1</th>\n",
       "      <th>Y2</th>\n",
       "    </tr>\n",
       "  </thead>\n",
       "  <tbody>\n",
       "    <tr>\n",
       "      <th>0</th>\n",
       "      <td>0.98</td>\n",
       "      <td>514.5</td>\n",
       "      <td>294.0</td>\n",
       "      <td>110.25</td>\n",
       "      <td>7.0</td>\n",
       "      <td>2</td>\n",
       "      <td>0.0</td>\n",
       "      <td>0</td>\n",
       "      <td>15.55</td>\n",
       "      <td>21.33</td>\n",
       "    </tr>\n",
       "    <tr>\n",
       "      <th>1</th>\n",
       "      <td>0.98</td>\n",
       "      <td>514.5</td>\n",
       "      <td>294.0</td>\n",
       "      <td>110.25</td>\n",
       "      <td>7.0</td>\n",
       "      <td>3</td>\n",
       "      <td>0.0</td>\n",
       "      <td>0</td>\n",
       "      <td>15.55</td>\n",
       "      <td>21.33</td>\n",
       "    </tr>\n",
       "    <tr>\n",
       "      <th>2</th>\n",
       "      <td>0.98</td>\n",
       "      <td>514.5</td>\n",
       "      <td>294.0</td>\n",
       "      <td>110.25</td>\n",
       "      <td>7.0</td>\n",
       "      <td>4</td>\n",
       "      <td>0.0</td>\n",
       "      <td>0</td>\n",
       "      <td>15.55</td>\n",
       "      <td>21.33</td>\n",
       "    </tr>\n",
       "    <tr>\n",
       "      <th>3</th>\n",
       "      <td>0.98</td>\n",
       "      <td>514.5</td>\n",
       "      <td>294.0</td>\n",
       "      <td>110.25</td>\n",
       "      <td>7.0</td>\n",
       "      <td>5</td>\n",
       "      <td>0.0</td>\n",
       "      <td>0</td>\n",
       "      <td>15.55</td>\n",
       "      <td>21.33</td>\n",
       "    </tr>\n",
       "    <tr>\n",
       "      <th>4</th>\n",
       "      <td>0.90</td>\n",
       "      <td>563.5</td>\n",
       "      <td>318.5</td>\n",
       "      <td>122.50</td>\n",
       "      <td>7.0</td>\n",
       "      <td>2</td>\n",
       "      <td>0.0</td>\n",
       "      <td>0</td>\n",
       "      <td>20.84</td>\n",
       "      <td>28.28</td>\n",
       "    </tr>\n",
       "  </tbody>\n",
       "</table>\n",
       "</div>"
      ],
      "text/plain": [
       "     X1     X2     X3      X4   X5  X6   X7  X8     Y1     Y2\n",
       "0  0.98  514.5  294.0  110.25  7.0   2  0.0   0  15.55  21.33\n",
       "1  0.98  514.5  294.0  110.25  7.0   3  0.0   0  15.55  21.33\n",
       "2  0.98  514.5  294.0  110.25  7.0   4  0.0   0  15.55  21.33\n",
       "3  0.98  514.5  294.0  110.25  7.0   5  0.0   0  15.55  21.33\n",
       "4  0.90  563.5  318.5  122.50  7.0   2  0.0   0  20.84  28.28"
      ]
     },
     "execution_count": 2,
     "metadata": {},
     "output_type": "execute_result"
    }
   ],
   "source": [
    "df=pd.read_csv(\"d:/data/energy/ENB2012_data.csv\") #데이터 파일 로딩\n",
    "df.head()"
   ]
  },
  {
   "cell_type": "code",
   "execution_count": 3,
   "metadata": {},
   "outputs": [],
   "source": [
    "train_cols=df.columns[0:8] #0~7 필드\n",
    "X=df[train_cols] #독립변수\n",
    "y=df[\"Y2\"] #종속변수(냉방하중)"
   ]
  },
  {
   "cell_type": "code",
   "execution_count": 4,
   "metadata": {},
   "outputs": [
    {
     "data": {
      "text/plain": [
       "LinregressResult(slope=57.05053290659375, intercept=-19.008355146122057, rvalue=0.6343390663353593, pvalue=1.0608759912586174e-87, stderr=2.5120843906893957)"
      ]
     },
     "execution_count": 4,
     "metadata": {},
     "output_type": "execute_result"
    }
   ],
   "source": [
    "x2=df[\"X1\"].values #건물의 상대적 크기\n",
    "y2=df[\"Y2\"].values\n",
    "result=stats.linregress(x2,y2) #단순회귀분석 모델 생성\n",
    "result\n",
    "# rvalue : 63.4% 설명력\n",
    "# pvalue : 95%, 99% 신뢰수준 하에서 유의"
   ]
  },
  {
   "cell_type": "code",
   "execution_count": 5,
   "metadata": {},
   "outputs": [
    {
     "data": {
      "text/plain": [
       "Text(0, 0.5, 'y2')"
      ]
     },
     "execution_count": 5,
     "metadata": {},
     "output_type": "execute_result"
    },
    {
     "data": {
      "image/png": "[encoded data removed]",
      "text/plain": [
       "<Figure size 432x288 with 1 Axes>"
      ]
     },
     "metadata": {
      "needs_background": "light"
     },
     "output_type": "display_data"
    }
   ],
   "source": [
    "slope,intercept,r_value,p_value,stderr=stats.linregress(x2,y2)\n",
    "plt.scatter(x2,y2) #산점도\n",
    "plt.plot(x2,slope*x2+intercept,c=\"red\") #회귀선\n",
    "plt.xlabel(\"x1\")\n",
    "plt.ylabel(\"y2\")"
   ]
  },
  {
   "cell_type": "code",
   "execution_count": 9,
   "metadata": {},
   "outputs": [
    {
     "data": {
      "text/html": [
       "<table class=\"simpletable\">\n",
       "<caption>OLS Regression Results</caption>\n",
       "<tr>\n",
       "  <th>Dep. Variable:</th>           <td>Y2</td>        <th>  R-squared:         </th> <td>   0.985</td>\n",
       "</tr>\n",
       "<tr>\n",
       "  <th>Model:</th>                   <td>OLS</td>       <th>  Adj. R-squared:    </th> <td>   0.985</td>\n",
       "</tr>\n",
       "<tr>\n",
       "  <th>Method:</th>             <td>Least Squares</td>  <th>  F-statistic:       </th> <td>   7132.</td>\n",
       "</tr>\n",
       "<tr>\n",
       "  <th>Date:</th>             <td>Mon, 22 Jul 2019</td> <th>  Prob (F-statistic):</th>  <td>  0.00</td> \n",
       "</tr>\n",
       "<tr>\n",
       "  <th>Time:</th>                 <td>12:46:02</td>     <th>  Log-Likelihood:    </th> <td> -1990.2</td>\n",
       "</tr>\n",
       "<tr>\n",
       "  <th>No. Observations:</th>      <td>   768</td>      <th>  AIC:               </th> <td>   3994.</td>\n",
       "</tr>\n",
       "<tr>\n",
       "  <th>Df Residuals:</th>          <td>   761</td>      <th>  BIC:               </th> <td>   4027.</td>\n",
       "</tr>\n",
       "<tr>\n",
       "  <th>Df Model:</th>              <td>     7</td>      <th>                     </th>     <td> </td>   \n",
       "</tr>\n",
       "<tr>\n",
       "  <th>Covariance Type:</th>      <td>nonrobust</td>    <th>                     </th>     <td> </td>   \n",
       "</tr>\n",
       "</table>\n",
       "<table class=\"simpletable\">\n",
       "<tr>\n",
       "   <td></td>     <th>coef</th>     <th>std err</th>      <th>t</th>      <th>P>|t|</th>  <th>[0.025</th>    <th>0.975]</th>  \n",
       "</tr>\n",
       "<tr>\n",
       "  <th>X1</th> <td>  -19.0135</td> <td>    1.973</td> <td>   -9.638</td> <td> 0.000</td> <td>  -22.886</td> <td>  -15.141</td>\n",
       "</tr>\n",
       "<tr>\n",
       "  <th>X2</th> <td>    0.0021</td> <td>    0.001</td> <td>    1.522</td> <td> 0.128</td> <td>   -0.001</td> <td>    0.005</td>\n",
       "</tr>\n",
       "<tr>\n",
       "  <th>X3</th> <td>    0.0180</td> <td>    0.004</td> <td>    4.343</td> <td> 0.000</td> <td>    0.010</td> <td>    0.026</td>\n",
       "</tr>\n",
       "<tr>\n",
       "  <th>X4</th> <td>   -0.0079</td> <td>    0.003</td> <td>   -2.977</td> <td> 0.003</td> <td>   -0.013</td> <td>   -0.003</td>\n",
       "</tr>\n",
       "<tr>\n",
       "  <th>X5</th> <td>    5.5881</td> <td>    0.245</td> <td>   22.812</td> <td> 0.000</td> <td>    5.107</td> <td>    6.069</td>\n",
       "</tr>\n",
       "<tr>\n",
       "  <th>X6</th> <td>    0.1299</td> <td>    0.105</td> <td>    1.241</td> <td> 0.215</td> <td>   -0.076</td> <td>    0.335</td>\n",
       "</tr>\n",
       "<tr>\n",
       "  <th>X7</th> <td>   14.7496</td> <td>    0.900</td> <td>   16.386</td> <td> 0.000</td> <td>   12.983</td> <td>   16.517</td>\n",
       "</tr>\n",
       "<tr>\n",
       "  <th>X8</th> <td>    0.0436</td> <td>    0.077</td> <td>    0.564</td> <td> 0.573</td> <td>   -0.108</td> <td>    0.195</td>\n",
       "</tr>\n",
       "</table>\n",
       "<table class=\"simpletable\">\n",
       "<tr>\n",
       "  <th>Omnibus:</th>       <td>77.438</td> <th>  Durbin-Watson:     </th> <td>   1.037</td>\n",
       "</tr>\n",
       "<tr>\n",
       "  <th>Prob(Omnibus):</th> <td> 0.000</td> <th>  Jarque-Bera (JB):  </th> <td> 164.254</td>\n",
       "</tr>\n",
       "<tr>\n",
       "  <th>Skew:</th>          <td> 0.596</td> <th>  Prob(JB):          </th> <td>2.15e-36</td>\n",
       "</tr>\n",
       "<tr>\n",
       "  <th>Kurtosis:</th>      <td> 4.927</td> <th>  Cond. No.          </th> <td>3.22e+16</td>\n",
       "</tr>\n",
       "</table><br/><br/>Warnings:<br/>[1] Standard Errors assume that the covariance matrix of the errors is correctly specified.<br/>[2] The smallest eigenvalue is 4.39e-25. This might indicate that there are<br/>strong multicollinearity problems or that the design matrix is singular."
      ],
      "text/plain": [
       "<class 'statsmodels.iolib.summary.Summary'>\n",
       "\"\"\"\n",
       "                            OLS Regression Results                            \n",
       "==============================================================================\n",
       "Dep. Variable:                     Y2   R-squared:                       0.985\n",
       "Model:                            OLS   Adj. R-squared:                  0.985\n",
       "Method:                 Least Squares   F-statistic:                     7132.\n",
       "Date:                Mon, 22 Jul 2019   Prob (F-statistic):               0.00\n",
       "Time:                        12:46:02   Log-Likelihood:                -1990.2\n",
       "No. Observations:                 768   AIC:                             3994.\n",
       "Df Residuals:                     761   BIC:                             4027.\n",
       "Df Model:                           7                                         \n",
       "Covariance Type:            nonrobust                                         \n",
       "==============================================================================\n",
       "                 coef    std err          t      P>|t|      [0.025      0.975]\n",
       "------------------------------------------------------------------------------\n",
       "X1           -19.0135      1.973     -9.638      0.000     -22.886     -15.141\n",
       "X2             0.0021      0.001      1.522      0.128      -0.001       0.005\n",
       "X3             0.0180      0.004      4.343      0.000       0.010       0.026\n",
       "X4            -0.0079      0.003     -2.977      0.003      -0.013      -0.003\n",
       "X5             5.5881      0.245     22.812      0.000       5.107       6.069\n",
       "X6             0.1299      0.105      1.241      0.215      -0.076       0.335\n",
       "X7            14.7496      0.900     16.386      0.000      12.983      16.517\n",
       "X8             0.0436      0.077      0.564      0.573      -0.108       0.195\n",
       "==============================================================================\n",
       "Omnibus:                       77.438   Durbin-Watson:                   1.037\n",
       "Prob(Omnibus):                  0.000   Jarque-Bera (JB):              164.254\n",
       "Skew:                           0.596   Prob(JB):                     2.15e-36\n",
       "Kurtosis:                       4.927   Cond. No.                     3.22e+16\n",
       "==============================================================================\n",
       "\n",
       "Warnings:\n",
       "[1] Standard Errors assume that the covariance matrix of the errors is correctly specified.\n",
       "[2] The smallest eigenvalue is 4.39e-25. This might indicate that there are\n",
       "strong multicollinearity problems or that the design matrix is singular.\n",
       "\"\"\""
      ]
     },
     "execution_count": 9,
     "metadata": {},
     "output_type": "execute_result"
    }
   ],
   "source": [
    "#다중회귀분석 \n",
    "import statsmodels.formula.api as sm\n",
    "model=sm.OLS(y, X) #다중회귀분석 모델 생성\n",
    "result=model.fit() #학습\n",
    "result.summary() # 요약표 출력\n",
    "# 모델의 설명력 : 98.5%\n",
    "# 유의하지 않은 변수들\n",
    "# 변수의 중요도"
   ]
  },
  {
   "cell_type": "code",
   "execution_count": 10,
   "metadata": {},
   "outputs": [
    {
     "name": "stdout",
     "output_type": "stream",
     "text": [
      "     X1     X3      X4   X5   X7\n",
      "0  0.98  294.0  110.25  7.0  0.0\n",
      "1  0.98  294.0  110.25  7.0  0.0\n",
      "2  0.98  294.0  110.25  7.0  0.0\n",
      "3  0.98  294.0  110.25  7.0  0.0\n",
      "4  0.90  318.5  122.50  7.0  0.0\n"
     ]
    }
   ],
   "source": [
    "#X2,X6,X8 변수를 제거\n",
    "train_cols=df.columns[[0,2,3,4,6]]\n",
    "X=df[train_cols]\n",
    "y=df[\"Y1\"]\n",
    "print(X.head())"
   ]
  },
  {
   "cell_type": "code",
   "execution_count": 11,
   "metadata": {},
   "outputs": [
    {
     "data": {
      "text/html": [
       "<table class=\"simpletable\">\n",
       "<caption>OLS Regression Results</caption>\n",
       "<tr>\n",
       "  <th>Dep. Variable:</th>           <td>Y1</td>        <th>  R-squared:         </th> <td>   0.985</td> \n",
       "</tr>\n",
       "<tr>\n",
       "  <th>Model:</th>                   <td>OLS</td>       <th>  Adj. R-squared:    </th> <td>   0.985</td> \n",
       "</tr>\n",
       "<tr>\n",
       "  <th>Method:</th>             <td>Least Squares</td>  <th>  F-statistic:       </th> <td>1.020e+04</td>\n",
       "</tr>\n",
       "<tr>\n",
       "  <th>Date:</th>             <td>Mon, 22 Jul 2019</td> <th>  Prob (F-statistic):</th>  <td>  0.00</td>  \n",
       "</tr>\n",
       "<tr>\n",
       "  <th>Time:</th>                 <td>12:51:15</td>     <th>  Log-Likelihood:    </th> <td> -1926.5</td> \n",
       "</tr>\n",
       "<tr>\n",
       "  <th>No. Observations:</th>      <td>   768</td>      <th>  AIC:               </th> <td>   3863.</td> \n",
       "</tr>\n",
       "<tr>\n",
       "  <th>Df Residuals:</th>          <td>   763</td>      <th>  BIC:               </th> <td>   3886.</td> \n",
       "</tr>\n",
       "<tr>\n",
       "  <th>Df Model:</th>              <td>     5</td>      <th>                     </th>     <td> </td>    \n",
       "</tr>\n",
       "<tr>\n",
       "  <th>Covariance Type:</th>      <td>nonrobust</td>    <th>                     </th>     <td> </td>    \n",
       "</tr>\n",
       "</table>\n",
       "<table class=\"simpletable\">\n",
       "<tr>\n",
       "   <td></td>     <th>coef</th>     <th>std err</th>      <th>t</th>      <th>P>|t|</th>  <th>[0.025</th>    <th>0.975]</th>  \n",
       "</tr>\n",
       "<tr>\n",
       "  <th>X1</th> <td>  -19.8289</td> <td>    1.802</td> <td>  -11.001</td> <td> 0.000</td> <td>  -23.367</td> <td>  -16.291</td>\n",
       "</tr>\n",
       "<tr>\n",
       "  <th>X3</th> <td>    0.0288</td> <td>    0.003</td> <td>   10.103</td> <td> 0.000</td> <td>    0.023</td> <td>    0.034</td>\n",
       "</tr>\n",
       "<tr>\n",
       "  <th>X4</th> <td>   -0.0246</td> <td>    0.005</td> <td>   -5.107</td> <td> 0.000</td> <td>   -0.034</td> <td>   -0.015</td>\n",
       "</tr>\n",
       "<tr>\n",
       "  <th>X5</th> <td>    5.3022</td> <td>    0.225</td> <td>   23.556</td> <td> 0.000</td> <td>    4.860</td> <td>    5.744</td>\n",
       "</tr>\n",
       "<tr>\n",
       "  <th>X7</th> <td>   20.4724</td> <td>    0.808</td> <td>   25.327</td> <td> 0.000</td> <td>   18.886</td> <td>   22.059</td>\n",
       "</tr>\n",
       "</table>\n",
       "<table class=\"simpletable\">\n",
       "<tr>\n",
       "  <th>Omnibus:</th>       <td>16.050</td> <th>  Durbin-Watson:     </th> <td>   0.601</td>\n",
       "</tr>\n",
       "<tr>\n",
       "  <th>Prob(Omnibus):</th> <td> 0.000</td> <th>  Jarque-Bera (JB):  </th> <td>  30.053</td>\n",
       "</tr>\n",
       "<tr>\n",
       "  <th>Skew:</th>          <td>-0.049</td> <th>  Prob(JB):          </th> <td>2.98e-07</td>\n",
       "</tr>\n",
       "<tr>\n",
       "  <th>Kurtosis:</th>      <td> 3.964</td> <th>  Cond. No.          </th> <td>6.18e+03</td>\n",
       "</tr>\n",
       "</table><br/><br/>Warnings:<br/>[1] Standard Errors assume that the covariance matrix of the errors is correctly specified.<br/>[2] The condition number is large, 6.18e+03. This might indicate that there are<br/>strong multicollinearity or other numerical problems."
      ],
      "text/plain": [
       "<class 'statsmodels.iolib.summary.Summary'>\n",
       "\"\"\"\n",
       "                            OLS Regression Results                            \n",
       "==============================================================================\n",
       "Dep. Variable:                     Y1   R-squared:                       0.985\n",
       "Model:                            OLS   Adj. R-squared:                  0.985\n",
       "Method:                 Least Squares   F-statistic:                 1.020e+04\n",
       "Date:                Mon, 22 Jul 2019   Prob (F-statistic):               0.00\n",
       "Time:                        12:51:15   Log-Likelihood:                -1926.5\n",
       "No. Observations:                 768   AIC:                             3863.\n",
       "Df Residuals:                     763   BIC:                             3886.\n",
       "Df Model:                           5                                         \n",
       "Covariance Type:            nonrobust                                         \n",
       "==============================================================================\n",
       "                 coef    std err          t      P>|t|      [0.025      0.975]\n",
       "------------------------------------------------------------------------------\n",
       "X1           -19.8289      1.802    -11.001      0.000     -23.367     -16.291\n",
       "X3             0.0288      0.003     10.103      0.000       0.023       0.034\n",
       "X4            -0.0246      0.005     -5.107      0.000      -0.034      -0.015\n",
       "X5             5.3022      0.225     23.556      0.000       4.860       5.744\n",
       "X7            20.4724      0.808     25.327      0.000      18.886      22.059\n",
       "==============================================================================\n",
       "Omnibus:                       16.050   Durbin-Watson:                   0.601\n",
       "Prob(Omnibus):                  0.000   Jarque-Bera (JB):               30.053\n",
       "Skew:                          -0.049   Prob(JB):                     2.98e-07\n",
       "Kurtosis:                       3.964   Cond. No.                     6.18e+03\n",
       "==============================================================================\n",
       "\n",
       "Warnings:\n",
       "[1] Standard Errors assume that the covariance matrix of the errors is correctly specified.\n",
       "[2] The condition number is large, 6.18e+03. This might indicate that there are\n",
       "strong multicollinearity or other numerical problems.\n",
       "\"\"\""
      ]
     },
     "execution_count": 11,
     "metadata": {},
     "output_type": "execute_result"
    }
   ],
   "source": [
    "#다중회귀분석 \n",
    "import statsmodels.formula.api as sm\n",
    "model=sm.OLS(y, X) #다중회귀분석 모델 생성\n",
    "result=model.fit() #학습\n",
    "result.summary() # 요약표 출력\n",
    "# 모델의 설명력 : 98.5%\n",
    "# 유의하지 않은 변수들\n",
    "# 변수의 중요도"
   ]
  },
  {
   "cell_type": "code",
   "execution_count": 12,
   "metadata": {},
   "outputs": [],
   "source": [
    "from sklearn.model_selection import train_test_split\n",
    "from sklearn.linear_model import LinearRegression\n",
    "#전체 데이터셋을 학습용:검증용 8:2로 구분\n",
    "X_train,X_test,y_train,y_test=train_test_split(\n",
    "    X,y,test_size=0.2, random_state=10)\n",
    "#다중회귀분석 모델을 만들고 학습용 데이터셋을 입력하여 훈련(기계학습)\n",
    "model=LinearRegression().fit(X_train, y_train)"
   ]
  },
  {
   "cell_type": "code",
   "execution_count": 13,
   "metadata": {},
   "outputs": [
    {
     "name": "stdout",
     "output_type": "stream",
     "text": [
      "0.9113667222247522\n",
      "0.9303286306185478\n"
     ]
    }
   ],
   "source": [
    "print(model.score(X_train,y_train)) #학습용 데이터셋의 예측 정확도\n",
    "print(model.score(X_test,y_test)) #검증용 데이터셋의 예측 정확도"
   ]
  },
  {
   "cell_type": "code",
   "execution_count": 14,
   "metadata": {},
   "outputs": [
    {
     "data": {
      "text/plain": [
       "array([18.32000002, 19.01764247, 11.13954414, 27.31260032, 18.32000002,\n",
       "        5.89640484, 11.33059041, 29.75044022, 31.10362444, 15.17411644,\n",
       "       27.95774086, 14.28542772,  9.93097714, 29.75044022, 32.8963238 ,\n",
       "       17.62235757, 40.12694477, 10.01094671, 31.5766801 , 10.62861959,\n",
       "       27.95774086, 12.72587531, 31.10362444, 28.43079652, 14.47647399,\n",
       "       24.81185728, 12.72587531, 31.5766801 , 27.95774086, 15.60507142,\n",
       "       11.13954414, 11.33059041, 12.72587531, 32.8963238 , 30.45848391,\n",
       "       27.95774086, 31.10362444,  7.99366056, 15.87175889, 24.81185728,\n",
       "       15.60507142, 24.81185728, 31.5766801 , 29.63503516, 32.78091874,\n",
       "       40.12694477, 14.47647399, 31.10362444,  7.99366056, 33.83517761,\n",
       "        9.31330426, 34.72256368, 12.72587531, 15.87175889, 33.60436749,\n",
       "       17.62235757, 13.15683029, 11.33059041, 11.33059041, 26.48915158,\n",
       "       31.10362444, 15.87175889, 15.87175889, 32.8963238 , 19.01764247,\n",
       "       14.47647399,  7.21604854, 31.5766801 ,  9.31330426, 30.45848391,\n",
       "       40.12694477, 15.87175889, 33.60436749, 11.33059041, 31.10362444,\n",
       "       15.60507142, 24.81185728, 15.17411644, 16.30271387, 19.01764247,\n",
       "       29.63503516, 15.17411644, 32.8963238 , 26.48915158, 12.72587531,\n",
       "       34.72256368, 12.72587531, 29.63503516, 24.81185728, 12.72587531,\n",
       "       19.01764247, 27.95774086, 15.87175889, 33.83517761, 17.62235757,\n",
       "       12.45918784, 26.48915158, 33.60436749, 34.72256368, 33.60436749,\n",
       "        9.23333469, 33.83517761, 10.01094671,  7.99366056, 33.60436749,\n",
       "       27.31260032, 27.31260032, 15.17411644, 11.13954414, 26.3335408 ,\n",
       "       36.04220738, 11.33059041, 15.60507142, 36.98106119, 29.63503516,\n",
       "       10.01094671, 13.15683029, 12.02823286, 16.30271387, 11.13954414,\n",
       "       28.43079652, 27.31260032, 12.45918784, 30.45848391, 26.48915158,\n",
       "       15.60507142,  7.91369099, 31.5766801 , 30.45848391, 29.75044022,\n",
       "       14.28542772, 12.45918784, 30.45848391, 19.01764247, 36.98106119,\n",
       "       32.78091874, 36.98106119,  9.31330426, 11.33059041, 30.45848391,\n",
       "       15.87175889, 27.31260032, 36.98106119, 33.60436749, 40.12694477,\n",
       "       18.32000002, 34.72256368, 16.30271387,  9.31330426,  7.99366056,\n",
       "       16.30271387, 24.81185728, 10.01094671, 13.15683029])"
      ]
     },
     "execution_count": 14,
     "metadata": {},
     "output_type": "execute_result"
    }
   ],
   "source": [
    "pred=model.predict(X_test) #검증용 데이터셋을 입력하여 결과 예측\n",
    "pred"
   ]
  },
  {
   "cell_type": "code",
   "execution_count": null,
   "metadata": {},
   "outputs": [],
   "source": []
  }
 ],
 "metadata": {
  "kernelspec": {
   "display_name": "Python 3",
   "language": "python",
   "name": "python3"
  },
  "language_info": {
   "codemirror_mode": {
    "name": "ipython",
    "version": 3
   },
   "file_extension": ".py",
   "mimetype": "text/x-python",
   "name": "python",
   "nbconvert_exporter": "python",
   "pygments_lexer": "ipython3",
   "version": "3.7.3"
  }
 },
 "nbformat": 4,
 "nbformat_minor": 2
}
