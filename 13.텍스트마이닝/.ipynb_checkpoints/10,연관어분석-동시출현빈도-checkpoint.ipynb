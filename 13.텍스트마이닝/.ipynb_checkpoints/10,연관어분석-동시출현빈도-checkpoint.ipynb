{
 "cells": [
  {
   "cell_type": "code",
   "execution_count": 1,
   "metadata": {},
   "outputs": [
    {
     "name": "stdout",
     "output_type": "stream",
     "text": [
      "100\n",
      "Bromwell High is a cartoon comedy. It ran at the same time as some other programs about school life, such as \"Teachers\". My 35 years in the teaching profession lead me to believe that Bromwell High's satire is much closer to reality than is \"Teachers\". The scramble to survive financially, the insightful students who can see right through their pathetic teachers' pomp, the pettiness of the whole situation, all remind me of the schools I knew and their students. When I saw the episode in which a student repeatedly tried to burn down the school, I immediately recalled ......... at .......... High. A classic line: INSPECTOR: I'm here to sack one of your teachers. STUDENT: Welcome to Bromwell High. I expect that many adults of my age think that Bromwell High is far fetched. What a pity that it isn't!\n"
     ]
    }
   ],
   "source": [
    "import glob\n",
    "\n",
    "#긍정리뷰 100개 로딩\n",
    "pos_review=(glob.glob(\"d:/data/imdb/train/pos/*.txt\"))[0:100]\n",
    "lines_pos=[]\n",
    "for i in pos_review:\n",
    "    try:\n",
    "        f=open(i,\"r\")\n",
    "        temp=f.readlines()[0]\n",
    "        lines_pos.append(temp)\n",
    "        f.close()\n",
    "    except:\n",
    "        continue\n",
    "        \n",
    "print(len(lines_pos))\n",
    "print(lines_pos[0])"
   ]
  },
  {
   "cell_type": "code",
   "execution_count": 3,
   "metadata": {},
   "outputs": [
    {
     "name": "stdout",
     "output_type": "stream",
     "text": [
      "    term1  term2  freq\n",
      "0    film  story    41\n",
      "1   movie    one    41\n",
      "2   movie  story    35\n",
      "3    film  movie    35\n",
      "4     one  story    33\n",
      "5    good  movie    32\n",
      "6    film    one    31\n",
      "7   movie    see    30\n",
      "8    film   like    27\n",
      "9     one    see    27\n",
      "10   film   good    26\n",
      "11   good  story    26\n",
      "12  great  movie    26\n",
      "13   like  movie    26\n",
      "14   film   well    25\n",
      "15   film   time    25\n",
      "16  movie   time    25\n",
      "17   good    one    25\n",
      "18  movie   much    25\n",
      "19   film    see    24\n"
     ]
    }
   ],
   "source": [
    "from nltk.tokenize import RegexpTokenizer\n",
    "from nltk.corpus import stopwords\n",
    "import pandas as pd\n",
    "#숫자,특수문자 제거 \n",
    "tokenizer=RegexpTokenizer(\"[\\w]+\")\n",
    "stop_words=stopwords.words(\"english\") #영어 불용어 사전\n",
    "count={} #동시출현 빈도를 저장할 딕셔너리\n",
    "for line in lines_pos:\n",
    "    words=line.lower() #소문자로 변환\n",
    "    tokens=tokenizer.tokenize(words) #토큰화\n",
    "    #불용어 추가\n",
    "    stopped_tokens=[i for i in list(set(tokens)) \n",
    "                   if not i in stop_words+[\"br\"]]\n",
    "    #글자수가 1인 단어들 제거\n",
    "    stopped_tokens2=[i for i in stopped_tokens if len(i) > 1]\n",
    "    \n",
    "    for i,a in enumerate(stopped_tokens2):\n",
    "        for b in stopped_tokens2[i+1 : ]:\n",
    "            if a>b:\n",
    "                count[b,a]=count.get((b,a),0) + 1\n",
    "            else:\n",
    "                count[a,b]=count.get((a,b),0) + 1\n",
    "\n",
    "#딕셔너리를 데이터프레임으로 변환                \n",
    "df=pd.DataFrame.from_dict(count, orient=\"index\")    \n",
    "list1=[]\n",
    "for i in range(len(df)):\n",
    "    list1.append([df.index[i][0], df.index[i][1], df[0][i]])\n",
    "    \n",
    "df2=pd.DataFrame(list1, columns=[\"term1\",\"term2\",\"freq\"])    \n",
    "df3=df2.sort_values(by=[\"freq\"],ascending=False)\n",
    "df3_pos=df3.reset_index(drop=True)\n",
    "print(df3_pos.head(20))"
   ]
  },
  {
   "cell_type": "code",
   "execution_count": 9,
   "metadata": {},
   "outputs": [
    {
     "name": "stdout",
     "output_type": "stream",
     "text": [
      "100\n",
      "Story of a man who has unnatural feelings for a pig. Starts out with a opening scene that is a terrific example of absurd comedy. A formal orchestra audience is turned into an insane, violent mob by the crazy chantings of it's singers. Unfortunately it stays absurd the WHOLE time with no general narrative eventually making it just too off putting. Even those from the era should be turned off. The cryptic dialogue would make Shakespeare seem easy to a third grader. On a technical level it's better than you might think with some good cinematography by future great Vilmos Zsigmond. Future stars Sally Kirkland and Frederic Forrest can be seen briefly.\n"
     ]
    }
   ],
   "source": [
    "#부정리뷰 100개 로딩\n",
    "neg_review=(glob.glob(\"d:/data/imdb/train/neg/*.txt\"))[0:100]\n",
    "lines_neg=[]\n",
    "for i in neg_review:\n",
    "    try:\n",
    "        f=open(i,\"r\")\n",
    "        temp=f.readlines()[0]\n",
    "        lines_neg.append(temp)\n",
    "        f.close()\n",
    "    except:\n",
    "        continue\n",
    "        \n",
    "print(len(lines_neg))\n",
    "print(lines_neg[0])"
   ]
  },
  {
   "cell_type": "code",
   "execution_count": null,
   "metadata": {},
   "outputs": [],
   "source": [
    "from nltk.tokenize import RegexpTokenizer\n",
    "from nltk.corpus import stopwords\n",
    "import pandas as pd\n",
    "#숫자,특수문자 제거 \n",
    "tokenizer=RegexpTokenizer(\"[\\w]+\")\n",
    "stop_words=stopwords.words(\"english\") #영어 불용어 사전\n",
    "count={} #동시출현 빈도를 저장할 딕셔너리\n",
    "for line in lines_neg:\n",
    "    words=line.lower() #소문자로 변환\n",
    "    tokens=tokenizer.tokenize(words) #토큰화\n",
    "    #불용어 추가\n",
    "    stopped_tokens=[i for i in list(set(tokens)) \n",
    "                   if not i in stop_words+[\"br\"]]\n",
    "    #글자수가 1인 단어들 제거\n",
    "    stopped_tokens2=[i for i in stopped_tokens if len(i) > 1]\n",
    "    \n",
    "    for i,a in enumerate(stopped_tokens2):\n",
    "        for b in stopped_tokens2[i+1 : ]:\n",
    "            if a>b:\n",
    "                count[b,a]=count.get((b,a),0) + 1\n",
    "            else:\n",
    "                count[a,b]=count.get((a,b),0) + 1\n",
    "\n",
    "#딕셔너리를 데이터프레임으로 변환                \n",
    "df=pd.DataFrame.from_dict(count, orient=\"index\")    \n",
    "list1=[]\n",
    "for i in range(len(df)):\n",
    "    list1.append([df.index[i][0], df.index[i][1], df[0][i]])\n",
    "    \n",
    "df2=pd.DataFrame(list1, columns=[\"term1\",\"term2\",\"freq\"])    \n",
    "df3=df2.sort_values(by=[\"freq\"],ascending=False)\n",
    "df3_neg=df3.reset_index(drop=True)\n",
    "print(df3_neg.head(20))"
   ]
  },
  {
   "cell_type": "code",
   "execution_count": null,
   "metadata": {},
   "outputs": [],
   "source": []
  }
 ],
 "metadata": {
  "kernelspec": {
   "display_name": "Python 3",
   "language": "python",
   "name": "python3"
  },
  "language_info": {
   "codemirror_mode": {
    "name": "ipython",
    "version": 3
   },
   "file_extension": ".py",
   "mimetype": "text/x-python",
   "name": "python",
   "nbconvert_exporter": "python",
   "pygments_lexer": "ipython3",
   "version": "3.7.3"
  }
 },
 "nbformat": 4,
 "nbformat_minor": 2
}
