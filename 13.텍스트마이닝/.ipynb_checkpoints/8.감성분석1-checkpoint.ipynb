{
 "cells": [
  {
   "cell_type": "code",
   "execution_count": 5,
   "metadata": {},
   "outputs": [
    {
     "name": "stdout",
     "output_type": "stream",
     "text": [
      "d:/data/imdb/train/pos\\10018_8.txt\n",
      "This Night Listener is better than people are generally saying. It has weaknesses, and it seems to be having a genre identity crisis, no doubt, but I think its creepy atmosphere and intriguing performances make up for this. The whole thing feels like one of those fireside \"this happened to a friend of a friend of mine\" ghost stories. One big complaint about the movie is the pacing: but the slow and sometimes awkward pacing is deliberate. Everything that unfolds in this movie is kept well within the realm of possibility, and real life just sort of plods along혰no? So there are no flashy endings or earth-shattering revelations, no \"showdown\" scenes. Thank Heaven. You have to get into the zone when watching this movie, forget your reservations and your expectations of what makes a (conventionally)good movie. Williams isn't terrific, but he easily meets the needs of the story, plus his character is supposed to be somewhat generic (\"No One\") as he is the Everyman, the avatar by which we ourselves enter the story. Toni Collette's performance should be nominated for an Oscar (even if she maybe shouldn't win it). Give it a shot. For quality and content alone, The Night Listener is surely in the top twenty percent of movies coming out these days.\n"
     ]
    },
    {
     "data": {
      "text/plain": [
       "8.0"
      ]
     },
     "execution_count": 5,
     "metadata": {},
     "output_type": "execute_result"
    }
   ],
   "source": [
    "import glob\n",
    "from afinn import Afinn\n",
    "\n",
    "pos_review=(glob.glob(\"d:/data/imdb/train/pos/*.txt\"))[20]\n",
    "print(pos_review)\n",
    "f=open(pos_review,\"r\")\n",
    "lines1=f.readlines()[0]\n",
    "print(lines1)\n",
    "f.close()\n",
    "#감성분석 객체(긍정/부정)\n",
    "afinn=Afinn()\n",
    "afinn.score(lines1)"
   ]
  },
  {
   "cell_type": "code",
   "execution_count": 6,
   "metadata": {},
   "outputs": [
    {
     "data": {
      "text/plain": [
       "-4.0"
      ]
     },
     "execution_count": 6,
     "metadata": {},
     "output_type": "execute_result"
    }
   ],
   "source": [
    "#부정리뷰\n",
    "# glob() 지정된 패턴의 파일을 불러오는 함수\n",
    "neg_review=(glob.glob(\"d:/data/imdb/train/neg/*.txt\"))[20]\n",
    "f=open(neg_review,\"r\") #파일 오픈\n",
    "lines2=f.readlines()[0] #리스트에 저장된 텍스트를 읽음\n",
    "f.close()\n",
    "afinn.score(lines2) #감성지수 : 양수이면 긍정, 음수이면 부정"
   ]
  },
  {
   "cell_type": "code",
   "execution_count": null,
   "metadata": {},
   "outputs": [],
   "source": []
  }
 ],
 "metadata": {
  "kernelspec": {
   "display_name": "Python 3",
   "language": "python",
   "name": "python3"
  },
  "language_info": {
   "codemirror_mode": {
    "name": "ipython",
    "version": 3
   },
   "file_extension": ".py",
   "mimetype": "text/x-python",
   "name": "python",
   "nbconvert_exporter": "python",
   "pygments_lexer": "ipython3",
   "version": "3.7.3"
  }
 },
 "nbformat": 4,
 "nbformat_minor": 2
}
