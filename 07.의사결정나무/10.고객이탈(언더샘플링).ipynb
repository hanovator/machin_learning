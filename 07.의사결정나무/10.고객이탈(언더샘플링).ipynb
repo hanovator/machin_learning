{
 "cells": [
  {
   "cell_type": "code",
   "execution_count": null,
   "metadata": {},
   "outputs": [],
   "source": [
    "import pandas as pd\n",
    "df=pd.read_csv(\"d:/data/customer/customer.csv\")\n",
    "df.head()"
   ]
  },
  {
   "cell_type": "code",
   "execution_count": null,
   "metadata": {},
   "outputs": [],
   "source": [
    "df[\"Churn\"].value_counts()\n",
    "#유지 2850, 이탈 483 불균형 데이터셋"
   ]
  },
  {
   "cell_type": "code",
   "execution_count": null,
   "metadata": {},
   "outputs": [],
   "source": [
    "#변수 정의\n",
    "train_cols=df.columns[0:16]\n",
    "X=df[train_cols] #독립변수\n",
    "y=df[\"Churn\"] #종속변수"
   ]
  },
  {
   "cell_type": "code",
   "execution_count": null,
   "metadata": {},
   "outputs": [],
   "source": [
    "#언더샘플링\n",
    "from imblearn.under_sampling import RandomUnderSampler\n",
    "#적은 데이터셋을 기준으로 랜덤샘플링\n",
    "X_sample,y_sample=RandomUnderSampler(random_state=0).fit_sample(X,y)\n",
    "#데이터프레임으로 변환\n",
    "X_samp=pd.DataFrame(data=X_sample,columns=train_cols)\n",
    "y_samp=pd.DataFrame(data=y_sample,columns=[\"Churn\"])\n",
    "df_samp=pd.concat([X_samp,y_samp],axis=1)"
   ]
  },
  {
   "cell_type": "code",
   "execution_count": null,
   "metadata": {},
   "outputs": [],
   "source": [
    "df_samp[\"Churn\"].value_counts() \n",
    "# 483:483으로 언더샘플링"
   ]
  },
  {
   "cell_type": "code",
   "execution_count": null,
   "metadata": {},
   "outputs": [],
   "source": [
    "X=df_samp[train_cols] #독립변수\n",
    "y=df_samp[\"Churn\"] #종속변수"
   ]
  },
  {
   "cell_type": "code",
   "execution_count": null,
   "metadata": {},
   "outputs": [],
   "source": [
    "from sklearn.tree import DecisionTreeClassifier\n",
    "from sklearn.model_selection import train_test_split\n",
    "#데이터셋을 8:2로 구분\n",
    "X_train,X_test,y_train,y_test=train_test_split(X,y,test_size=0.2,\n",
    "                                               random_state=10)\n",
    "#트리 모형 생성\n",
    "model=DecisionTreeClassifier(random_state=0)\n",
    "#모형 훈련\n",
    "model.fit(X_train,y_train)"
   ]
  },
  {
   "cell_type": "code",
   "execution_count": null,
   "metadata": {},
   "outputs": [],
   "source": [
    "#예측정확도 확인\n",
    "print(model.score(X_train,y_train))\n",
    "print(model.score(X_test,y_test))\n",
    "#언더샘플링(과적합)\n",
    "# 1.0\n",
    "# 0.845360824742268"
   ]
  },
  {
   "cell_type": "code",
   "execution_count": null,
   "metadata": {},
   "outputs": [],
   "source": [
    "#트리 모형 생성(max_depth를 3으로 가지치기)\n",
    "model=DecisionTreeClassifier(max_depth=3,random_state=0)\n",
    "#모형 훈련\n",
    "model.fit(X_train,y_train)"
   ]
  },
  {
   "cell_type": "code",
   "execution_count": null,
   "metadata": {},
   "outputs": [],
   "source": [
    "#예측정확도 확인\n",
    "print(model.score(X_train,y_train))\n",
    "print(model.score(X_test,y_test))\n",
    "#언더샘플링\n",
    "# 0.8354922279792746\n",
    "# 0.8556701030927835"
   ]
  },
  {
   "cell_type": "code",
   "execution_count": null,
   "metadata": {},
   "outputs": [],
   "source": [
    "from sklearn.tree import export_graphviz\n",
    "import pydotplus \n",
    "import graphviz\n",
    "from IPython.display import Image\n",
    "\n",
    "dot_data=export_graphviz(model,out_file=None,\n",
    "    feature_names=train_cols, class_names=[\"0\",\"1\"],\n",
    "    filled=True, rounded=True, special_characters=True)\n",
    "graph=pydotplus.graph_from_dot_data(dot_data)    \n",
    "Image(graph.create_png())"
   ]
  },
  {
   "cell_type": "code",
   "execution_count": null,
   "metadata": {},
   "outputs": [],
   "source": [
    "%matplotlib inline\n",
    "import numpy as np\n",
    "import matplotlib.pyplot as plt\n",
    "from matplotlib import font_manager,rc\n",
    "font_name=font_manager.FontProperties(fname=\"c:/windows/fonts/malgun.ttf\").get_name()\n",
    "rc(\"font\",family=font_name)\n",
    "\n",
    "def plot_tree(model):\n",
    "    n_features=X.shape[1] #독립변수의 갯수\n",
    "    plt.rcParams[\"figure.figsize\"]=(16,9) #그래프의 가로,세로 인치\n",
    "    plt.rcParams[\"font.size\"]=17 #그래프의 폰트 사이즈\n",
    "    plt.barh(range(n_features),model.feature_importances_,\n",
    "             align=\"center\")\n",
    "    plt.yticks(np.arange(n_features),train_cols) \n",
    "    plt.xlabel(\"특성 중요도\")\n",
    "    plt.ylabel(\"특성\")\n",
    "    plt.ylim(-1,n_features)\n",
    "    \n",
    "plot_tree(model)     #특성 중요도 그래프 출력\n",
    "# 언더샘플링 : Day Charge > CustServ Calls > Int'l Plan"
   ]
  },
  {
   "cell_type": "code",
   "execution_count": null,
   "metadata": {},
   "outputs": [],
   "source": [
    "from sklearn.ensemble import RandomForestClassifier\n",
    "#랜덤포레스트 모델 생성\n",
    "#n_estimators : 트리갯수\n",
    "forest=RandomForestClassifier(\n",
    "    n_estimators=100,random_state=100,max_depth=4)\n",
    "forest.fit(X_train, y_train)  #모델 훈련"
   ]
  },
  {
   "cell_type": "code",
   "execution_count": null,
   "metadata": {},
   "outputs": [],
   "source": [
    "print(forest.score(X_train,y_train)) #학습용 데이터셋의 정확도\n",
    "print(forest.score(X_test,y_test)) #검증용 데이터셋의 정확도\n",
    "#언더샘플링\n",
    "# 0.8989637305699482\n",
    "# 0.8814432989690721"
   ]
  },
  {
   "cell_type": "code",
   "execution_count": null,
   "metadata": {},
   "outputs": [],
   "source": [
    "plot_tree(forest) #트리보다 좀더 다양한 시각으로 데이터를 분석\n",
    "#언더샘플링\n",
    "#CustServ Calls > Day Charge > Day Mins"
   ]
  },
  {
   "cell_type": "code",
   "execution_count": null,
   "metadata": {},
   "outputs": [],
   "source": []
  }
 ],
 "metadata": {
  "kernelspec": {
   "display_name": "Python 3",
   "language": "python",
   "name": "python3"
  },
  "language_info": {
   "codemirror_mode": {
    "name": "ipython",
    "version": 3
   },
   "file_extension": ".py",
   "mimetype": "text/x-python",
   "name": "python",
   "nbconvert_exporter": "python",
   "pygments_lexer": "ipython3",
   "version": "3.7.3"
  }
 },
 "nbformat": 4,
 "nbformat_minor": 2
}
