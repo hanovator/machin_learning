{
 "cells": [
  {
   "cell_type": "code",
   "execution_count": 6,
   "metadata": {},
   "outputs": [],
   "source": [
    "%matplotlib inline\n",
    "import pandas as pd\n",
    "import matplotlib.pyplot as plt\n",
    "import statsmodels.api as sm\n",
    "from matplotlib import font_manager,rc\n",
    "font_name=font_manager.FontProperties(\n",
    "    fname=\"c:/windows/fonts/malgun.ttf\").get_name()\n",
    "rc(\"font\",family=font_name)"
   ]
  },
  {
   "cell_type": "code",
   "execution_count": 7,
   "metadata": {},
   "outputs": [
    {
     "data": {
      "text/html": [
       "<div>\n",
       "<style scoped>\n",
       "    .dataframe tbody tr th:only-of-type {\n",
       "        vertical-align: middle;\n",
       "    }\n",
       "\n",
       "    .dataframe tbody tr th {\n",
       "        vertical-align: top;\n",
       "    }\n",
       "\n",
       "    .dataframe thead th {\n",
       "        text-align: right;\n",
       "    }\n",
       "</style>\n",
       "<table border=\"1\" class=\"dataframe\">\n",
       "  <thead>\n",
       "    <tr style=\"text-align: right;\">\n",
       "      <th></th>\n",
       "      <th>Ozone</th>\n",
       "      <th>Solar.R</th>\n",
       "      <th>Wind</th>\n",
       "      <th>Temp</th>\n",
       "      <th>Result</th>\n",
       "    </tr>\n",
       "  </thead>\n",
       "  <tbody>\n",
       "    <tr>\n",
       "      <th>0</th>\n",
       "      <td>7</td>\n",
       "      <td>185</td>\n",
       "      <td>6.9</td>\n",
       "      <td>74</td>\n",
       "      <td>0</td>\n",
       "    </tr>\n",
       "    <tr>\n",
       "      <th>1</th>\n",
       "      <td>28</td>\n",
       "      <td>185</td>\n",
       "      <td>14.9</td>\n",
       "      <td>66</td>\n",
       "      <td>0</td>\n",
       "    </tr>\n",
       "    <tr>\n",
       "      <th>2</th>\n",
       "      <td>35</td>\n",
       "      <td>185</td>\n",
       "      <td>7.4</td>\n",
       "      <td>85</td>\n",
       "      <td>0</td>\n",
       "    </tr>\n",
       "    <tr>\n",
       "      <th>3</th>\n",
       "      <td>66</td>\n",
       "      <td>185</td>\n",
       "      <td>4.6</td>\n",
       "      <td>87</td>\n",
       "      <td>1</td>\n",
       "    </tr>\n",
       "    <tr>\n",
       "      <th>4</th>\n",
       "      <td>78</td>\n",
       "      <td>185</td>\n",
       "      <td>6.9</td>\n",
       "      <td>86</td>\n",
       "      <td>1</td>\n",
       "    </tr>\n",
       "  </tbody>\n",
       "</table>\n",
       "</div>"
      ],
      "text/plain": [
       "   Ozone  Solar.R  Wind  Temp  Result\n",
       "0      7      185   6.9    74       0\n",
       "1     28      185  14.9    66       0\n",
       "2     35      185   7.4    85       0\n",
       "3     66      185   4.6    87       1\n",
       "4     78      185   6.9    86       1"
      ]
     },
     "execution_count": 7,
     "metadata": {},
     "output_type": "execute_result"
    }
   ],
   "source": [
    "df=pd.read_csv(\"d:/learn/python_statistic/data/ozone2.csv\") #데이터파일 로딩\n",
    "df.head()"
   ]
  },
  {
   "cell_type": "code",
   "execution_count": 8,
   "metadata": {},
   "outputs": [
    {
     "data": {
      "text/plain": [
       "Index(['Ozone', 'Solar.R', 'Wind', 'Temp', 'Result'], dtype='object')"
      ]
     },
     "execution_count": 8,
     "metadata": {},
     "output_type": "execute_result"
    }
   ],
   "source": [
    "df.columns #필드 목록"
   ]
  },
  {
   "cell_type": "code",
   "execution_count": 9,
   "metadata": {},
   "outputs": [
    {
     "data": {
      "text/plain": [
       "(153, 5)"
      ]
     },
     "execution_count": 9,
     "metadata": {},
     "output_type": "execute_result"
    }
   ],
   "source": [
    "df.shape #데이터의 형태(차원) "
   ]
  },
  {
   "cell_type": "code",
   "execution_count": 10,
   "metadata": {},
   "outputs": [
    {
     "data": {
      "text/html": [
       "<div>\n",
       "<style scoped>\n",
       "    .dataframe tbody tr th:only-of-type {\n",
       "        vertical-align: middle;\n",
       "    }\n",
       "\n",
       "    .dataframe tbody tr th {\n",
       "        vertical-align: top;\n",
       "    }\n",
       "\n",
       "    .dataframe thead th {\n",
       "        text-align: right;\n",
       "    }\n",
       "</style>\n",
       "<table border=\"1\" class=\"dataframe\">\n",
       "  <thead>\n",
       "    <tr style=\"text-align: right;\">\n",
       "      <th></th>\n",
       "      <th>Ozone</th>\n",
       "      <th>Solar.R</th>\n",
       "      <th>Wind</th>\n",
       "      <th>Temp</th>\n",
       "      <th>Result</th>\n",
       "    </tr>\n",
       "  </thead>\n",
       "  <tbody>\n",
       "    <tr>\n",
       "      <th>count</th>\n",
       "      <td>153.000000</td>\n",
       "      <td>153.000000</td>\n",
       "      <td>153.000000</td>\n",
       "      <td>153.000000</td>\n",
       "      <td>153.000000</td>\n",
       "    </tr>\n",
       "    <tr>\n",
       "      <th>mean</th>\n",
       "      <td>42.098039</td>\n",
       "      <td>185.888889</td>\n",
       "      <td>9.957516</td>\n",
       "      <td>77.882353</td>\n",
       "      <td>0.529412</td>\n",
       "    </tr>\n",
       "    <tr>\n",
       "      <th>std</th>\n",
       "      <td>28.693426</td>\n",
       "      <td>87.960484</td>\n",
       "      <td>3.523001</td>\n",
       "      <td>9.465270</td>\n",
       "      <td>0.500773</td>\n",
       "    </tr>\n",
       "    <tr>\n",
       "      <th>min</th>\n",
       "      <td>1.000000</td>\n",
       "      <td>7.000000</td>\n",
       "      <td>1.700000</td>\n",
       "      <td>56.000000</td>\n",
       "      <td>0.000000</td>\n",
       "    </tr>\n",
       "    <tr>\n",
       "      <th>25%</th>\n",
       "      <td>21.000000</td>\n",
       "      <td>120.000000</td>\n",
       "      <td>7.400000</td>\n",
       "      <td>72.000000</td>\n",
       "      <td>0.000000</td>\n",
       "    </tr>\n",
       "    <tr>\n",
       "      <th>50%</th>\n",
       "      <td>42.000000</td>\n",
       "      <td>194.000000</td>\n",
       "      <td>9.700000</td>\n",
       "      <td>79.000000</td>\n",
       "      <td>1.000000</td>\n",
       "    </tr>\n",
       "    <tr>\n",
       "      <th>75%</th>\n",
       "      <td>46.000000</td>\n",
       "      <td>256.000000</td>\n",
       "      <td>11.500000</td>\n",
       "      <td>85.000000</td>\n",
       "      <td>1.000000</td>\n",
       "    </tr>\n",
       "    <tr>\n",
       "      <th>max</th>\n",
       "      <td>168.000000</td>\n",
       "      <td>334.000000</td>\n",
       "      <td>20.700000</td>\n",
       "      <td>97.000000</td>\n",
       "      <td>1.000000</td>\n",
       "    </tr>\n",
       "  </tbody>\n",
       "</table>\n",
       "</div>"
      ],
      "text/plain": [
       "            Ozone     Solar.R        Wind        Temp      Result\n",
       "count  153.000000  153.000000  153.000000  153.000000  153.000000\n",
       "mean    42.098039  185.888889    9.957516   77.882353    0.529412\n",
       "std     28.693426   87.960484    3.523001    9.465270    0.500773\n",
       "min      1.000000    7.000000    1.700000   56.000000    0.000000\n",
       "25%     21.000000  120.000000    7.400000   72.000000    0.000000\n",
       "50%     42.000000  194.000000    9.700000   79.000000    1.000000\n",
       "75%     46.000000  256.000000   11.500000   85.000000    1.000000\n",
       "max    168.000000  334.000000   20.700000   97.000000    1.000000"
      ]
     },
     "execution_count": 10,
     "metadata": {},
     "output_type": "execute_result"
    }
   ],
   "source": [
    "df.describe() #기초통계량"
   ]
  },
  {
   "cell_type": "code",
   "execution_count": 11,
   "metadata": {},
   "outputs": [
    {
     "data": {
      "text/html": [
       "<div>\n",
       "<style scoped>\n",
       "    .dataframe tbody tr th:only-of-type {\n",
       "        vertical-align: middle;\n",
       "    }\n",
       "\n",
       "    .dataframe tbody tr th {\n",
       "        vertical-align: top;\n",
       "    }\n",
       "\n",
       "    .dataframe thead th {\n",
       "        text-align: right;\n",
       "    }\n",
       "</style>\n",
       "<table border=\"1\" class=\"dataframe\">\n",
       "  <thead>\n",
       "    <tr style=\"text-align: right;\">\n",
       "      <th></th>\n",
       "      <th>Ozone</th>\n",
       "      <th>Solar.R</th>\n",
       "      <th>Wind</th>\n",
       "      <th>Temp</th>\n",
       "    </tr>\n",
       "    <tr>\n",
       "      <th>Result</th>\n",
       "      <th></th>\n",
       "      <th></th>\n",
       "      <th></th>\n",
       "      <th></th>\n",
       "    </tr>\n",
       "  </thead>\n",
       "  <tbody>\n",
       "    <tr>\n",
       "      <th>0</th>\n",
       "      <td>20.902778</td>\n",
       "      <td>166.263889</td>\n",
       "      <td>11.270833</td>\n",
       "      <td>72.652778</td>\n",
       "    </tr>\n",
       "    <tr>\n",
       "      <th>1</th>\n",
       "      <td>60.938272</td>\n",
       "      <td>203.333333</td>\n",
       "      <td>8.790123</td>\n",
       "      <td>82.530864</td>\n",
       "    </tr>\n",
       "  </tbody>\n",
       "</table>\n",
       "</div>"
      ],
      "text/plain": [
       "            Ozone     Solar.R       Wind       Temp\n",
       "Result                                             \n",
       "0       20.902778  166.263889  11.270833  72.652778\n",
       "1       60.938272  203.333333   8.790123  82.530864"
      ]
     },
     "execution_count": 11,
     "metadata": {},
     "output_type": "execute_result"
    }
   ],
   "source": [
    "df.groupby(\"Result\").mean()  #Result 필드 기준 평균값"
   ]
  },
  {
   "cell_type": "code",
   "execution_count": 12,
   "metadata": {},
   "outputs": [
    {
     "data": {
      "text/plain": [
       "Text(0, 0.5, '빈도')"
      ]
     },
     "execution_count": 12,
     "metadata": {},
     "output_type": "execute_result"
    },
    {
     "data": {
      "image/png": "[encoded data removed]",
      "text/plain": [
       "<Figure size 432x288 with 1 Axes>"
      ]
     },
     "metadata": {
      "needs_background": "light"
     },
     "output_type": "display_data"
    }
   ],
   "source": [
    "#히스토그램 출력\n",
    "df[\"Solar.R\"].hist()\n",
    "plt.xlabel(\"일조량\")\n",
    "plt.ylabel(\"빈도\")"
   ]
  },
  {
   "cell_type": "code",
   "execution_count": 13,
   "metadata": {},
   "outputs": [
    {
     "data": {
      "text/plain": [
       "Text(0, 0.5, '빈도')"
      ]
     },
     "execution_count": 13,
     "metadata": {},
     "output_type": "execute_result"
    },
    {
     "data": {
      "image/png": "[encoded data removed]",
      "text/plain": [
       "<Figure size 432x288 with 1 Axes>"
      ]
     },
     "metadata": {
      "needs_background": "light"
     },
     "output_type": "display_data"
    }
   ],
   "source": [
    "df[\"Wind\"].hist()\n",
    "plt.xlabel(\"풍량\")\n",
    "plt.ylabel(\"빈도\")"
   ]
  },
  {
   "cell_type": "code",
   "execution_count": 14,
   "metadata": {},
   "outputs": [
    {
     "data": {
      "text/plain": [
       "Text(0, 0.5, '빈도')"
      ]
     },
     "execution_count": 14,
     "metadata": {},
     "output_type": "execute_result"
    },
    {
     "data": {
      "image/png": "[encoded data removed]",
      "text/plain": [
       "<Figure size 432x288 with 1 Axes>"
      ]
     },
     "metadata": {
      "needs_background": "light"
     },
     "output_type": "display_data"
    }
   ],
   "source": [
    "df[\"Temp\"].hist()\n",
    "plt.xlabel(\"온도\")\n",
    "plt.ylabel(\"빈도\")"
   ]
  },
  {
   "cell_type": "code",
   "execution_count": 15,
   "metadata": {},
   "outputs": [
    {
     "data": {
      "text/plain": [
       "1    81\n",
       "0    72\n",
       "Name: Result, dtype: int64"
      ]
     },
     "execution_count": 15,
     "metadata": {},
     "output_type": "execute_result"
    }
   ],
   "source": [
    "df[\"Result\"].value_counts() #0,1 클래스별 샘플 갯수"
   ]
  },
  {
   "cell_type": "code",
   "execution_count": 16,
   "metadata": {},
   "outputs": [
    {
     "data": {
      "text/plain": [
       "Text(0.5, 1.0, '분류\\n(0:부족, 1:정상)')"
      ]
     },
     "execution_count": 16,
     "metadata": {},
     "output_type": "execute_result"
    },
    {
     "data": {
      "image/png": "[encoded data removed]",
      "text/plain": [
       "<Figure size 432x288 with 1 Axes>"
      ]
     },
     "metadata": {
      "needs_background": "light"
     },
     "output_type": "display_data"
    }
   ],
   "source": [
    "import seaborn as sns\n",
    "colors=[\"yellow\",\"red\"] #색상 설정\n",
    "sns.countplot(\"Result\",data=df, palette=colors) #클래스별 카운트\n",
    "plt.title(\"분류\\n(0:부족, 1:정상)\",fontsize=14)"
   ]
  },
  {
   "cell_type": "code",
   "execution_count": 17,
   "metadata": {},
   "outputs": [],
   "source": [
    "#언더샘플링 더 작은 값들에 맞춤  ex) 72에 맞춤\n",
    "from imblearn.under_sampling import RandomUnderSampler\n",
    "\n",
    "cols=[\"Solar.R\", \"Wind\", \"Temp\"] #독립변수 필드선택\n",
    "X=df[cols] #독립변수\n",
    "y=df[\"Result\"] #종속변수(0,1)\n",
    "\n",
    "#언더샘플링(샘플수가 적은 데이터를 기준으로 샘플링)\n",
    "# random_state=0 : seed 고정\n",
    "X_sample,y_sample=RandomUnderSampler(random_state=0).fit_sample(X,y)\n",
    "# x,y 데이터프레임을 연결시킴\n",
    "X_samp=pd.DataFrame(data=X_sample, columns=cols)\n",
    "y_samp=pd.DataFrame(data=y_sample, columns=[\"Result\"])\n",
    "df2=pd.concat([X_samp,y_samp],axis=1) # 두 열을 합친다"
   ]
  },
  {
   "cell_type": "code",
   "execution_count": 18,
   "metadata": {},
   "outputs": [
    {
     "data": {
      "text/plain": [
       "1    72\n",
       "0    72\n",
       "Name: Result, dtype: int64"
      ]
     },
     "execution_count": 18,
     "metadata": {},
     "output_type": "execute_result"
    }
   ],
   "source": [
    "df2[\"Result\"].value_counts() #클래스별 샘플 갯수 확인"
   ]
  },
  {
   "cell_type": "code",
   "execution_count": 19,
   "metadata": {},
   "outputs": [
    {
     "data": {
      "text/plain": [
       "Text(0.5, 1.0, '분류\\n(0:부족, 1:정상)')"
      ]
     },
     "execution_count": 19,
     "metadata": {},
     "output_type": "execute_result"
    },
    {
     "data": {
      "image/png": "[encoded data removed]",
      "text/plain": [
       "<Figure size 432x288 with 1 Axes>"
      ]
     },
     "metadata": {
      "needs_background": "light"
     },
     "output_type": "display_data"
    }
   ],
   "source": [
    "import seaborn as sns\n",
    "colors=[\"yellow\",\"red\"] #색상 설정\n",
    "sns.countplot(\"Result\",data=df2, palette=colors) #클래스별 카운트\n",
    "plt.title(\"분류\\n(0:부족, 1:정상)\",fontsize=14)"
   ]
  },
  {
   "cell_type": "code",
   "execution_count": 20,
   "metadata": {},
   "outputs": [
    {
     "name": "stdout",
     "output_type": "stream",
     "text": [
      "Optimization terminated successfully.\n",
      "         Current function value: 0.572473\n",
      "         Iterations 5\n"
     ]
    },
    {
     "data": {
      "text/html": [
       "<table class=\"simpletable\">\n",
       "<tr>\n",
       "        <td>Model:</td>              <td>Logit</td>      <td>Pseudo R-squared:</td>    <td>0.172</td>  \n",
       "</tr>\n",
       "<tr>\n",
       "  <td>Dependent Variable:</td>      <td>Result</td>            <td>AIC:</td>         <td>181.1768</td> \n",
       "</tr>\n",
       "<tr>\n",
       "         <td>Date:</td>        <td>2019-08-22 09:56</td>       <td>BIC:</td>         <td>190.2681</td> \n",
       "</tr>\n",
       "<tr>\n",
       "   <td>No. Observations:</td>         <td>153</td>        <td>Log-Likelihood:</td>    <td>-87.588</td> \n",
       "</tr>\n",
       "<tr>\n",
       "       <td>Df Model:</td>              <td>2</td>            <td>LL-Null:</td>        <td>-105.79</td> \n",
       "</tr>\n",
       "<tr>\n",
       "     <td>Df Residuals:</td>           <td>150</td>         <td>LLR p-value:</td>    <td>1.2491e-08</td>\n",
       "</tr>\n",
       "<tr>\n",
       "      <td>Converged:</td>           <td>1.0000</td>           <td>Scale:</td>         <td>1.0000</td>  \n",
       "</tr>\n",
       "<tr>\n",
       "    <td>No. Iterations:</td>        <td>5.0000</td>              <td></td>               <td></td>     \n",
       "</tr>\n",
       "</table>\n",
       "<table class=\"simpletable\">\n",
       "<tr>\n",
       "     <td></td>      <th>Coef.</th>  <th>Std.Err.</th>    <th>z</th>     <th>P>|z|</th> <th>[0.025</th>  <th>0.975]</th> \n",
       "</tr>\n",
       "<tr>\n",
       "  <th>Solar.R</th> <td>0.0031</td>   <td>0.0021</td>  <td>1.4453</td>  <td>0.1484</td> <td>-0.0011</td> <td>0.0073</td> \n",
       "</tr>\n",
       "<tr>\n",
       "  <th>Wind</th>    <td>-0.2695</td>  <td>0.0543</td>  <td>-4.9647</td> <td>0.0000</td> <td>-0.3759</td> <td>-0.1631</td>\n",
       "</tr>\n",
       "<tr>\n",
       "  <th>Temp</th>    <td>0.0295</td>   <td>0.0083</td>  <td>3.5652</td>  <td>0.0004</td> <td>0.0133</td>  <td>0.0457</td> \n",
       "</tr>\n",
       "</table>"
      ],
      "text/plain": [
       "<class 'statsmodels.iolib.summary2.Summary'>\n",
       "\"\"\"\n",
       "                         Results: Logit\n",
       "=================================================================\n",
       "Model:              Logit            Pseudo R-squared: 0.172     \n",
       "Dependent Variable: Result           AIC:              181.1768  \n",
       "Date:               2019-08-22 09:56 BIC:              190.2681  \n",
       "No. Observations:   153              Log-Likelihood:   -87.588   \n",
       "Df Model:           2                LL-Null:          -105.79   \n",
       "Df Residuals:       150              LLR p-value:      1.2491e-08\n",
       "Converged:          1.0000           Scale:            1.0000    \n",
       "No. Iterations:     5.0000                                       \n",
       "-------------------------------------------------------------------\n",
       "           Coef.    Std.Err.      z      P>|z|     [0.025    0.975]\n",
       "-------------------------------------------------------------------\n",
       "Solar.R    0.0031     0.0021    1.4453   0.1484   -0.0011    0.0073\n",
       "Wind      -0.2695     0.0543   -4.9647   0.0000   -0.3759   -0.1631\n",
       "Temp       0.0295     0.0083    3.5652   0.0004    0.0133    0.0457\n",
       "=================================================================\n",
       "\n",
       "\"\"\""
      ]
     },
     "execution_count": 20,
     "metadata": {},
     "output_type": "execute_result"
    }
   ],
   "source": [
    "import statsmodels.api as sm\n",
    "\n",
    "model=sm.Logit(y,X) #로지스틱 회귀분석 모델 생성\n",
    "result=model.fit() #모델 훈련(학습)\n",
    "result.summary2() #요약표\n",
    "#모델의 설명력 17.2%\n",
    "#유의하지 않은 변수\n",
    "#변수의 중요도"
   ]
  },
  {
   "cell_type": "code",
   "execution_count": 21,
   "metadata": {},
   "outputs": [],
   "source": [
    "#유의하지 않은 변수 제거\n",
    "cols=[\"Wind\",\"Temp\"]\n",
    "X=X_samp[cols]\n",
    "y=y_samp[\"Result\"]\n",
    "df2=pd.concat([X,y],axis=1)"
   ]
  },
  {
   "cell_type": "code",
   "execution_count": 22,
   "metadata": {},
   "outputs": [
    {
     "name": "stdout",
     "output_type": "stream",
     "text": [
      "Optimization terminated successfully.\n",
      "         Current function value: 0.573751\n",
      "         Iterations 5\n"
     ]
    },
    {
     "data": {
      "text/html": [
       "<table class=\"simpletable\">\n",
       "<tr>\n",
       "        <td>Model:</td>              <td>Logit</td>      <td>Pseudo R-squared:</td>    <td>0.172</td>  \n",
       "</tr>\n",
       "<tr>\n",
       "  <td>Dependent Variable:</td>      <td>Result</td>            <td>AIC:</td>         <td>169.2402</td> \n",
       "</tr>\n",
       "<tr>\n",
       "         <td>Date:</td>        <td>2019-08-22 09:56</td>       <td>BIC:</td>         <td>175.1799</td> \n",
       "</tr>\n",
       "<tr>\n",
       "   <td>No. Observations:</td>         <td>144</td>        <td>Log-Likelihood:</td>    <td>-82.620</td> \n",
       "</tr>\n",
       "<tr>\n",
       "       <td>Df Model:</td>              <td>1</td>            <td>LL-Null:</td>        <td>-99.813</td> \n",
       "</tr>\n",
       "<tr>\n",
       "     <td>Df Residuals:</td>           <td>142</td>         <td>LLR p-value:</td>    <td>4.5193e-09</td>\n",
       "</tr>\n",
       "<tr>\n",
       "      <td>Converged:</td>           <td>1.0000</td>           <td>Scale:</td>         <td>1.0000</td>  \n",
       "</tr>\n",
       "<tr>\n",
       "    <td>No. Iterations:</td>        <td>5.0000</td>              <td></td>               <td></td>     \n",
       "</tr>\n",
       "</table>\n",
       "<table class=\"simpletable\">\n",
       "<tr>\n",
       "    <td></td>    <th>Coef.</th>  <th>Std.Err.</th>    <th>z</th>     <th>P>|z|</th> <th>[0.025</th>  <th>0.975]</th> \n",
       "</tr>\n",
       "<tr>\n",
       "  <th>Wind</th> <td>-0.2781</td>  <td>0.0565</td>  <td>-4.9198</td> <td>0.0000</td> <td>-0.3889</td> <td>-0.1673</td>\n",
       "</tr>\n",
       "<tr>\n",
       "  <th>Temp</th> <td>0.0361</td>   <td>0.0074</td>  <td>4.8750</td>  <td>0.0000</td> <td>0.0216</td>  <td>0.0507</td> \n",
       "</tr>\n",
       "</table>"
      ],
      "text/plain": [
       "<class 'statsmodels.iolib.summary2.Summary'>\n",
       "\"\"\"\n",
       "                         Results: Logit\n",
       "=================================================================\n",
       "Model:              Logit            Pseudo R-squared: 0.172     \n",
       "Dependent Variable: Result           AIC:              169.2402  \n",
       "Date:               2019-08-22 09:56 BIC:              175.1799  \n",
       "No. Observations:   144              Log-Likelihood:   -82.620   \n",
       "Df Model:           1                LL-Null:          -99.813   \n",
       "Df Residuals:       142              LLR p-value:      4.5193e-09\n",
       "Converged:          1.0000           Scale:            1.0000    \n",
       "No. Iterations:     5.0000                                       \n",
       "-------------------------------------------------------------------\n",
       "           Coef.    Std.Err.      z      P>|z|     [0.025    0.975]\n",
       "-------------------------------------------------------------------\n",
       "Wind      -0.2781     0.0565   -4.9198   0.0000   -0.3889   -0.1673\n",
       "Temp       0.0361     0.0074    4.8750   0.0000    0.0216    0.0507\n",
       "=================================================================\n",
       "\n",
       "\"\"\""
      ]
     },
     "execution_count": 22,
     "metadata": {},
     "output_type": "execute_result"
    }
   ],
   "source": [
    "import statsmodels.api as sm\n",
    "\n",
    "model=sm.Logit(y,X) #로지스틱 회귀분석 모델 생성\n",
    "result=model.fit() #모델 훈련(학습)\n",
    "result.summary2() #요약표\n",
    "#모델의 설명력 16.7%(개선되지 않음)\n",
    "#유의하지 않은 변수 : 모든 변수가 유의함\n",
    "#변수의 중요도 : 풍량 > 온도"
   ]
  },
  {
   "cell_type": "code",
   "execution_count": 29,
   "metadata": {},
   "outputs": [
    {
     "name": "stdout",
     "output_type": "stream",
     "text": [
      "18     0\n",
      "71     0\n",
      "27     0\n",
      "141    1\n",
      "2      0\n",
      "60     0\n",
      "10     0\n",
      "76     1\n",
      "105    1\n",
      "56     0\n",
      "108    1\n",
      "61     0\n",
      "44     0\n",
      "66     0\n",
      "112    1\n",
      "95     1\n",
      "92     1\n",
      "50     0\n",
      "30     0\n",
      "131    1\n",
      "83     1\n",
      "98     1\n",
      "62     0\n",
      "122    1\n",
      "90     1\n",
      "113    1\n",
      "48     0\n",
      "138    1\n",
      "73     1\n",
      "13     0\n",
      "      ..\n",
      "130    1\n",
      "99     1\n",
      "82     1\n",
      "64     0\n",
      "143    1\n",
      "79     1\n",
      "69     0\n",
      "123    1\n",
      "80     1\n",
      "115    1\n",
      "20     0\n",
      "139    1\n",
      "72     1\n",
      "77     1\n",
      "25     0\n",
      "81     1\n",
      "134    1\n",
      "136    1\n",
      "39     0\n",
      "58     0\n",
      "88     1\n",
      "70     0\n",
      "87     1\n",
      "36     0\n",
      "21     0\n",
      "9      0\n",
      "103    1\n",
      "67     0\n",
      "117    1\n",
      "47     0\n",
      "Name: Result, Length: 115, dtype: int64\n"
     ]
    },
    {
     "name": "stderr",
     "output_type": "stream",
     "text": [
      "C:\\Anaconda3\\lib\\site-packages\\sklearn\\linear_model\\logistic.py:432: FutureWarning: Default solver will be changed to 'lbfgs' in 0.22. Specify a solver to silence this warning.\n",
      "  FutureWarning)\n"
     ]
    },
    {
     "data": {
      "text/plain": [
       "LogisticRegression(C=1.0, class_weight=None, dual=False, fit_intercept=True,\n",
       "                   intercept_scaling=1, l1_ratio=None, max_iter=100,\n",
       "                   multi_class='warn', n_jobs=None, penalty='l2',\n",
       "                   random_state=None, solver='warn', tol=0.0001, verbose=0,\n",
       "                   warm_start=False)"
      ]
     },
     "execution_count": 29,
     "metadata": {},
     "output_type": "execute_result"
    }
   ],
   "source": [
    "from sklearn.model_selection import train_test_split\n",
    "from sklearn.linear_model import LogisticRegression\n",
    "from sklearn import metrics\n",
    "\n",
    "#전체 데이터셋을 학습용:검증용 8:2로 구분\n",
    "X_train, X_test, y_train, y_test=train_test_split(X,y,test_size=0.2,random_state=0)\n",
    "\n",
    "model=LogisticRegression() #로지스틱 회귀 모형 생성\n",
    "model.fit(X_train, y_train) #모델 훈련(학습)"
   ]
  },
  {
   "cell_type": "code",
   "execution_count": 24,
   "metadata": {},
   "outputs": [
    {
     "name": "stdout",
     "output_type": "stream",
     "text": [
      "0.7130434782608696\n",
      "0.6206896551724138\n"
     ]
    }
   ],
   "source": [
    "print(model.score(X_train,y_train)) #학습용 데이터셋의 정확도\n",
    "print(model.score(X_test,y_test)) #검증용 데이터셋의 정확도"
   ]
  },
  {
   "cell_type": "code",
   "execution_count": 35,
   "metadata": {},
   "outputs": [
    {
     "name": "stdout",
     "output_type": "stream",
     "text": [
      "0 1 False\n",
      "1 1 True\n",
      "1 1 True\n",
      "0 1 False\n",
      "1 1 True\n",
      "1 1 True\n",
      "0 0 True\n",
      "0 1 False\n",
      "1 0 False\n",
      "0 1 False\n",
      "1 1 True\n",
      "1 1 True\n",
      "0 1 False\n",
      "0 1 False\n",
      "0 1 False\n",
      "0 1 False\n",
      "0 0 True\n",
      "0 0 True\n",
      "1 1 True\n",
      "0 1 False\n",
      "1 1 True\n",
      "1 1 True\n",
      "0 0 True\n",
      "1 1 True\n",
      "0 1 False\n",
      "1 1 True\n",
      "0 0 True\n",
      "1 1 True\n",
      "1 1 True\n"
     ]
    }
   ],
   "source": [
    "pred=model.predict(X_test) #검증용 데이터셋을 입력하여 결과 예측\n",
    "# print(pred==y_test) # 실제값과 맞으면 True 틀리면 False\n",
    "\n",
    "ylist=list(y_test)\n",
    "for idx,val in enumerate(ylist):\n",
    "    print(val,pred[idx],pred[idx]==val)\n"
   ]
  },
  {
   "cell_type": "code",
   "execution_count": 37,
   "metadata": {},
   "outputs": [
    {
     "data": {
      "text/plain": [
       "array([[ 5, 10],\n",
       "       [ 1, 13]], dtype=int64)"
      ]
     },
     "execution_count": 37,
     "metadata": {},
     "output_type": "execute_result"
    }
   ],
   "source": [
    "from sklearn.metrics import confusion_matrix\n",
    "\n",
    "pred=model.predict(X_test) #검증용 데이터를 입력하여 결과값 예측\n",
    "#혼동행렬, 오분류표 출력\n",
    "cm=confusion_matrix(y_test, pred)\n",
    "cm\n",
    "# 0을 0으로 5개 맞추고 0을 1로 10개 틀림\n",
    "# 1을 0으로 1개 틀리고 1을 1로 13개 맞춤"
   ]
  },
  {
   "cell_type": "code",
   "execution_count": 38,
   "metadata": {},
   "outputs": [
    {
     "data": {
      "text/html": [
       "<div>\n",
       "<style scoped>\n",
       "    .dataframe tbody tr th:only-of-type {\n",
       "        vertical-align: middle;\n",
       "    }\n",
       "\n",
       "    .dataframe tbody tr th {\n",
       "        vertical-align: top;\n",
       "    }\n",
       "\n",
       "    .dataframe thead th {\n",
       "        text-align: right;\n",
       "    }\n",
       "</style>\n",
       "<table border=\"1\" class=\"dataframe\">\n",
       "  <thead>\n",
       "    <tr style=\"text-align: right;\">\n",
       "      <th></th>\n",
       "      <th>0</th>\n",
       "      <th>1</th>\n",
       "    </tr>\n",
       "  </thead>\n",
       "  <tbody>\n",
       "    <tr>\n",
       "      <th>0</th>\n",
       "      <td>5</td>\n",
       "      <td>10</td>\n",
       "    </tr>\n",
       "    <tr>\n",
       "      <th>1</th>\n",
       "      <td>1</td>\n",
       "      <td>13</td>\n",
       "    </tr>\n",
       "  </tbody>\n",
       "</table>\n",
       "</div>"
      ],
      "text/plain": [
       "   0   1\n",
       "0  5  10\n",
       "1  1  13"
      ]
     },
     "execution_count": 38,
     "metadata": {},
     "output_type": "execute_result"
    }
   ],
   "source": [
    "df_cm=pd.DataFrame(cm, index=[0,1],columns=[0,1])\n",
    "df_cm"
   ]
  },
  {
   "cell_type": "code",
   "execution_count": 39,
   "metadata": {},
   "outputs": [
    {
     "data": {
      "text/plain": [
       "<matplotlib.axes._subplots.AxesSubplot at 0x196d46c7b00>"
      ]
     },
     "execution_count": 39,
     "metadata": {},
     "output_type": "execute_result"
    },
    {
     "data": {
      "image/png": "[encoded data removed]",
      "text/plain": [
       "<Figure size 648x432 with 2 Axes>"
      ]
     },
     "metadata": {},
     "output_type": "display_data"
    }
   ],
   "source": [
    "sns.set(font_scale=1.4) #폰트 사이즈 설정\n",
    "plt.figure(figsize=(9,6)) #그래프의 가로,세로 사이즈(인치)\n",
    "plt.title(\"Confusion Matrix\") #그래프의 타이틀\n",
    "sns.heatmap(df_cm, annot=True) #혼동행렬 차트"
   ]
  },
  {
   "cell_type": "code",
   "execution_count": 40,
   "metadata": {},
   "outputs": [
    {
     "name": "stdout",
     "output_type": "stream",
     "text": [
      "0 1 False\n",
      "0 0 True\n",
      "0 1 False\n",
      "0 0 True\n",
      "0 1 False\n",
      "0 0 True\n",
      "0 0 True\n",
      "0 1 False\n",
      "0 0 True\n",
      "0 0 True\n",
      "0 0 True\n",
      "0 0 True\n",
      "0 0 True\n",
      "0 1 False\n",
      "0 0 True\n",
      "0 1 False\n",
      "0 1 False\n",
      "0 0 True\n",
      "0 0 True\n",
      "0 0 True\n",
      "0 1 False\n",
      "0 0 True\n",
      "0 1 False\n",
      "0 0 True\n",
      "0 0 True\n",
      "0 0 True\n",
      "0 1 False\n",
      "0 1 False\n",
      "0 0 True\n",
      "0 0 True\n",
      "0 0 True\n",
      "0 1 False\n",
      "0 1 False\n",
      "0 1 False\n",
      "0 0 True\n",
      "0 0 True\n",
      "0 1 False\n",
      "0 0 True\n",
      "0 0 True\n",
      "0 1 False\n",
      "0 1 False\n",
      "0 1 False\n",
      "0 1 False\n",
      "0 1 False\n",
      "0 0 True\n",
      "0 1 False\n",
      "0 1 False\n",
      "0 0 True\n",
      "0 0 True\n",
      "0 0 True\n",
      "0 0 True\n",
      "0 1 False\n",
      "0 1 False\n",
      "0 0 True\n",
      "0 1 False\n",
      "0 1 False\n",
      "0 0 True\n",
      "0 0 True\n",
      "0 0 True\n",
      "0 0 True\n",
      "0 0 True\n",
      "0 0 True\n",
      "0 1 False\n",
      "0 0 True\n",
      "0 0 True\n",
      "0 0 True\n",
      "0 0 True\n",
      "0 0 True\n",
      "0 1 False\n",
      "0 0 True\n",
      "0 0 True\n",
      "0 1 False\n",
      "1 1 True\n",
      "1 1 True\n",
      "1 1 True\n",
      "1 1 True\n",
      "1 0 False\n",
      "1 1 True\n",
      "1 1 True\n",
      "1 1 True\n",
      "1 1 True\n",
      "1 1 True\n",
      "1 1 True\n",
      "1 1 True\n",
      "1 1 True\n",
      "1 1 True\n",
      "1 1 True\n",
      "1 0 False\n",
      "1 1 True\n",
      "1 1 True\n",
      "1 1 True\n",
      "1 0 False\n",
      "1 1 True\n",
      "1 1 True\n",
      "1 0 False\n",
      "1 0 False\n",
      "1 1 True\n",
      "1 1 True\n",
      "1 0 False\n",
      "1 1 True\n",
      "1 1 True\n",
      "1 1 True\n",
      "1 0 False\n",
      "1 1 True\n",
      "1 1 True\n",
      "1 1 True\n",
      "1 1 True\n",
      "1 1 True\n",
      "1 0 False\n",
      "1 1 True\n",
      "1 1 True\n",
      "1 1 True\n",
      "1 1 True\n",
      "1 1 True\n",
      "1 1 True\n",
      "1 1 True\n",
      "1 1 True\n",
      "1 0 False\n",
      "1 1 True\n",
      "1 1 True\n",
      "1 1 True\n",
      "1 0 False\n",
      "1 1 True\n",
      "1 1 True\n",
      "1 1 True\n",
      "1 1 True\n",
      "1 1 True\n",
      "1 1 True\n",
      "1 1 True\n",
      "1 0 False\n",
      "1 1 True\n",
      "1 0 False\n",
      "1 1 True\n",
      "1 1 True\n",
      "1 1 True\n",
      "1 0 False\n",
      "1 0 False\n",
      "1 0 False\n",
      "1 1 True\n",
      "1 1 True\n",
      "1 1 True\n",
      "1 1 True\n",
      "1 1 True\n",
      "1 1 True\n"
     ]
    }
   ],
   "source": [
    "pred=model.predict(X) #검증용 데이터셋을 입력하여 결과 예측\n",
    "ylist=list(y)\n",
    "for idx,val in enumerate(ylist):\n",
    "    print(val,pred[idx],pred[idx]==val)\n"
   ]
  },
  {
   "cell_type": "code",
   "execution_count": null,
   "metadata": {},
   "outputs": [],
   "source": []
  },
  {
   "cell_type": "code",
   "execution_count": null,
   "metadata": {},
   "outputs": [],
   "source": []
  },
  {
   "cell_type": "code",
   "execution_count": null,
   "metadata": {},
   "outputs": [],
   "source": []
  },
  {
   "cell_type": "code",
   "execution_count": null,
   "metadata": {},
   "outputs": [],
   "source": []
  },
  {
   "cell_type": "code",
   "execution_count": null,
   "metadata": {},
   "outputs": [],
   "source": []
  },
  {
   "cell_type": "code",
   "execution_count": null,
   "metadata": {},
   "outputs": [],
   "source": []
  }
 ],
 "metadata": {
  "kernelspec": {
   "display_name": "Python 3",
   "language": "python",
   "name": "python3"
  },
  "language_info": {
   "codemirror_mode": {
    "name": "ipython",
    "version": 3
   },
   "file_extension": ".py",
   "mimetype": "text/x-python",
   "name": "python",
   "nbconvert_exporter": "python",
   "pygments_lexer": "ipython3",
   "version": "3.7.3"
  }
 },
 "nbformat": 4,
 "nbformat_minor": 2
}
