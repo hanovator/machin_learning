{
 "cells": [
  {
   "cell_type": "code",
   "execution_count": 1,
   "metadata": {},
   "outputs": [
    {
     "data": {
      "text/html": [
       "<div>\n",
       "<style scoped>\n",
       "    .dataframe tbody tr th:only-of-type {\n",
       "        vertical-align: middle;\n",
       "    }\n",
       "\n",
       "    .dataframe tbody tr th {\n",
       "        vertical-align: top;\n",
       "    }\n",
       "\n",
       "    .dataframe thead th {\n",
       "        text-align: right;\n",
       "    }\n",
       "</style>\n",
       "<table border=\"1\" class=\"dataframe\">\n",
       "  <thead>\n",
       "    <tr style=\"text-align: right;\">\n",
       "      <th></th>\n",
       "      <th>weekend</th>\n",
       "      <th>num.child</th>\n",
       "      <th>distance</th>\n",
       "      <th>rides</th>\n",
       "      <th>games</th>\n",
       "      <th>wait</th>\n",
       "      <th>clean</th>\n",
       "      <th>overall</th>\n",
       "    </tr>\n",
       "  </thead>\n",
       "  <tbody>\n",
       "    <tr>\n",
       "      <th>0</th>\n",
       "      <td>1</td>\n",
       "      <td>0</td>\n",
       "      <td>114.648259</td>\n",
       "      <td>87</td>\n",
       "      <td>73</td>\n",
       "      <td>60</td>\n",
       "      <td>89</td>\n",
       "      <td>0</td>\n",
       "    </tr>\n",
       "    <tr>\n",
       "      <th>1</th>\n",
       "      <td>1</td>\n",
       "      <td>2</td>\n",
       "      <td>27.014097</td>\n",
       "      <td>87</td>\n",
       "      <td>78</td>\n",
       "      <td>76</td>\n",
       "      <td>87</td>\n",
       "      <td>1</td>\n",
       "    </tr>\n",
       "    <tr>\n",
       "      <th>2</th>\n",
       "      <td>0</td>\n",
       "      <td>1</td>\n",
       "      <td>63.300975</td>\n",
       "      <td>85</td>\n",
       "      <td>80</td>\n",
       "      <td>70</td>\n",
       "      <td>88</td>\n",
       "      <td>1</td>\n",
       "    </tr>\n",
       "    <tr>\n",
       "      <th>3</th>\n",
       "      <td>1</td>\n",
       "      <td>0</td>\n",
       "      <td>25.909931</td>\n",
       "      <td>88</td>\n",
       "      <td>72</td>\n",
       "      <td>66</td>\n",
       "      <td>89</td>\n",
       "      <td>0</td>\n",
       "    </tr>\n",
       "    <tr>\n",
       "      <th>4</th>\n",
       "      <td>0</td>\n",
       "      <td>4</td>\n",
       "      <td>54.718307</td>\n",
       "      <td>84</td>\n",
       "      <td>87</td>\n",
       "      <td>74</td>\n",
       "      <td>87</td>\n",
       "      <td>1</td>\n",
       "    </tr>\n",
       "  </tbody>\n",
       "</table>\n",
       "</div>"
      ],
      "text/plain": [
       "   weekend  num.child    distance  rides  games  wait  clean  overall\n",
       "0        1          0  114.648259     87     73    60     89        0\n",
       "1        1          2   27.014097     87     78    76     87        1\n",
       "2        0          1   63.300975     85     80    70     88        1\n",
       "3        1          0   25.909931     88     72    66     89        0\n",
       "4        0          4   54.718307     84     87    74     87        1"
      ]
     },
     "execution_count": 1,
     "metadata": {},
     "output_type": "execute_result"
    }
   ],
   "source": [
    "import pandas as pd\n",
    "df=pd.read_csv(\"d:/data/rides/rides2.csv\")\n",
    "df.head()"
   ]
  },
  {
   "cell_type": "code",
   "execution_count": 2,
   "metadata": {},
   "outputs": [],
   "source": [
    "train_cols=df.columns[0:7]\n",
    "X=df[train_cols]\n",
    "y=df[\"overall\"]"
   ]
  },
  {
   "cell_type": "code",
   "execution_count": 3,
   "metadata": {},
   "outputs": [],
   "source": [
    "#언더샘플링\n",
    "from imblearn.under_sampling import RandomUnderSampler\n",
    "X_sample,y_sample=RandomUnderSampler(random_state=0).fit_sample(X,y)\n",
    "X_samp=pd.DataFrame(data=X_sample,columns=train_cols)\n",
    "y_samp=pd.DataFrame(data=y_sample,columns=[\"overall\"])\n",
    "df_samp=pd.concat([X_samp,y_samp],axis=1)"
   ]
  },
  {
   "cell_type": "code",
   "execution_count": 4,
   "metadata": {},
   "outputs": [
    {
     "data": {
      "text/plain": [
       "1    245\n",
       "0    245\n",
       "Name: overall, dtype: int64"
      ]
     },
     "execution_count": 4,
     "metadata": {},
     "output_type": "execute_result"
    }
   ],
   "source": [
    "df_samp[\"overall\"].value_counts()"
   ]
  },
  {
   "cell_type": "code",
   "execution_count": 10,
   "metadata": {},
   "outputs": [],
   "source": [
    "X=df_samp[train_cols]\n",
    "y=df_samp[\"overall\"]"
   ]
  },
  {
   "cell_type": "code",
   "execution_count": 11,
   "metadata": {},
   "outputs": [],
   "source": [
    "from sklearn.model_selection import train_test_split\n",
    "X_train,X_test,y_train,y_test=train_test_split(X,y,test_size=0.2,\n",
    "  stratify=y,random_state=0)"
   ]
  },
  {
   "cell_type": "code",
   "execution_count": 12,
   "metadata": {},
   "outputs": [
    {
     "name": "stderr",
     "output_type": "stream",
     "text": [
      "C:\\Anaconda3\\lib\\site-packages\\sklearn\\svm\\base.py:193: FutureWarning: The default value of gamma will change from 'auto' to 'scale' in version 0.22 to account better for unscaled features. Set gamma explicitly to 'auto' or 'scale' to avoid this warning.\n",
      "  \"avoid this warning.\", FutureWarning)\n"
     ]
    },
    {
     "data": {
      "text/plain": [
       "SVC(C=1.0, cache_size=200, class_weight=None, coef0=0.0,\n",
       "    decision_function_shape='ovr', degree=3, gamma='auto_deprecated',\n",
       "    kernel='rbf', max_iter=-1, probability=False, random_state=10,\n",
       "    shrinking=True, tol=0.001, verbose=False)"
      ]
     },
     "execution_count": 12,
     "metadata": {},
     "output_type": "execute_result"
    }
   ],
   "source": [
    "from sklearn.svm import SVC\n",
    "model=SVC(random_state=10) #SVM 모형\n",
    "model.fit(X_train,y_train) #훈련"
   ]
  },
  {
   "cell_type": "code",
   "execution_count": 13,
   "metadata": {},
   "outputs": [
    {
     "name": "stdout",
     "output_type": "stream",
     "text": [
      "1.0\n",
      "0.6428571428571429\n"
     ]
    }
   ],
   "source": [
    "print(model.score(X_train,y_train))\n",
    "print(model.score(X_test,y_test))"
   ]
  },
  {
   "cell_type": "code",
   "execution_count": 14,
   "metadata": {},
   "outputs": [],
   "source": [
    "#변수의 단위가 다르므로 스케일링\n",
    "min_on_training=X_train.min(axis=0)\n",
    "range_on_training=(X_train - min_on_training).max(axis=0)\n",
    "X_train_scaled=(X_train - min_on_training) / range_on_training\n",
    "X_test_scaled=(X_test - min_on_training) / range_on_training"
   ]
  },
  {
   "cell_type": "code",
   "execution_count": 19,
   "metadata": {},
   "outputs": [
    {
     "name": "stdout",
     "output_type": "stream",
     "text": [
      "          weekend   num.child    distance       rides       games        wait  \\\n",
      "count  392.000000  392.000000  392.000000  392.000000  392.000000  392.000000   \n",
      "mean     0.497449    0.340816    0.130895    0.455553    0.524452    0.511726   \n",
      "std      0.500632    0.307398    0.137807    0.208238    0.193344    0.185686   \n",
      "min      0.000000    0.000000    0.000000    0.000000    0.000000    0.000000   \n",
      "25%      0.000000    0.000000    0.043766    0.307692    0.390244    0.368421   \n",
      "50%      0.000000    0.400000    0.077448    0.461538    0.512195    0.526316   \n",
      "75%      1.000000    0.600000    0.176613    0.615385    0.658537    0.649123   \n",
      "max      1.000000    1.000000    1.000000    1.000000    1.000000    1.000000   \n",
      "\n",
      "            clean  \n",
      "count  392.000000  \n",
      "mean     0.530024  \n",
      "std      0.192702  \n",
      "min      0.000000  \n",
      "25%      0.413462  \n",
      "50%      0.538462  \n",
      "75%      0.653846  \n",
      "max      1.000000  \n",
      "         weekend  num.child   distance      rides      games       wait  \\\n",
      "count  98.000000  98.000000  98.000000  98.000000  98.000000  98.000000   \n",
      "mean    0.428571   0.375510   0.139486   0.443485   0.529617   0.478160   \n",
      "std     0.497416   0.269808   0.136304   0.221338   0.215807   0.201820   \n",
      "min     0.000000   0.000000   0.018215  -0.076923   0.048780  -0.017544   \n",
      "25%     0.000000   0.200000   0.047333   0.307692   0.390244   0.355263   \n",
      "50%     0.000000   0.400000   0.098862   0.423077   0.512195   0.464912   \n",
      "75%     1.000000   0.600000   0.170873   0.605769   0.701220   0.627193   \n",
      "max     1.000000   1.000000   0.710325   1.000000   1.048780   1.035088   \n",
      "\n",
      "           clean  \n",
      "count  98.000000  \n",
      "mean    0.536499  \n",
      "std     0.213136  \n",
      "min     0.076923  \n",
      "25%     0.384615  \n",
      "50%     0.500000  \n",
      "75%     0.692308  \n",
      "max     1.000000  \n"
     ]
    }
   ],
   "source": [
    "print(X_train_scaled.describe())\n",
    "print(X_test_scaled.describe())"
   ]
  },
  {
   "cell_type": "code",
   "execution_count": 20,
   "metadata": {},
   "outputs": [
    {
     "name": "stderr",
     "output_type": "stream",
     "text": [
      "C:\\Anaconda3\\lib\\site-packages\\sklearn\\svm\\base.py:193: FutureWarning: The default value of gamma will change from 'auto' to 'scale' in version 0.22 to account better for unscaled features. Set gamma explicitly to 'auto' or 'scale' to avoid this warning.\n",
      "  \"avoid this warning.\", FutureWarning)\n"
     ]
    },
    {
     "data": {
      "text/plain": [
       "SVC(C=1.0, cache_size=200, class_weight=None, coef0=0.0,\n",
       "    decision_function_shape='ovr', degree=3, gamma='auto_deprecated',\n",
       "    kernel='rbf', max_iter=-1, probability=False, random_state=10,\n",
       "    shrinking=True, tol=0.001, verbose=False)"
      ]
     },
     "execution_count": 20,
     "metadata": {},
     "output_type": "execute_result"
    }
   ],
   "source": [
    "model=SVC(random_state=10) #SVM 모형\n",
    "model.fit(X_train_scaled,y_train) #훈련"
   ]
  },
  {
   "cell_type": "code",
   "execution_count": 21,
   "metadata": {},
   "outputs": [
    {
     "name": "stdout",
     "output_type": "stream",
     "text": [
      "0.7831632653061225\n",
      "0.8163265306122449\n"
     ]
    }
   ],
   "source": [
    "print(model.score(X_train_scaled,y_train))\n",
    "print(model.score(X_test_scaled,y_test))"
   ]
  },
  {
   "cell_type": "code",
   "execution_count": 24,
   "metadata": {},
   "outputs": [
    {
     "name": "stdout",
     "output_type": "stream",
     "text": [
      "최적의 C: 100\n",
      "최적의 gamma: 0.01\n",
      "최적의 정확도: 0.826530612244898\n"
     ]
    },
    {
     "data": {
      "text/plain": [
       "<matplotlib.legend.Legend at 0xd0a4ba8>"
      ]
     },
     "execution_count": 24,
     "metadata": {},
     "output_type": "execute_result"
    },
    {
     "data": {
      "image/png": "[encoded data removed]",
      "text/plain": [
       "<Figure size 432x288 with 1 Axes>"
      ]
     },
     "metadata": {
      "needs_background": "light"
     },
     "output_type": "display_data"
    }
   ],
   "source": [
    "#C,gamma value 최적화\n",
    "%matplotlib inline\n",
    "import matplotlib.pyplot as plt\n",
    "import numpy as np\n",
    "train_rate=[] #학습용 데이터셋의 정확도를 저장할 리스트\n",
    "test_rate=[]\n",
    "c_values=[0.001,0.01,0.1,1,10,100,1000] #튜닝할 값들\n",
    "g_values=[0.0001,0.001,0.01,0.1]\n",
    "for n in c_values:\n",
    "    for g in g_values:\n",
    "        model=SVC(C=n,gamma=g,random_state=10) #svm 모형 생성\n",
    "        model.fit(X_train_scaled,y_train)\n",
    "        #산출된 정확도값을 리스트에 추가\n",
    "        train_rate.append([n,g,model.score(X_train_scaled,y_train)])\n",
    "        test_rate.append([n,g,model.score(X_test_scaled,y_test)])\n",
    "        \n",
    "train_arr=np.array(train_rate) #리스트를 넘파이 배열로 변환\n",
    "test_arr=np.array(test_rate)\n",
    "max_rate=np.max(test_arr[:,2]) #가장 높은 정확도\n",
    "idx=np.where(test_arr == max_rate)[0][0] #인덱스 조회\n",
    "print(\"최적의 C:\",test_rate[idx][0])\n",
    "print(\"최적의 gamma:\",test_rate[idx][1])\n",
    "print(\"최적의 정확도:\",test_rate[idx][2])\n",
    "\n",
    "plt.rcParams[\"font.size\"]=15\n",
    "plt.plot(range(len(train_rate)),train_arr[:,2],label=\"Train\")\n",
    "plt.plot(range(len(test_rate)),test_arr[:,2],label=\"Test\")\n",
    "plt.ylabel(\"Accracy\")\n",
    "plt.legend()"
   ]
  },
  {
   "cell_type": "code",
   "execution_count": 25,
   "metadata": {},
   "outputs": [
    {
     "data": {
      "text/plain": [
       "SVC(C=100, cache_size=200, class_weight=None, coef0=0.0,\n",
       "    decision_function_shape='ovr', degree=3, gamma=0.01, kernel='rbf',\n",
       "    max_iter=-1, probability=False, random_state=10, shrinking=True, tol=0.001,\n",
       "    verbose=False)"
      ]
     },
     "execution_count": 25,
     "metadata": {},
     "output_type": "execute_result"
    }
   ],
   "source": [
    "model=SVC(C=100,gamma=0.01,random_state=10) #SVM 모형\n",
    "model.fit(X_train_scaled,y_train) #훈련"
   ]
  },
  {
   "cell_type": "code",
   "execution_count": 26,
   "metadata": {},
   "outputs": [
    {
     "name": "stdout",
     "output_type": "stream",
     "text": [
      "0.7933673469387755\n",
      "0.826530612244898\n"
     ]
    }
   ],
   "source": [
    "print(model.score(X_train_scaled,y_train))\n",
    "print(model.score(X_test_scaled,y_test))"
   ]
  },
  {
   "cell_type": "code",
   "execution_count": null,
   "metadata": {},
   "outputs": [],
   "source": []
  }
 ],
 "metadata": {
  "kernelspec": {
   "display_name": "Python 3",
   "language": "python",
   "name": "python3"
  },
  "language_info": {
   "codemirror_mode": {
    "name": "ipython",
    "version": 3
   },
   "file_extension": ".py",
   "mimetype": "text/x-python",
   "name": "python",
   "nbconvert_exporter": "python",
   "pygments_lexer": "ipython3",
   "version": "3.7.3"
  }
 },
 "nbformat": 4,
 "nbformat_minor": 2
}
