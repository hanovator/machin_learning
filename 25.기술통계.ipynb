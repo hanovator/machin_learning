{
 "cells": [
  {
   "cell_type": "code",
   "execution_count": 6,
   "metadata": {},
   "outputs": [
    {
     "name": "stdout",
     "output_type": "stream",
     "text": [
      "2\n"
     ]
    }
   ],
   "source": [
    "import numpy as np\n",
    "from scipy import stats\n",
    "\n",
    "data = np.array([4,5,6,7,8,3,2,2,2,1,1])\n",
    "\n",
    "a = np.mean(data)\n",
    "b = np.median(data)\n",
    "c = stats.mode(data)\n",
    "\n",
    "print(c[0][0]) # 최빈값"
   ]
  },
  {
   "cell_type": "code",
   "execution_count": 10,
   "metadata": {},
   "outputs": [
    {
     "name": "stdout",
     "output_type": "stream",
     "text": [
      "2.449489742783178\n"
     ]
    }
   ],
   "source": [
    "from statistics import variance, stdev\n",
    "\n",
    "a = variance(data) # 분산\n",
    "b = stdev(data) # 표준편차\n",
    "\n",
    "print(b)"
   ]
  },
  {
   "cell_type": "code",
   "execution_count": 15,
   "metadata": {},
   "outputs": [
    {
     "name": "stdout",
     "output_type": "stream",
     "text": [
      "20% =  2.0\n",
      "80% =  6.0\n",
      "100% =  8.0\n"
     ]
    }
   ],
   "source": [
    "# 백분위수 ex) 20%에 해당하는 값, 80%에 해당하는값\n",
    "for val in [20,80,100]:\n",
    "    d = np.percentile(data,val)\n",
    "    print(str(val)+\"% = \",d)\n"
   ]
  },
  {
   "cell_type": "code",
   "execution_count": 16,
   "metadata": {},
   "outputs": [
    {
     "name": "stdout",
     "output_type": "stream",
     "text": [
      "2.0\n",
      "3.0\n",
      "5.5\n",
      "3.5\n"
     ]
    }
   ],
   "source": [
    "# 사분위수, IQR\n",
    "a,b,c = np.percentile(data, [25,50,75])\n",
    "print(a)\n",
    "print(b)\n",
    "print(c)\n",
    "print(c-a)"
   ]
  },
  {
   "cell_type": "code",
   "execution_count": 17,
   "metadata": {},
   "outputs": [
    {
     "data": {
      "text/plain": [
       "Power_divergenceResult(statistic=14.200000000000001, pvalue=0.014387678176921308)"
      ]
     },
     "execution_count": 17,
     "metadata": {},
     "output_type": "execute_result"
    }
   ],
   "source": [
    "#카이제곱 검정    이산형(범주), 이산형(범주)을 비교\n",
    "import pandas as pd\n",
    "from scipy import stats\n",
    "from numpy import mean\n",
    "\n",
    "#data1과 data2 사이에 유의한 관계가 있는가?\n",
    "#귀무가설 : data1과 data2는 차이가 없다.\n",
    "#대립가설 : data1과 data2는 차이가 있다.\n",
    "\n",
    "data1 = [4,6,17,16,8,9]\n",
    "data2 = [10,10,10,10,10,10]\n",
    "\n",
    "# 검정통계량과 p-value\n",
    "chis = stats.chisquare(data1, data2)\n",
    "chis\n",
    "\n",
    "# p-value가 0.05보다 작으므로 95% 신뢰수준 하에서 유의한 관계가 있다.\n",
    "# 귀무가설 기각, 대립가설 채택\n",
    "# 따라서 data1과 data2는 차이가 있다."
   ]
  },
  {
   "cell_type": "code",
   "execution_count": 31,
   "metadata": {},
   "outputs": [
    {
     "name": "stdout",
     "output_type": "stream",
     "text": [
      "179.33317681769637\n",
      "검정통계량: 3.435, pvalue: 0.003\n"
     ]
    }
   ],
   "source": [
    "# 단일표본 T 검정\n",
    "#귀무가설 : 학생들의 평균키는 175cm이다.\n",
    "#대립가설 : 학생들의 평균키는 175cm가 아니다.\n",
    "\n",
    "import numpy as np\n",
    "from scipy import stats\n",
    "\n",
    "np.random.seed(1) #랜덤값 고정\n",
    "\n",
    "# np.random.normal(평균,표준편차) 20번 for문을 돌린다.\n",
    "heights = [180 + np.random.normal(0,5) for a in range(20)]\n",
    "print(mean(heights))\n",
    "\n",
    "result = stats.ttest_1samp(heights, 175)\n",
    "print(\"검정통계량: %.3f, pvalue: %.3f\" % result)\n",
    "\n",
    "#p-value : 0.05보다 작음\n",
    "#귀무가설 기각, 대립가설 채택\n",
    "#학생들의 평균키는 175cm가 아니다."
   ]
  },
  {
   "cell_type": "code",
   "execution_count": 32,
   "metadata": {},
   "outputs": [],
   "source": [
    "# 독립표본 t검정 (서로다른 2개의 그룹)\n",
    "import numpy as np\n",
    "from scipy import stats\n",
    "np.random.seed(1) #랜덤 시드 고정(같은 결과가 나옴)"
   ]
  },
  {
   "cell_type": "code",
   "execution_count": 37,
   "metadata": {
    "scrolled": true
   },
   "outputs": [
    {
     "name": "stdout",
     "output_type": "stream",
     "text": [
      "Ttest_indResult(statistic=-3.5328383364051623, pvalue=0.001097933069583495)\n"
     ]
    }
   ],
   "source": [
    "# 귀무가설 : 평균이 같다.\n",
    "# 대립가설 : 평균이 같지 않다.\n",
    "# np.random.normal(평균,표준편차)\n",
    "# 표준편차 : 평균에서 흩어져 있는 정도\n",
    "# range(20) : 0~19\n",
    "\n",
    "group1=[170+np.random.normal(0,5) for a in range(20)]\n",
    "group2=[175+np.random.normal(0,10) for a in range(20)]\n",
    "#print(group1)\n",
    "#print(group2)\n",
    "\n",
    "# group1과 group2의 값을 독립표본t검정\n",
    "# 등분산을 가정한경우(분산이 같은경우) f통계로 구분해야한다.\n",
    "result1 = stats.ttest_ind(group1,group2)\n",
    "\n",
    "# 등분산을 가정하지 않은경우(분산이 다른경우) f통계로 구분\n",
    "result2 = stats.ttest_ind(group1,group2, equal_var=False)\n",
    "\n",
    "#검정통계량과 pvalue가 출력됨\n",
    "print(result1)\n",
    "\n",
    "# p-value < 0.05 : 95% 신뢰수준하에서 유의 \n",
    "# p-value < 0.01 : 99% 신뢰수준하에서 유의\n",
    "#0.015277552693410041\n",
    "#결론 : 귀무가설 기각, 대립가설 채택\n",
    "# 두 집단의 평균키가 다르다."
   ]
  },
  {
   "cell_type": "code",
   "execution_count": 41,
   "metadata": {},
   "outputs": [],
   "source": [
    "# 대응표본 t검정 (같은 그룹) before, after\n",
    "\n",
    "#귀무가설 : 다이어트약 복용 전후의 체중 변화가 없다.\n",
    "#대립가설 : 다이어트약 복용 전후의 체중 변화가 있다.\n",
    "\n",
    "import numpy as np\n",
    "from scipy import stats\n",
    "np.random.seed(1)"
   ]
  },
  {
   "cell_type": "code",
   "execution_count": 46,
   "metadata": {},
   "outputs": [
    {
     "name": "stdout",
     "output_type": "stream",
     "text": [
      "Ttest_relResult(statistic=0.5297205147248806, pvalue=0.6024413493374686)\n"
     ]
    }
   ],
   "source": [
    "before = [60 + np.random.normal(0,5) for a in range(20)]\n",
    "after = [w * np.random.normal(0.99, 0.02) for w in before]\n",
    "#print(before)\n",
    "#print(after)\n",
    "\n",
    "result = stats.ttest_rel(before, after)\n",
    "print(result)\n",
    "\n",
    "#pvalue=0.11079038014211379\n",
    "#pvalue가 0.05보다 크므로 귀무가설 채택, 대립가설 기각\n",
    "#결론 : 다이어트약 복용 전후의 체중변화가 없다."
   ]
  },
  {
   "cell_type": "code",
   "execution_count": 48,
   "metadata": {},
   "outputs": [
    {
     "data": {
      "image/png": "[encoded data removed]",
      "text/plain": [
       "<Figure size 432x288 with 1 Axes>"
      ]
     },
     "metadata": {
      "needs_background": "light"
     },
     "output_type": "display_data"
    },
    {
     "name": "stdout",
     "output_type": "stream",
     "text": [
      "4.2210931159803815 0.013933707427484199\n"
     ]
    }
   ],
   "source": [
    "# ANOVA 분석 (그룹이 3개 이상일경우)\n",
    "#귀무가설 : 4가지 교육훈련의 성과가 같다.\n",
    "#대립가설 : 4가지 교육훈련의 성과가 같지 않다.\n",
    "\n",
    "import scipy.stats as stats\n",
    "import pandas as pd\n",
    "import matplotlib.pyplot as plt\n",
    "import numpy as np\n",
    "\n",
    "#a=[66,74,82,75,73,97,87,78]\n",
    "#b=[76,73,81,79,72,91,83,79]\n",
    "#c=[69,72,81,78,72,91,89,71]\n",
    "#d=[61,72,83,74,75,96,87,79]\n",
    "a = [66,74,82,75,73,97,87,78]\n",
    "b = [72,51,59,62,74,64,78,63]\n",
    "c = [61,60,57,60,81,55,70,71]\n",
    "d = [63,61,76,84,58,65,69,80]\n",
    "\n",
    "plot_data=[a,b,c,d]\n",
    "ax = plt.boxplot(plot_data) #박스플롯\n",
    "plt.show()\n",
    "\n",
    "#일원배치 분산분석(아노바분석)\n",
    "F_statistic, pVal = stats.f_oneway(a,b,c,d)\n",
    "print(F_statistic, pVal) # 통계량, p-value\n",
    "\n",
    "# p-value : 0.013933707427484199\n",
    "# 95% 신뢰수준하에서 유의\n",
    "# 99% 신뢰수준하에서 유의하지 않음"
   ]
  },
  {
   "cell_type": "code",
   "execution_count": null,
   "metadata": {},
   "outputs": [],
   "source": []
  },
  {
   "cell_type": "code",
   "execution_count": null,
   "metadata": {},
   "outputs": [],
   "source": []
  },
  {
   "cell_type": "code",
   "execution_count": null,
   "metadata": {},
   "outputs": [],
   "source": []
  },
  {
   "cell_type": "code",
   "execution_count": null,
   "metadata": {},
   "outputs": [],
   "source": []
  }
 ],
 "metadata": {
  "kernelspec": {
   "display_name": "Python 3",
   "language": "python",
   "name": "python3"
  },
  "language_info": {
   "codemirror_mode": {
    "name": "ipython",
    "version": 3
   },
   "file_extension": ".py",
   "mimetype": "text/x-python",
   "name": "python",
   "nbconvert_exporter": "python",
   "pygments_lexer": "ipython3",
   "version": "3.7.3"
  }
 },
 "nbformat": 4,
 "nbformat_minor": 2
}
